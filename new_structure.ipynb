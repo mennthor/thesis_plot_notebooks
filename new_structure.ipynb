{
 "cells": [
  {
   "cell_type": "code",
   "execution_count": null,
   "metadata": {
    "init_cell": true
   },
   "outputs": [],
   "source": [
    "import os\n",
    "import numpy as np\n",
    "import scipy.interpolate as sci\n",
    "import matplotlib.pyplot as plt\n",
    "import json\n",
    "from astropy.time import Time as astrotime\n",
    "\n",
    "import tdepps.model_injection as Inj\n",
    "from tdepps.model_toolkit import (create_run_dict, SignalFluenceInjector,\n",
    "                                  make_rate_records, rebin_rate_rec,\n",
    "                                  UniformTimeSampler, SinusFixedConstRateFunction)\n",
    "\n",
    "secinday = 24. * 60. * 60.\n",
    "rndgen = np.random.RandomState(42439462)\n",
    "print(\"Loaded: \", astrotime.now())\n",
    "\n",
    "tw_id = 20"
   ]
  },
  {
   "cell_type": "markdown",
   "metadata": {
    "heading_collapsed": true
   },
   "source": [
    "## Setup"
   ]
  },
  {
   "cell_type": "code",
   "execution_count": null,
   "metadata": {
    "hidden": true,
    "init_cell": true
   },
   "outputs": [],
   "source": [
    "# ###### Load data for each sample\n",
    "p = \"/Users/tmenne/git/phd/hese_tdepps/data/proc\"\n",
    "exp = {}\n",
    "names = [\"79\", \"86I\", \"86II\", \"86III\"]\n",
    "for key in names[:1]:\n",
    "    exp[key] = np.load(os.path.join(p, \"offdata/{}.npy\".format(key)))\n",
    "    print(\"Loaded exp {}.\".format(os.path.join(p,\n",
    "                                               \"offdata/{}.npy\".format(key))))\n",
    "\n",
    "exp_names = {key: exp_i.dtype.names for key, exp_i in exp.items()}\n",
    "\n",
    "p = \"/Users/tmenne/git/phd/hese_tdepps/data/raw\"\n",
    "mc = {}\n",
    "mc[\"79\"] = np.load(os.path.join(p, \"IC79/IC79_corrected_MC.npy\"))\n",
    "print(\"Loaded mc from: {}\".format(\n",
    "    os.path.join(p, \"IC79/IC79_corrected_MC.npy\")))\n",
    "# mc[\"86I\"] = np.load(os.path.join(p, \"IC86_2011/IC86_corrected_MC.npy\"))\n",
    "# print(\"Loaded mc from: {}\".format(\n",
    "#     os.path.join(p, \"IC79/IC79_corrected_MC.npy\")))\n",
    "# mc[\"86II\"] = np.load(os.path.join(p, \"IC86_2012/IC86-2012_corrected_MC.npy\"))\n",
    "# mc[\"86III\"] = mc[\"86II\"]  # MC is the same here\n",
    "# print(\"Loaded mc from: {} for 86II & 86III\".format(\n",
    "#     os.path.join(p, \"IC86_2012/IC86-2012_corrected_MC.npy\")))\n",
    "\n",
    "# We need \"timeMJD\" as a key, so change the dtype names\n",
    "for mci in mc.values():\n",
    "    if \"timeMJD\" not in mci.dtype.names:\n",
    "        idx = mci.dtype.names.index(\"time\")\n",
    "        mci.dtype.names = (mci.dtype.names[:idx] + (\"timeMJD\",) +\n",
    "                           mci.dtype.names[idx + 1:])\n",
    "\n",
    "\n",
    "# ###### Get prepared run time lists\n",
    "p = \"/Users/tmenne/git/phd/hese_tdepps/data/proc\"\n",
    "rundict = {}\n",
    "\n",
    "rundict[\"79\"] = json.load(open(os.path.join(p, \"goodruns/IC79v24.json\")))\n",
    "# rundict[\"86I\"] = json.load(open(os.path.join(p, \"goodruns/IC86_2011.json\")))\n",
    "# rundict[\"86II\"] = json.load(open(os.path.join(p, \"goodruns/IC86_2012.json\")))\n",
    "# rundict[\"86III\"] = json.load(open(os.path.join(p, \"goodruns/IC86_2013.json\")))\n",
    "\n",
    "print(\"Loaded goodrun dicts from: \" + p + \"/goddruns\")\n",
    "\n",
    "\n",
    "# ###### Load HESE tracks locations\n",
    "p = \"/Users/tmenne/git/phd/hese_tdepps/data/raw\"\n",
    "path = os.path.join(p, \"public_data_release/All_HESE_Events_4_years_tracks.txt\")\n",
    "src_t, src_dec, src_ra = np.loadtxt(path, usecols=[1, 2, 3], unpack=True)\n",
    "src_ra = np.deg2rad(src_ra)\n",
    "src_dec = np.deg2rad(src_dec)\n",
    "\n",
    "names = [\"t\", \"dt0\", \"dt1\", \"ra\", \"dec\", \"w_theo\"]\n",
    "types = len(names) * [np.float]\n",
    "dtype = [(name, typ) for name, typ in zip(names, types)]\n",
    "\n",
    "srcs = {}\n",
    "for key, rl in rundict.items():\n",
    "    runs = rl[\"runs\"]\n",
    "    tmin = np.amin([astrotime(r[\"good_tstart\"]).mjd for r in runs])\n",
    "    tmax = np.amax([astrotime(r[\"good_tstop\"]).mjd for r in runs])\n",
    "    t_mask = (src_t >= tmin) & (src_t <= tmax)\n",
    "\n",
    "    src_ti = src_t[t_mask]\n",
    "    nsrcs_i = len(src_ti)\n",
    "\n",
    "    srcs_i = np.empty((nsrcs_i, ), dtype=dtype)\n",
    "\n",
    "    srcs_i[\"t\"] = src_ti\n",
    "    # Leave empty for now, time window is set explicitely below\n",
    "    srcs_i[\"dt0\"] = np.zeros(nsrcs_i, dtype=np.float)\n",
    "    srcs_i[\"dt1\"] = np.zeros(nsrcs_i, dtype=np.float)\n",
    "    srcs_i[\"ra\"] = src_ra[t_mask]\n",
    "    srcs_i[\"dec\"] = src_dec[t_mask]\n",
    "    srcs_i[\"w_theo\"] = np.ones(nsrcs_i, dtype=np.float)\n",
    "    srcs[key] = srcs_i\n",
    "\n",
    "print(\"Made HESE srcs from: \" + path)\n",
    "\n",
    "\n",
    "# ###### Setup time window for all srcs\n",
    "fname = \"/Users/tmenne/git/phd/hese_tdepps/data/proc/time_windows/time_windows.txt\"\n",
    "time_window = np.loadtxt(fname=fname)[tw_id]\n",
    "print(\"Using time window {:2d}: {:.2f}s\".format(tw_id, np.diff(time_window)[0]))\n",
    "for key, srcs_i in srcs.items():\n",
    "    srcs_i[\"dt0\"] = np.repeat(time_window[0], repeats=len(srcs_i))\n",
    "    srcs_i[\"dt1\"] = np.repeat(time_window[1], repeats=len(srcs_i))\n",
    "    print(srcs_i)"
   ]
  },
  {
   "cell_type": "markdown",
   "metadata": {},
   "source": [
    "## Done"
   ]
  },
  {
   "cell_type": "code",
   "execution_count": null,
   "metadata": {
    "init_cell": true
   },
   "outputs": [],
   "source": [
    "print(\"Done!\")"
   ]
  },
  {
   "cell_type": "markdown",
   "metadata": {},
   "source": [
    "## Start"
   ]
  },
  {
   "cell_type": "code",
   "execution_count": null,
   "metadata": {
    "scrolled": false
   },
   "outputs": [],
   "source": [
    "IC79 = exp[\"79\"]\n",
    "IC79MC = mc[\"79\"]\n",
    "IC79srcs = srcs[\"79\"]\n",
    "IC79rd = create_run_dict(rundict[\"79\"][\"runs\"])\n",
    "\n",
    "hor = 0.25\n",
    "sindec_bins = np.unique(np.concatenate([\n",
    "                        np.linspace(-1., -hor, 5 + 1),    # south\n",
    "                        np.linspace(-hor, +hor, 10 + 1),  # horizon\n",
    "                        np.linspace(+hor, 1., 5 + 1),     # north\n",
    "                        ]))\n",
    "rate_rebins = np.linspace(IC79[\"timeMJD\"].min(), IC79[\"timeMJD\"].max(), 12)\n",
    "\n",
    "bg_inj_args = {\"sindec_bins\": sindec_bins, \"rate_rebins\": rate_rebins}\n",
    "grb_inj = Inj.GRBModelInjector(bg_inj_args=bg_inj_args, rndgen=rndgen)"
   ]
  },
  {
   "cell_type": "code",
   "execution_count": null,
   "metadata": {},
   "outputs": [],
   "source": [
    "recs = make_rate_records(T=IC79[\"timeMJD\"], run_dict=IC79rd)\n",
    "rates, new_bins, stddev, _ = rebin_rate_rec(rate_rec=recs, bins=rate_rebins,\n",
    "                                     ignore_zero_runs=True)\n",
    "mids = 0.5 * (new_bins[:-1] + new_bins[1:])\n",
    "\n",
    "rf = SinusFixedConstRateFunction(p_fix=365.)\n",
    "allsky_res = rf.fit(rate=rates, srcs=IC79srcs, t=mids, w=1. / stddev)\n",
    "\n",
    "t0_fix = allsky_res.x[1]\n",
    "print(\"Best fit t0 before first event: \",\n",
    "      t0_fix - IC79[\"timeMJD\"].min(), \"days\")\n",
    "\n",
    "rf = SinusFixedConstRateFunction(p_fix=365., t0_fix=t0_fix)"
   ]
  },
  {
   "cell_type": "code",
   "execution_count": null,
   "metadata": {},
   "outputs": [],
   "source": [
    "def scan_llh(mids, rates, stddev, bf_a, bf_d, a_rng, d_rng, rf, nbins=100):\n",
    "    a_bins = np.linspace(bf_a - a_rng, bf_a + a_rng, nbins)\n",
    "    d_bins = np.linspace(bf_d - d_rng, bf_d + d_rng, nbins)\n",
    "    \n",
    "    a, d = np.meshgrid(a_bins, d_bins)\n",
    "    AA, DD = map(np.ravel, [a, d])\n",
    "\n",
    "    llh = np.empty_like(AA)\n",
    "    for i, (ai, di) in enumerate(zip(AA, DD)):\n",
    "        llh[i] = rf._lstsq((ai, di), mids, rates, 1. / stddev)\n",
    "        \n",
    "    llh = llh.reshape(a.shape)\n",
    "    \n",
    "    plt.pcolormesh(a, d, llh)\n",
    "    plt.colorbar()\n",
    "\n",
    "    vals = np.amin(llh) - scs.chi2.logsf(df=2, x=[1**2, 2**2, 3**2])\n",
    "    cs = plt.contour(a, d, llh, vals, linestyles=[\"-\", \"--\", \":\"], colors=\"w\")\n",
    "    # https://stackoverflow.com/questions/5666056\n",
    "    paths = cs.collections[0].get_paths()[0]\n",
    "    v = paths.vertices\n",
    "    x = v[:, 0]\n",
    "    y = v[:, 1]\n",
    "    \n",
    "    a_min, a_max = np.amin(x), np.amax(x)\n",
    "    d_min, d_max = np.amin(y), np.amax(y)\n",
    "    std_a, std_d = 0.5 * (a_max - a_min), 0.5 * (d_max - d_min)\n",
    "    \n",
    "    plt.plot(bf_a, bf_d, ls=\"\", marker=\"o\", c=\"w\")\n",
    "    \n",
    "    plt.plot([a_min, a_max], [bf_d, bf_d], c=\"w\", ls=\"--\")\n",
    "    plt.plot([bf_a, bf_a], [d_min, d_max], c=\"w\", ls=\"--\")\n",
    "    plt.plot([bf_a - std_a, bf_a + std_a], [bf_d, bf_d], c=\"r\", ls=\":\")\n",
    "    plt.plot([bf_a, bf_a], [bf_d - std_d, bf_d + std_d], c=\"r\", ls=\":\")\n",
    "    \n",
    "    plt.xlabel = (\"a\")\n",
    "    plt.ylabel = (\"d\")\n",
    "    plt.show()\n",
    "    \n",
    "    return std_a, std_d"
   ]
  },
  {
   "cell_type": "code",
   "execution_count": null,
   "metadata": {
    "scrolled": false
   },
   "outputs": [],
   "source": [
    "sindec = IC79[\"sinDec\"]\n",
    "t_ = np.linspace(IC79[\"timeMJD\"].min(), IC79[\"timeMJD\"].max(), 200)\n",
    "\n",
    "allres = []\n",
    "errs = []\n",
    "for j, (lo, hi) in enumerate(zip(sindec_bins[:-1], sindec_bins[1:])):\n",
    "    mask = (sindec >= lo) & (sindec <= hi)\n",
    "\n",
    "    recs = make_rate_records(T=IC79[\"timeMJD\"][mask], run_dict=IC79rd)\n",
    "    rates, new_bins, stddev, _ = rebin_rate_rec(rate_rec=recs, bins=rate_rebins,\n",
    "                                                ignore_zero_runs=True)\n",
    "    new_mids = 0.5 * (new_bins[:-1] + new_bins[1:])\n",
    "    \n",
    "    res = rf.fit(rate=rates, srcs=IC79srcs, t=new_mids, w=1. / stddev)\n",
    "    allres.append(res)\n",
    "    \n",
    "    plt.errorbar(recs[\"start_mjd\"], recs[\"rate\"], yerr=recs[\"rate_std\"],\n",
    "                 fmt=\",\", alpha=0.2, color=\"C0\")\n",
    "    plt.plot(recs[\"start_mjd\"], recs[\"rate\"], marker=\".\", ls=\"\", color=\"C0\")\n",
    "    plt.plot(new_bins, np.r_[rates[0], rates], drawstyle=\"steps-pre\", color=\"k\")\n",
    "    plt.plot(t_, rf.fun(t=t_, pars=res.x), color=\"C3\")\n",
    "\n",
    "    plt.show()\n",
    "    \n",
    "    std_a, std_d = scan_llh(new_mids, rates, stddev, res.x[0], res.x[1],\n",
    "                            a_rng=1e-5, d_rng=5e-6, rf=rf)\n",
    "    errs.append([std_a, std_d])\n",
    "\n",
    "errs = np.array(errs)"
   ]
  },
  {
   "cell_type": "code",
   "execution_count": null,
   "metadata": {},
   "outputs": [],
   "source": [
    "for res in allres:\n",
    "    print(\"#########\")\n",
    "    print(res.nfev)\n",
    "    print(res.hess_inv.todense())\n",
    "    print(res.message)"
   ]
  },
  {
   "cell_type": "code",
   "execution_count": null,
   "metadata": {},
   "outputs": [],
   "source": [
    "idx = 0\n",
    "mids = 0.5 * (sindec_bins[:-1] + sindec_bins[1:])\n",
    "norm = np.diff(sindec_bins)\n",
    "\n",
    "for i, res in enumerate(allres):\n",
    "    plt.errorbar(mids[i], res.x[idx] / norm[i], fmt=\".\", color=\"C7\",\n",
    "#                  yerr=None)\n",
    "                 yerr=np.sqrt(res.hess_inv.todense()[idx, idx]) / norm[i])\n",
    "    \n",
    "plt.show()"
   ]
  },
  {
   "cell_type": "code",
   "execution_count": null,
   "metadata": {},
   "outputs": [],
   "source": []
  },
  {
   "cell_type": "code",
   "execution_count": null,
   "metadata": {},
   "outputs": [],
   "source": []
  },
  {
   "cell_type": "code",
   "execution_count": null,
   "metadata": {},
   "outputs": [],
   "source": [
    "def signal_flux_model(trueE, E0=1., gamma=2.):\n",
    "    return (trueE / E0)**(-gamma)\n",
    "\n",
    "ts = UniformTimeSampler(random_state=None)\n",
    "\n",
    "sig_inj = SignalFluenceInjector(signal_flux_model, time_sampler=ts)\n",
    "sig_inj.fit(IC79srcs, MC=IC79MC, exp_names=[\"timeMJD\", \"dec\", \"ra\", \"sigma\", \"logE\"])"
   ]
  },
  {
   "cell_type": "code",
   "execution_count": null,
   "metadata": {},
   "outputs": [],
   "source": [
    "grb_inj.fit(X=IC79, srcs=IC79srcs, run_dict=IC79rd, sig_inj=sig_inj)"
   ]
  },
  {
   "cell_type": "code",
   "execution_count": null,
   "metadata": {},
   "outputs": [],
   "source": [
    "sam = grb_inj.get_sample()"
   ]
  },
  {
   "cell_type": "code",
   "execution_count": null,
   "metadata": {},
   "outputs": [],
   "source": [
    "n = \"base\"\n",
    "\n",
    "bins = grb_inj._sin_dec_bins\n",
    "mids = 0.5 * (bins[:-1] + bins[1:])\n",
    "vals = grb_inj._best_pars[n]\n",
    "# Errors larger than param > scale down for meaningful spline fit\n",
    "inv = (np.abs(grb_inj._best_pars[n]) < grb_inj._best_stddevs[n])\n",
    "# inv = np.zeros_like(vals, dtype=bool)\n",
    "err = np.copy(grb_inj._best_stddevs[n])\n",
    "err[inv] = np.amax(err[~inv])\n",
    "\n",
    "plt.plot(mids, grb_inj._best_pars[n], color=\"k\", ls=\"--\")\n",
    "plt.errorbar(mids[~inv], vals[~inv], yerr=err[~inv], fmt=\",\", color=\"k\")\n",
    "plt.errorbar(mids[inv], vals[inv], yerr=err[inv], fmt=\"o\", color=\"C0\")\n",
    "plt.plot(x, grb_inj._param_splines[n](x), color=\"C7\")\n",
    "\n",
    "plt.show()"
   ]
  },
  {
   "cell_type": "code",
   "execution_count": null,
   "metadata": {},
   "outputs": [],
   "source": [
    "x = np.linspace(-1, 1, 200)\n",
    "bins = grb_inj._sin_dec_bins\n",
    "# bins = np.linspace(-1, 1, 17 + 1)\n",
    "for j, ev in enumerate(grb_inj._bg_inj):\n",
    "    plt.hist(np.sin(IC79[\"dec\"]), bins=bins, density=True)\n",
    "    plt.plot(x, grb_inj._data_spl(x))\n",
    "\n",
    "    plt.hist(np.sin(ev[\"dec\"]), bins=bins, density=True, histtype=\"step\", lw=2.5)\n",
    "    plt.plot(x, grb_inj._sin_dec_splines[j](x))\n",
    "\n",
    "    plt.show()\n",
    "    "
   ]
  },
  {
   "cell_type": "code",
   "execution_count": null,
   "metadata": {},
   "outputs": [],
   "source": []
  }
 ],
 "metadata": {
  "kernelspec": {
   "display_name": "Python 2 (OSX)",
   "language": "python",
   "name": "python2"
  },
  "language_info": {
   "codemirror_mode": {
    "name": "ipython",
    "version": 2
   },
   "file_extension": ".py",
   "mimetype": "text/x-python",
   "name": "python",
   "nbconvert_exporter": "python",
   "pygments_lexer": "ipython2",
   "version": "2.7.10"
  }
 },
 "nbformat": 4,
 "nbformat_minor": 2
}

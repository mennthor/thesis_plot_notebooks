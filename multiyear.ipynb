{
 "cells": [
  {
   "cell_type": "code",
   "execution_count": null,
   "metadata": {
    "init_cell": true,
    "scrolled": true
   },
   "outputs": [],
   "source": [
    "import os\n",
    "import sys\n",
    "import json\n",
    "import math\n",
    "from astropy.time import Time as astrotime\n",
    "from tqdm import tqdm_notebook as tqdm\n",
    "\n",
    "import numpy as np\n",
    "from numpy.lib.recfunctions import drop_fields, stack_arrays\n",
    "\n",
    "import matplotlib\n",
    "import matplotlib.pyplot as plt\n",
    "from matplotlib.colors import LogNorm\n",
    "%matplotlib inline\n",
    "\n",
    "import scipy.interpolate as sci\n",
    "import scipy.optimize as sco\n",
    "import scipy.integrate as scint\n",
    "import scipy.stats as scs\n",
    "\n",
    "import anapymods3.plots.astro as amp_plt\n",
    "from anapymods3.plots import (split_axis, get_binmids, hist_marginalize,\n",
    "                              hist_from_counts, dg)\n",
    "from anapymods3.stats import json2kde, sigma2prob, percentile_nzeros\n",
    "from anapymods3.general import fill_dict_defaults, total_size\n",
    "from anapymods3.healpy import wrap_theta_phi_range\n",
    "\n",
    "import tdepps.bg_injector as BGInj\n",
    "import tdepps.bg_rate_injector as BGRateInj\n",
    "import tdepps.rate_function as RateFunc\n",
    "import tdepps.llh as LLH\n",
    "import tdepps.analysis as Analysis\n",
    "import tdepps.signal_injector as SigInj\n",
    "from tdepps.utils import (func_min_in_interval, rotator,\n",
    "                          make_ns_poisson_weights, weighted_cdf, delta_chi2)\n",
    "\n",
    "secinday = 24. * 60. * 60.\n",
    "print(\"Executed on \", astrotime.now())"
   ]
  },
  {
   "cell_type": "markdown",
   "metadata": {},
   "source": [
    "Test multi year analysis build on top of the single year one."
   ]
  },
  {
   "cell_type": "markdown",
   "metadata": {},
   "source": [
    "# Setup GRB samples"
   ]
  },
  {
   "cell_type": "code",
   "execution_count": null,
   "metadata": {
    "init_cell": true
   },
   "outputs": [],
   "source": [
    "rndgen_86II = np.random.RandomState(735005)  # Google\n",
    "rndgen_86III = np.random.RandomState(7353)   # Esel"
   ]
  },
  {
   "cell_type": "markdown",
   "metadata": {
    "heading_collapsed": true
   },
   "source": [
    "### IC86III (2013)"
   ]
  },
  {
   "cell_type": "code",
   "execution_count": null,
   "metadata": {
    "hidden": true,
    "init_cell": true
   },
   "outputs": [],
   "source": [
    "data_86III = np.load(\"data/GRB_IC86III/data.npy\")\n",
    "sim_86III = np.load(\"data/GRB_IC86III/sim_IC86III_nugen_10634.npy\")\n",
    "grblist_86III = np.load(\"data/GRB_IC86III/grblist.npy\")\n",
    "with open(\"data/GRB_IC86III/runlist.json\", \"r\") as infile:\n",
    "    runlist_86III = json.load(infile)\n",
    "\n",
    "# Number of files is different in both years, see weight check later\n",
    "nfiles_86III = 956\n",
    "nevents = 5000\n",
    "ngen_86III = float(nfiles_86III * nevents)\n",
    "    \n",
    "# Cut on score\n",
    "score_cut_86III = 0.5\n",
    "data_86III = data_86III[data_86III[\"score\"] > score_cut_86III]\n",
    "sim_86III = sim_86III[sim_86III[\"score\"] > score_cut_86III]\n",
    "    \n",
    "run_ids = runlist_86III.keys()\n",
    "livetimes = []\n",
    "for key in run_ids:\n",
    "    livetimes.append(runlist_86III[key][\"livetime\"])\n",
    "livetimes_86III = np.array(livetimes)\n",
    "livetime_86III = np.sum(livetimes)\n",
    "livetime_days_86III = livetime_86III / 24. / 3600."
   ]
  },
  {
   "cell_type": "code",
   "execution_count": null,
   "metadata": {
    "hidden": true,
    "init_cell": true
   },
   "outputs": [],
   "source": [
    "def is_on_time(run_id):\n",
    "    key = str(int(run_id))\n",
    "    return True if runlist_86III[key][\"ontime\"] else False\n",
    "\n",
    "on_mask = np.array(list(map(is_on_time, data_86III[\"run_id\"])))\n",
    "assert np.sum(on_mask) + np.sum(~on_mask) == len(data_86III)\n",
    "\n",
    "on_data_86III = data_86III[on_mask]\n",
    "off_data_86III = data_86III[~on_mask]\n",
    "\n",
    "# Get livetime split\n",
    "on_livetime_86III = np.sum([run[\"livetime\"] if run[\"ontime\"] else 0.\n",
    "                            for run in runlist_86III.values()])\n",
    "off_livetime_86III = np.sum([run[\"livetime\"] if not run[\"ontime\"] else 0.\n",
    "                            for run in runlist_86III.values()])\n",
    "assert livetime_86III == (on_livetime_86III + off_livetime_86III)\n",
    "\n",
    "print(\"Off livetime   : {:6.2f} days\".format(off_livetime_86III / 24. / 3600.))\n",
    "print(\"On livetime    : {:6.2f} days\".format(on_livetime_86III / 24. / 3600.))\n",
    "print(\"Total livetime : {:6.2f} days\".format(livetime_days_86III))"
   ]
  },
  {
   "cell_type": "code",
   "execution_count": null,
   "metadata": {
    "hidden": true,
    "init_cell": true
   },
   "outputs": [],
   "source": [
    "nsrcs = len(grblist_86III)\n",
    "names = [\"t\", \"dt0\", \"dt1\", \"ra\", \"dec\", \"w_theo\", \"sigma\"]\n",
    "types = len(names) * [np.float]\n",
    "dtype = [(name, typ) for name, typ in zip(names, types)]\n",
    "\n",
    "grb_srcs_IC86III = np.empty((nsrcs, ), dtype=dtype)\n",
    "\n",
    "grb_srcs_IC86III[\"t\"] = grblist_86III[\"timeMJD\"]\n",
    "grb_srcs_IC86III[\"dt0\"] = np.zeros(nsrcs, dtype=np.float)\n",
    "grb_srcs_IC86III[\"dt1\"] = grblist_86III[\"t100\"]\n",
    "grb_srcs_IC86III[\"ra\"] = grblist_86III[\"ra\"]\n",
    "grb_srcs_IC86III[\"dec\"] = grblist_86III[\"dec\"]\n",
    "grb_srcs_IC86III[\"w_theo\"] = np.ones(nsrcs, dtype=np.float)\n",
    "grb_srcs_IC86III[\"sigma\"] = grblist_86III[\"sigma\"]"
   ]
  },
  {
   "cell_type": "code",
   "execution_count": null,
   "metadata": {
    "hidden": true,
    "init_cell": true
   },
   "outputs": [],
   "source": [
    "runs = []\n",
    "for key, item in runlist_86III.items():\n",
    "    d = item.copy()\n",
    "    tstart = astrotime(item[\"tStart\"], format=\"mjd\").iso\n",
    "    tstop = astrotime(item[\"tStop\"], format=\"mjd\").iso\n",
    "    d[\"run\"] = int(key)\n",
    "    d[\"good_tstart\"] = tstart\n",
    "    d[\"good_tstop\"] = tstop\n",
    "    runs.append(d)\n",
    "\n",
    "goodruns_86III = {\"runs\": runs}\n",
    "print(\"Number of all runs : \", len(runs))\n",
    "off_len =  len(filter(lambda runi: not runi[\"ontime\"], runs))\n",
    "on_len =  len(filter(lambda runi: runi[\"ontime\"], runs))\n",
    "print(\"Number of off runs : \",off_len)\n",
    "print(\"Number of on runs  : \", on_len)\n",
    "\n",
    "assert off_len + on_len == len(runs)"
   ]
  },
  {
   "cell_type": "code",
   "execution_count": null,
   "metadata": {
    "hidden": true,
    "init_cell": true
   },
   "outputs": [],
   "source": [
    "# Create the GRBLLH object with all the PDF settings\n",
    "# Note: Range derived from sinDec hist in NRT wiki\n",
    "sin_dec_bins = np.linspace(-0.1, 1, 17 + 1)  \n",
    "\n",
    "# Range is derived from hist, dropping some wrongly reconstructed events\n",
    "min_logE = -1.\n",
    "max_logE = 10.\n",
    "logE_bins = np.linspace(min_logE, max_logE, 40)\n",
    "\n",
    "# Remove wrongly reconstructed events outside range from off data & sim\n",
    "logE_mask = (sim_86III[\"logE\"] > min_logE) & (sim_86III[\"logE\"] < max_logE)\n",
    "sim_pdf_full_86III = sim_86III[logE_mask]\n",
    "print(\"Removed {} events in logE for simulation.\".format(np.sum(~logE_mask)))\n",
    "logE_mask = ((off_data_86III[\"logE\"] > min_logE) &\n",
    "             (off_data_86III[\"logE\"] < max_logE))\n",
    "data_pdf_full_86III = off_data_86III[logE_mask]\n",
    "print(\"Removed {} events in logE for data.\".format(np.sum(~logE_mask)))\n",
    "\n",
    "# Later 3 events show up, that have times outside the run times. These are\n",
    "# removed too - still strange.\n",
    "time_idx = [39023, 52880, 63524]\n",
    "data_pdf_full = np.delete(data_pdf_full_86III, time_idx)\n",
    "\n",
    "# Check weights for E2 signal against built-in weights\n",
    "gamma = 2.\n",
    "type_w = 0.5         # Nugen defaults: 50:50 nu, anti-nu\n",
    "norm_per_type = 0.5  # Astro just splits 50:50\n",
    "# Norm to OW per type and \"sim-livetime\"\n",
    "sim_pdf_full_86III[\"ow\"] /= ngen_86III * type_w\n",
    "w = (norm_per_type * sim_pdf_full_86III[\"trueE\"]**(-gamma) *\n",
    "     sim_pdf_full_86III[\"ow\"])\n",
    "\n",
    "print(\"Included and self made weights ar the same: \",\n",
    "      np.allclose(sim_pdf_full_86III[\"weight_E2\"], w))\n",
    "\n",
    "# Now strip off uneeded fields so data and sim are compatible for tdepps\n",
    "data_pdf_86III = drop_fields(data_pdf_full_86III,\n",
    "                             [\"run_id\", \"event_id\", \"score\", \"azi\", \"zen\"])\n",
    "sim_pdf_86III = drop_fields(sim_pdf_full_86III,\n",
    "                            [\"azi\", \"zen\", \"score\", \"weight_E2\",\n",
    "                             \"weight_honda\", \"trueAzi\", \"trueZen\"])"
   ]
  },
  {
   "cell_type": "markdown",
   "metadata": {
    "heading_collapsed": true
   },
   "source": [
    "### IC86II (2012)"
   ]
  },
  {
   "cell_type": "code",
   "execution_count": null,
   "metadata": {
    "hidden": true,
    "init_cell": true
   },
   "outputs": [],
   "source": [
    "data_86II = np.load(\"data/GRB_IC86II/data.npy\")\n",
    "sim_86II = np.load(\"data/GRB_IC86II/sim_IC86II_nugen_10634.npy\")\n",
    "grblist_86II = np.load(\"data/GRB_IC86II/grblist.npy\")\n",
    "with open(\"data/GRB_IC86II/runlist.json\", \"r\") as infile:\n",
    "    runlist_86II = json.load(infile)\n",
    "\n",
    "# Number of files is different in both years, see weight check later\n",
    "nfiles_86II = nfiles_86III + 5\n",
    "nevents = 5000\n",
    "ngen_86II = float(nfiles_86II * nevents)\n",
    "    \n",
    "# Cut on score\n",
    "score_cut_86II = 0.4\n",
    "data_86II = data_86II[data_86II[\"score\"] > score_cut_86II]\n",
    "sim_86II = sim_86II[sim_86II[\"score\"] > score_cut_86II]\n",
    "    \n",
    "run_ids = runlist_86II.keys()\n",
    "livetimes = []\n",
    "for key in run_ids:\n",
    "    livetimes.append(runlist_86II[key][\"livetime\"])\n",
    "livetimes_86II = np.array(livetimes)\n",
    "livetime_86II = np.sum(livetimes)\n",
    "livetime_days_86II = livetime_86II / 24. / 3600."
   ]
  },
  {
   "cell_type": "code",
   "execution_count": null,
   "metadata": {
    "hidden": true,
    "init_cell": true
   },
   "outputs": [],
   "source": [
    "def is_on_time(run_id):\n",
    "    key = str(int(run_id))\n",
    "    return True if runlist_86II[key][\"ontime\"] else False\n",
    "\n",
    "on_mask = np.array(list(map(is_on_time, data_86II[\"run_id\"])))\n",
    "assert np.sum(on_mask) + np.sum(~on_mask) == len(data_86II)\n",
    "\n",
    "on_data_86II = data_86II[on_mask]\n",
    "off_data_86II = data_86II[~on_mask]\n",
    "\n",
    "# Get livetime split\n",
    "on_livetime_86II = np.sum([run[\"livetime\"] if run[\"ontime\"] else 0.\n",
    "                            for run in runlist_86II.values()])\n",
    "off_livetime_86II = np.sum([run[\"livetime\"] if not run[\"ontime\"] else 0.\n",
    "                            for run in runlist_86II.values()])\n",
    "assert livetime_86II == (on_livetime_86II + off_livetime_86II)\n",
    "\n",
    "print(\"Off livetime   : {:6.2f} days\".format(off_livetime_86II / 24. / 3600.))\n",
    "print(\"On livetime    : {:6.2f} days\".format(on_livetime_86II / 24. / 3600.))\n",
    "print(\"Total livetime : {:6.2f} days\".format(livetime_days_86II))"
   ]
  },
  {
   "cell_type": "code",
   "execution_count": null,
   "metadata": {
    "hidden": true,
    "init_cell": true
   },
   "outputs": [],
   "source": [
    "nsrcs = len(grblist_86II)\n",
    "names = [\"t\", \"dt0\", \"dt1\", \"ra\", \"dec\", \"w_theo\", \"sigma\"]\n",
    "types = len(names) * [np.float]\n",
    "dtype = [(name, typ) for name, typ in zip(names, types)]\n",
    "\n",
    "grb_srcs_IC86II = np.empty((nsrcs, ), dtype=dtype)\n",
    "\n",
    "grb_srcs_IC86II[\"t\"] = grblist_86II[\"timeMJD\"]\n",
    "grb_srcs_IC86II[\"dt0\"] = np.zeros(nsrcs, dtype=np.float)\n",
    "grb_srcs_IC86II[\"dt1\"] = grblist_86II[\"t100\"]\n",
    "grb_srcs_IC86II[\"ra\"] = grblist_86II[\"ra\"]\n",
    "grb_srcs_IC86II[\"dec\"] = grblist_86II[\"dec\"]\n",
    "grb_srcs_IC86II[\"w_theo\"] = np.ones(nsrcs, dtype=np.float)\n",
    "grb_srcs_IC86II[\"sigma\"] = grblist_86II[\"sigma\"]"
   ]
  },
  {
   "cell_type": "code",
   "execution_count": null,
   "metadata": {
    "hidden": true,
    "init_cell": true
   },
   "outputs": [],
   "source": [
    "runs = []\n",
    "for key, item in runlist_86II.items():\n",
    "    d = item.copy()\n",
    "    tstart = astrotime(item[\"tStart\"], format=\"mjd\").iso\n",
    "    tstop = astrotime(item[\"tStop\"], format=\"mjd\").iso\n",
    "    d[\"run\"] = int(key)\n",
    "    d[\"good_tstart\"] = tstart\n",
    "    d[\"good_tstop\"] = tstop\n",
    "    runs.append(d)\n",
    "\n",
    "goodruns_86II = {\"runs\": runs}\n",
    "print(\"Number of all runs : \", len(runs))\n",
    "off_len =  len(filter(lambda runi: not runi[\"ontime\"], runs))\n",
    "on_len =  len(filter(lambda runi: runi[\"ontime\"], runs))\n",
    "print(\"Number of off runs : \",off_len)\n",
    "print(\"Number of on runs  : \", on_len)\n",
    "\n",
    "assert off_len + on_len == len(runs)"
   ]
  },
  {
   "cell_type": "code",
   "execution_count": null,
   "metadata": {
    "hidden": true,
    "init_cell": true
   },
   "outputs": [],
   "source": [
    "# Create the GRBLLH object with all the PDF settings\n",
    "# Note: Range derived from sinDec hist in NRT wiki\n",
    "sin_dec_bins = np.linspace(-0.1, 1, 17 + 1)  \n",
    "\n",
    "# Range is derived from hist, dropping some wrongly reconstructed events\n",
    "min_logE = -1.\n",
    "max_logE = 10.\n",
    "logE_bins = np.linspace(min_logE, max_logE, 40)\n",
    "\n",
    "# Remove wrongly reconstructed events outside range from off data & sim\n",
    "logE_mask = (sim_86II[\"logE\"] > min_logE) & (sim_86II[\"logE\"] < max_logE)\n",
    "sim_pdf_full_86II = sim_86II[logE_mask]\n",
    "print(\"Removed {} events in logE for simulation.\".format(np.sum(~logE_mask)))\n",
    "logE_mask = ((off_data_86II[\"logE\"] > min_logE) &\n",
    "             (off_data_86II[\"logE\"] < max_logE))\n",
    "data_pdf_full_86II = off_data_86II[logE_mask]\n",
    "print(\"Removed {} events in logE for data.\".format(np.sum(~logE_mask)))\n",
    "\n",
    "# Later 3 events show up, that have times outside the run times. These are\n",
    "# removed too - still strange.\n",
    "# time_idx = [39023, 52880, 63524]\n",
    "# data_pdf_full = np.delete(data_pdf_full_86II, time_idx)\n",
    "\n",
    "# Check weights for E2 signal against built-in weights\n",
    "gamma = 2.\n",
    "type_w = 0.5         # Nugen defaults: 50:50 nu, anti-nu\n",
    "norm_per_type = 0.5  # Astro just splits 50:50\n",
    "sim_pdf_full_86II[\"ow\"] /= ngen_86II * type_w  # Norm to OW per type and \"sim-livetime\"\n",
    "w = (norm_per_type * sim_pdf_full_86II[\"trueE\"]**(-gamma) *\n",
    "     sim_pdf_full_86II[\"ow\"])\n",
    "\n",
    "print(\"Included and self made weights ar the same: \",\n",
    "      np.allclose(sim_pdf_full_86II[\"weight_E2\"], w))\n",
    "\n",
    "# Now strip off uneeded fields so data and sim are compatible for tdepps\n",
    "data_pdf_86II = drop_fields(data_pdf_full_86II,\n",
    "                             [\"run_id\", \"event_id\", \"score\", \"azi\", \"zen\"])\n",
    "sim_pdf_86II = drop_fields(sim_pdf_full_86II,\n",
    "                            [\"azi\", \"zen\", \"score\", \"weight_E2\",\n",
    "                             \"weight_honda\", \"trueAzi\", \"trueZen\"])"
   ]
  },
  {
   "cell_type": "markdown",
   "metadata": {},
   "source": [
    "### Done:"
   ]
  },
  {
   "cell_type": "code",
   "execution_count": null,
   "metadata": {
    "init_cell": true
   },
   "outputs": [],
   "source": [
    "print(\"Setup done\")"
   ]
  },
  {
   "cell_type": "markdown",
   "metadata": {},
   "source": [
    "# tdepps setup"
   ]
  },
  {
   "cell_type": "code",
   "execution_count": null,
   "metadata": {
    "init_cell": false
   },
   "outputs": [],
   "source": [
    "spatial_pdf_args = {\"bins\": sin_dec_bins, \"k\": 3, \"kent\": True}\n",
    "\n",
    "energy_pdf_args_86III = {\"bins\": [sin_dec_bins, logE_bins], \"gamma\": 2.,\n",
    "                         \"fillval\": \"col\", \"interpol_log\": False,\n",
    "                         \"mc_bg_weights\": sim_pdf_full_86III[\"weight_honda\"],\n",
    "                         \"smooth_sigma\": [[0., 0.], [0., 0.]],\n",
    "                         \"logE_asc\": True}\n",
    "energy_pdf_args_86II = {\"bins\": [sin_dec_bins, logE_bins], \"gamma\": 2.,\n",
    "                        \"fillval\": \"col\", \"interpol_log\": False,\n",
    "                        \"mc_bg_weights\": sim_pdf_full_86II[\"weight_honda\"],\n",
    "                        \"smooth_sigma\": [[0., 0.], [0., 0.]],\n",
    "                        \"logE_asc\": True}\n",
    "\n",
    "time_pdf_args = {\"nsig\": 4., \"sigma_t_min\": 2., \"sigma_t_max\": 30.}\n",
    "\n",
    "llh_args = {\"sob_rel_eps\": 0., \"sob_abs_eps\": 1e-4}\n",
    "\n",
    "grbllh_ic86III = LLH.GRBLLH(X=data_pdf_86III, MC=sim_pdf_86III,\n",
    "                            spatial_pdf_args=spatial_pdf_args,\n",
    "                            energy_pdf_args=energy_pdf_args_86III,\n",
    "                            time_pdf_args=time_pdf_args,\n",
    "                            llh_args=llh_args)\n",
    "\n",
    "grbllh_ic86II = LLH.GRBLLH(X=data_pdf_86II, MC=sim_pdf_86II,\n",
    "                            spatial_pdf_args=spatial_pdf_args,\n",
    "                            energy_pdf_args=energy_pdf_args_86II,\n",
    "                            time_pdf_args=time_pdf_args,\n",
    "                            llh_args=llh_args)"
   ]
  },
  {
   "cell_type": "code",
   "execution_count": null,
   "metadata": {},
   "outputs": [],
   "source": [
    "multillh2 = LLH.MultiSampleGRBLLH()\n",
    "multillh2.add_sample(\"86III\", grbllh_ic86III)\n",
    "multillh2.add_sample(\"86II\", grbllh_ic86II)"
   ]
  },
  {
   "cell_type": "markdown",
   "metadata": {},
   "source": [
    "BG Injectors"
   ]
  },
  {
   "cell_type": "code",
   "execution_count": null,
   "metadata": {},
   "outputs": [],
   "source": [
    "# Choose your rate function\n",
    "rate_func_obj_86III = RateFunc.Sinus1yrConstRateFunction(rndgen_86III)\n",
    "rate_func_obj_86II = RateFunc.Sinus1yrConstRateFunction(rndgen_86II)\n",
    "\n",
    "# Make the injector based on the rate function\n",
    "bg_rate_inj_86III = BGRateInj.RunlistBGRateInjector(\n",
    "    rate_func_obj_86III, goodruns_86III, random_state=rndgen_86III)\n",
    "bg_rate_inj_86II = BGRateInj.RunlistBGRateInjector(\n",
    "    rate_func_obj_86II, goodruns_86II, random_state=rndgen_86II)\n",
    "\n",
    "# Fit the injector to make it usable\n",
    "times_86III = np.delete(data_pdf_86III[\"timeMJD\"], [39023, 52880, 63524])\n",
    "rate_func_86III = bg_rate_inj_86III.fit(T=times_86III, x0=None,\n",
    "                                        remove_zero_runs=False)\n",
    "out_times = [1455, 7030, 8863, 13724, 17655, 20423, 22191, 26127, 28365,\n",
    "             45350, 48338, 53590, 104330, 120422, 123279]\n",
    "times_86II = np.delete(data_pdf_86II[\"timeMJD\"], out_times)\n",
    "rate_func_86II = bg_rate_inj_86II.fit(T=times_86II, x0=None,\n",
    "                                      remove_zero_runs=False)\n",
    "\n",
    "# Now the evt injector for the other attributes\n",
    "# bg_inj = BGInj.MRichmanBGInjector(random_state=rndgen)\n",
    "bg_inj_86III = BGInj.DataBGInjector(random_state=rndgen_86III)\n",
    "bg_inj_86III.fit(X=data_pdf_86III)\n",
    "bg_inj_86II = BGInj.DataBGInjector(random_state=rndgen_86II)\n",
    "bg_inj_86II.fit(X=data_pdf_86II)\n",
    "\n",
    "# Multi injectors\n",
    "multibginj = BGInj.MultiBGInjector()\n",
    "multibgrateinj = BGRateInj.MultiBGRateInjector()\n",
    "\n",
    "multibginj.add_injector(\"86II\", bg_inj_86II)\n",
    "multibginj.add_injector(\"86III\", bg_inj_86III)\n",
    "\n",
    "multibgrateinj.add_injector(\"86II\", bg_rate_inj_86II)\n",
    "multibgrateinj.add_injector(\"86III\", bg_rate_inj_86III)"
   ]
  },
  {
   "cell_type": "markdown",
   "metadata": {},
   "source": [
    "Signal Injector"
   ]
  },
  {
   "cell_type": "code",
   "execution_count": null,
   "metadata": {},
   "outputs": [],
   "source": [
    "siginj = SigInj.SignalInjector(gamma=2., sin_dec_range=sin_dec_bins[[0, -1]])\n",
    "mcs = {\"86III\": sim_pdf_86III, \"86II\": sim_pdf_86II}\n",
    "srcs = {\"86III\": grb_srcs_IC86III, \"86II\": grb_srcs_IC86II}\n",
    "siginj.fit(srcs=srcs, MC=mcs, exp_names=data_pdf_86III.dtype.names)\n",
    "print(\"1 event flux: {:.6f} GeV^-1cm^-2\".format(siginj.mu2flux(1)))\n",
    "\n",
    "sig_gen = siginj.sample(mean_mu=10)"
   ]
  },
  {
   "cell_type": "markdown",
   "metadata": {},
   "source": [
    "## Use it"
   ]
  },
  {
   "cell_type": "code",
   "execution_count": null,
   "metadata": {},
   "outputs": [],
   "source": [
    "srcs = {\"86III\": grb_srcs_IC86III, \"86II\": grb_srcs_IC86II}\n",
    "ana = Analysis.TransientsAnalysis(srcs=srcs, llh=multillh2)"
   ]
  },
  {
   "cell_type": "markdown",
   "metadata": {},
   "source": [
    "Scan for 90% over TS=0"
   ]
  },
  {
   "cell_type": "code",
   "execution_count": null,
   "metadata": {},
   "outputs": [],
   "source": [
    "ts_val = 0.\n",
    "beta = 0.9\n",
    "bg_inj = multibginj\n",
    "verb = True\n",
    "tol_perc_err = 5e-3\n",
    "tol_mu_rel = 1e-3\n",
    "maxloops = 100\n",
    "\n",
    "perf = ana.performance(ts_val, beta, multibginj, multibgrateinj, siginj,\n",
    "                       mu0=-0.1, ntrials=200, tol_perc_err=tol_perc_err,\n",
    "                       tol_mu_rel=tol_mu_rel, maxloops=maxloops,\n",
    "                       minimizer_opts=None, verb=verb)"
   ]
  },
  {
   "cell_type": "code",
   "execution_count": null,
   "metadata": {},
   "outputs": [],
   "source": [
    "mu_bf = perf[\"mu_bf\"]\n",
    "mus = perf[\"mus\"]\n",
    "ns = perf[\"ns\"]\n",
    "ts = perf[\"ts\"]\n",
    "poisson_limit = 2.3\n",
    "\n",
    "fig, [[axtl, axtr], [axbl, axbr]] = plt.subplots(2, 2, figsize=(12, 8))\n",
    "\n",
    "# Plot the mu evolution\n",
    "axtl.plot(perf[\"mus\"])\n",
    "axtl.axhline(poisson_limit, 0, 1, color=\"C1\", ls=\"--\", label=\"Poisson Lim.\")\n",
    "axtl.axvline(perf[\"ninitloops\"] - 1, 0, 1, color=\"C7\", ls=\"--\",\n",
    "             label=\"Init loops\")\n",
    "axtl.set_xlabel(\"Iteration i\")\n",
    "axtl.set_ylabel(\"mu\")\n",
    "axtl.set_title(\"Best fit after iteration. Best fit: {:.3f}\".format(mu_bf))\n",
    "axtl.legend(loc=\"best\")\n",
    "\n",
    "# Plot the rel/abs error evolution\n",
    "axtr.plot(perf[\"err\"], color=\"C0\", label=\"perc err\")\n",
    "axtr.plot(np.abs(np.diff(mus)) / mus[1:], color=\"C1\", label=\"mu diff abs\")\n",
    "axtr.axhline(tol_perc_err, 0, 1, color=\"C0\", ls=\"--\", label=\"tol perc\")\n",
    "axtr.axhline(tol_mu_rel, 0, 1, color=\"C1\", ls=\"--\", label=\"mu diff tol\")\n",
    "axtr.axvline(perf[\"ninitloops\"] - 1, 0, 1, color=\"C7\", ls=\"--\",\n",
    "             label=\"Init loops\")\n",
    "axtr.set_xlabel(\"Iteration i\")\n",
    "axtr.set_yscale(\"log\", nonposy=\"clip\")\n",
    "axtr.set_title(\"Performance after ith Iteration\")\n",
    "axtr.legend(loc=\"best\")\n",
    "\n",
    "# Plot all drawn, unweighted ns values\n",
    "_ = axbl.hist(ns, bins=200)\n",
    "axbl.axvline(poisson_limit, 0, 1, color=\"C1\", ls=\"--\", label=\"Poisson Lim.\")\n",
    "axbl.set_xlabel(\"ns\")\n",
    "axbl.set_ylabel(\"Count\")\n",
    "axbl.set_title(\"Injected ns unweighted\")\n",
    "axbl.legend(loc=\"best\")\n",
    "\n",
    "# Plot all drawn, weighted test statistic values\n",
    "w, _ = make_ns_poisson_weights(mu_bf, ns)\n",
    "perc = 1. - weighted_cdf(ts, ts_val, w)[0]  # want the perc above TS val\n",
    "bins = np.arange(0., 20., 0.25)\n",
    "_ = axbr.hist(ts, bins=bins, weights=w)\n",
    "axbr.axvline(ts_val, 0, 1, color=\"C1\", ls=\"--\", label=\"TS val\")\n",
    "axbr.set_xlabel(\"TS\")\n",
    "axbr.set_ylabel(\"PDF\")\n",
    "axbr.set_title(\"Poisson Weighted TS. Percentile = {:.6f}\".format(perc))\n",
    "axbr.legend(loc=\"best\")\n",
    "\n",
    "plt.tight_layout()\n",
    "# plt.savefig(\"./fig_new_bg/performance_poisson_reweight.png\", dpi=150)\n",
    "plt.show()"
   ]
  },
  {
   "cell_type": "markdown",
   "metadata": {},
   "source": [
    "Make BG trials"
   ]
  },
  {
   "cell_type": "code",
   "execution_count": null,
   "metadata": {},
   "outputs": [],
   "source": [
    "ntrials = 100000\n",
    "ns0 = 0.5\n",
    "res_bg2, nz_bg2, _ = ana.do_trials(ntrials, ns0,\n",
    "                       bg_inj=multibginj, bg_rate_inj=multibgrateinj,\n",
    "                       signal_inj=None, full_out=True, verb=True)"
   ]
  },
  {
   "cell_type": "code",
   "execution_count": null,
   "metadata": {},
   "outputs": [],
   "source": [
    "with open(\"./data/GRB_IC86multi/bg_trials.json\", \"w\") as f:\n",
    "    out = {\"nzeros\": nz_bg, \"TS\": list(res_bg[\"TS\"]),\n",
    "           \"ns\": list(res_bg[\"ns\"])}\n",
    "    json.dump(obj=out, fp=f, indent=2)"
   ]
  },
  {
   "cell_type": "code",
   "execution_count": null,
   "metadata": {},
   "outputs": [],
   "source": [
    "bins = np.arange(0, 30, 0.25)\n",
    "h_bg, _ = np.histogram(res_bg[\"TS\"], bins=bins, density=False)\n",
    "h_bg[0] += nz_bg\n",
    "err_bg = np.sqrt(h_bg)\n",
    "norm = (np.diff(bins) * np.sum(h_bg))\n",
    "h_bg = h_bg / norm\n",
    "err_bg = err_bg / norm\n",
    "\n",
    "df, eta, loc, scale = delta_chi2.fit_nzeros(data=res_bg[\"TS\"], nzeros=nz_bg)\n",
    "\n",
    "TS = np.linspace(bins[0], bins[-1], 200)\n",
    "PDF = delta_chi2.pdf(TS, df, eta, loc, scale)\n",
    "plt.plot(TS, PDF)\n",
    "plt.plot(bins, np.r_[h_bg[0], h_bg], drawstyle=\"steps-pre\", color=\"C1\")\n",
    "plt.errorbar(0.5 * (bins[:-1] + bins[1:]), h_bg, yerr=err_bg,\n",
    "             fmt=\"none\", color=\"C1\")\n",
    "plt.xlabel(\"TS\")\n",
    "plt.yscale(\"log\", nonposy=\"clip\")\n",
    "plt.ylim(1e-6, 1)\n",
    "plt.tight_layout()\n",
    "# plt.savefig(\"./data/GRB_IC86multi/GRB86_multi_bg_trials.png\", dpi=150)\n",
    "plt.show()"
   ]
  },
  {
   "cell_type": "markdown",
   "metadata": {},
   "source": [
    "Neyman plane"
   ]
  },
  {
   "cell_type": "code",
   "execution_count": null,
   "metadata": {
    "scrolled": true
   },
   "outputs": [],
   "source": [
    "# %%time\n",
    "ntrials_sig = int(1e3)\n",
    "ns0 = 0.5\n",
    "minopts = {\"bounds\": [[0., None]]}\n",
    "\n",
    "res_sig = []\n",
    "nzeros_sig = []\n",
    "mu_sig = np.arange(0.1, 10.1, 0.5)\n",
    "for mui in mu_sig:\n",
    "    print(\"Start injecting with {:.1f}\".format(mui))\n",
    "    gen = siginj.sample(mean_mu=mui, poisson=True)\n",
    "    r, nz = ana.do_trials(ntrials_sig, ns0=ns0, bg_inj=multibginj,\n",
    "                          bg_rate_inj=multibgrateinj, signal_inj=gen,\n",
    "                          minimizer_opts=minopts, verb=True)\n",
    "    res_sig.append(r)\n",
    "    nzeros_sig.append(nz)\n",
    "\n",
    "print(\"Done\")"
   ]
  },
  {
   "cell_type": "code",
   "execution_count": null,
   "metadata": {},
   "outputs": [],
   "source": [
    "out = {}\n",
    "for i, mui in enumerate(mu_sig):\n",
    "    out[mui] = {\"TS\": list(res_sig[i][\"TS\"]),\n",
    "                \"ns\": list(res_sig[i][\"ns\"]),\n",
    "                \"nzeros\": nzeros_sig[i]}\n",
    "    \n",
    "with open(\"./data/GRB_IC86multi/neyman_sweep.json\", \"w\") as f:\n",
    "    json.dump(obj=out, fp=f, indent=2)"
   ]
  },
  {
   "cell_type": "code",
   "execution_count": null,
   "metadata": {},
   "outputs": [],
   "source": [
    "TS_bg = res_bg[\"TS\"]\n",
    "nzeros_bg = nz_bg\n",
    "\n",
    "# Choose bins so that mids cover the injected mu\n",
    "b_TS = np.arange(0, 50 + 0.25, 0.25)\n",
    "b_mu = np.r_[0., get_binmids(np.r_[0., mu_sig]),\n",
    "             mu_sig[-1] + 0.5 * np.diff(mu_sig[-2:])]\n",
    "b_flux = siginj.mu2flux(b_mu)\n",
    "\n",
    "# Bin mids are the mus we injected at, including BG only at mu=0\n",
    "m_TS = get_binmids(b_TS)\n",
    "m_mu = np.r_[0., mu_sig]\n",
    "m_flux = siginj.mu2flux(m_mu)\n",
    "\n",
    "# Create pseudo coordinates to histogram with weights\n",
    "XX, YY_mu = np.meshgrid(m_TS, m_mu)\n",
    "XX, YY_flux = np.meshgrid(m_TS, m_flux)\n",
    "\n",
    "# Build up a 2D hist from each 1D trial hist per mu\n",
    "shape = (len(m_mu), len(m_TS))\n",
    "h_all = np.zeros(shape, dtype=np.float)\n",
    "\n",
    "# BG only, add in nzeros and normalize after that\n",
    "h_bg, _ = np.histogram(TS_bg, bins=b_TS, normed=False)\n",
    "h_bg[0] += nzeros_bg\n",
    "h_bg = h_bg / (np.diff(b_TS) * np.sum(h_bg))\n",
    "h_all[0] = h_bg\n",
    "\n",
    "# Signal sweep\n",
    "for i, (res_i, nz_i) in enumerate(zip(res_sig, nzeros_sig)):\n",
    "    h_sig, _ = np.histogram(res_i[\"TS\"], bins=b_TS, normed=False)\n",
    "    h_sig[0] += nz_i\n",
    "    h_sig = h_sig / (np.diff(b_TS) * np.sum(h_sig))\n",
    "    h_all[i+1] = h_sig"
   ]
  },
  {
   "cell_type": "code",
   "execution_count": null,
   "metadata": {},
   "outputs": [],
   "source": [
    "# Get PDF stats for each slice\n",
    "fluxes = siginj.mu2flux(mu_sig)\n",
    "upper_lim_perc = 0.9\n",
    "sigma = [3, 4, 5]\n",
    "perc_bg = [percentile_nzeros(TS_bg, nzeros_bg, sigma2prob(sig) * 100) for\n",
    "           sig in sigma]\n",
    "\n",
    "UL = []\n",
    "for i, (res_i, nz_i) in enumerate(zip(res_sig, nzeros_sig)):\n",
    "    UL.append(percentile_nzeros(res_i[\"TS\"], nz_i,\n",
    "                                100 * (1. - upper_lim_perc)))"
   ]
  },
  {
   "cell_type": "code",
   "execution_count": null,
   "metadata": {},
   "outputs": [],
   "source": [
    "fig, (axl, axr) = plt.subplots(1, 2, figsize=(14, 5))\n",
    "ylabel = [r\"Injected mean events $\\mu$\",\n",
    "          r\"$(E/\\mathrm{GeV})^2\\times F$ in (GeV cm$^2$)$^{-1}$\"]\n",
    "for x, YY, ylab, ax in zip([mu_sig, fluxes], [YY_mu, YY_flux], ylabel,\n",
    "                           (axl, axr)):\n",
    "    img = ax.pcolormesh(XX, YY, h_all, norm=LogNorm(), cmap=\"inferno\")\n",
    "\n",
    "    # Ignore BG TS, because it's not done with energy PDF from MC\n",
    "    alpha = 0.5\n",
    "    for sig, pbg in zip(sigma, perc_bg):\n",
    "        ax.axvline(pbg, 0, 1, color=\"k\", lw=1.5, ls=\"--\", alpha=alpha,\n",
    "                   label=r\"${}\\sigma$ wrt BG\".format(sig))\n",
    "        alpha += 0.2\n",
    "        \n",
    "    ax.plot(UL, x, color=\"w\", lw=2, label=r\"90% UL per $\\mu$\")\n",
    "\n",
    "    ax.set_xlabel(\"TS\")\n",
    "    ax.set_ylabel(ylab)\n",
    "    ax.set_title(\"Neyman construction\")\n",
    "    cbar = fig.colorbar(img, ax=ax)\n",
    "    cbar.set_label(\"PDF\")\n",
    "    ax.set_xlim(b_TS[0], b_TS[-1])\n",
    "    ax.legend(loc=\"upper right\")\n",
    "\n",
    "plt.tight_layout()\n",
    "# plt.savefig(\"./data/GRB_IC86multi/GRB86_multi_neyman_plane.png\", dpi=150)\n",
    "plt.show()"
   ]
  },
  {
   "cell_type": "markdown",
   "metadata": {
    "heading_collapsed": true
   },
   "source": [
    "# Single modules tests"
   ]
  },
  {
   "cell_type": "markdown",
   "metadata": {
    "heading_collapsed": true,
    "hidden": true
   },
   "source": [
    "## LLH evaluation"
   ]
  },
  {
   "cell_type": "code",
   "execution_count": null,
   "metadata": {
    "hidden": true
   },
   "outputs": [],
   "source": [
    "# Create data to evaluate from both on-datasets\n",
    "names = [\"ra\", \"dec\", \"sinDec\", \"logE\", \"sigma\", \"timeMJD\"]\n",
    "types = len(names) * [np.float]\n",
    "dtype = [(name, typ) for name, typ in zip(names, types)]\n",
    "X_86III = np.empty((len(on_data_86III)), dtype=dtype)\n",
    "X_86II = np.empty((len(on_data_86II)), dtype=dtype)\n",
    "\n",
    "for name in names:\n",
    "    X_86III[name] = on_data_86III[name]\n",
    "    X_86II[name] = on_data_86II[name]"
   ]
  },
  {
   "cell_type": "code",
   "execution_count": null,
   "metadata": {
    "hidden": true
   },
   "outputs": [],
   "source": [
    "# Approximate BG expectation per GRB: 5mHz * dt, equal for both\n",
    "rate_86III = len(off_data_86III) / off_livetime_86III\n",
    "rate_86II = len(off_data_86II) / off_livetime_86II\n",
    "\n",
    "nb_86III = rate_86III * (grb_srcs_IC86III[\"dt1\"] - grb_srcs_IC86III[\"dt0\"])\n",
    "nb_86II = rate_86II * (grb_srcs_IC86II[\"dt1\"] - grb_srcs_IC86II[\"dt0\"])"
   ]
  },
  {
   "cell_type": "markdown",
   "metadata": {
    "heading_collapsed": true,
    "hidden": true
   },
   "source": [
    "### 2 samples"
   ]
  },
  {
   "cell_type": "code",
   "execution_count": null,
   "metadata": {
    "hidden": true
   },
   "outputs": [],
   "source": [
    "multillh2 = LLH.MultiSampleGRBLLH()\n",
    "multillh2.add_sample(\"86III\", grbllh_ic86III)\n",
    "multillh2.add_sample(\"86II\", grbllh_ic86II)\n",
    "X_dict = {\"86III\": X_86III, \"86II\": X_86II}\n",
    "args_dict = {\"86III\": {\"nb\": nb_86III, \"srcs\": grb_srcs_IC86III},\n",
    "             \"86II\": {\"nb\": nb_86II, \"srcs\": grb_srcs_IC86II}}"
   ]
  },
  {
   "cell_type": "markdown",
   "metadata": {
    "hidden": true
   },
   "source": [
    "Add in some signal samples"
   ]
  },
  {
   "cell_type": "code",
   "execution_count": null,
   "metadata": {
    "hidden": true
   },
   "outputs": [],
   "source": [
    "siginj = SigInj.SignalInjector(gamma=2.)\n",
    "mcs = {\"86III\": sim_pdf_86III, \"86II\": sim_pdf_86II}\n",
    "srcs = {\"86III\": grb_srcs_IC86III, \"86II\": grb_srcs_IC86II}\n",
    "siginj.fit(srcs=srcs, MC=mcs, exp_names=data_pdf_86III.dtype.names)\n",
    "gen = siginj.sample(mean_mu=10)\n",
    "print(\"1 event flux: {:.6f} GeV^-1cm^-2\".format(siginj.mu2flux(1)))"
   ]
  },
  {
   "cell_type": "code",
   "execution_count": null,
   "metadata": {
    "hidden": true
   },
   "outputs": [],
   "source": [
    "X_new = {}\n",
    "sam = next(gen)\n",
    "\n",
    "for key, arr in X_dict.items():\n",
    "    X_new[key] = np.concatenate((arr, sam[1][key]))"
   ]
  },
  {
   "cell_type": "markdown",
   "metadata": {
    "hidden": true
   },
   "source": [
    "Fit single and combined LLHs."
   ]
  },
  {
   "cell_type": "code",
   "execution_count": null,
   "metadata": {
    "hidden": true
   },
   "outputs": [],
   "source": [
    "grbllh_ic86II.fit_lnllh_ratio(X=X_new[\"86II\"], ns0=1.,\n",
    "                              args=args_dict[\"86II\"],\n",
    "                              bounds=[[0, None]], minimizer_opts=None)"
   ]
  },
  {
   "cell_type": "code",
   "execution_count": null,
   "metadata": {
    "hidden": true
   },
   "outputs": [],
   "source": [
    "grbllh_ic86III.fit_lnllh_ratio(X=X_new[\"86III\"], ns0=1.,\n",
    "                               args=args_dict[\"86III\"],\n",
    "                               bounds=[[0, None]], minimizer_opts=None)"
   ]
  },
  {
   "cell_type": "markdown",
   "metadata": {
    "hidden": true
   },
   "source": [
    "Combined result should almost be the same if "
   ]
  },
  {
   "cell_type": "code",
   "execution_count": null,
   "metadata": {
    "hidden": true
   },
   "outputs": [],
   "source": [
    "ns_bf, TS_bf = multillh2.fit_lnllh_ratio(X=X_new, ns0=1., args=args_dict,\n",
    "                                         bounds=[[0, None]],\n",
    "                                         minimizer_opts=None)\n",
    "print(\"ns best fit: {:.5f}\".format(ns_bf))\n",
    "print(\"TS best fit: {:.5f}\".format(TS_bf))"
   ]
  },
  {
   "cell_type": "markdown",
   "metadata": {
    "hidden": true
   },
   "source": [
    "Scan and plot LLH to verifiy best fit and gradient"
   ]
  },
  {
   "cell_type": "code",
   "execution_count": null,
   "metadata": {
    "hidden": true
   },
   "outputs": [],
   "source": [
    "ns = np.linspace(0, 2 * ns_bf, 100)\n",
    "llh2, grad2 = [], []\n",
    "for nsi in tqdm(ns):\n",
    "    llhi, gradi = multillh2.lnllh_ratio(X_new, nsi, args_dict)\n",
    "    llh2.append(llhi)\n",
    "    grad2.append(gradi)\n",
    "\n",
    "llh2, grad2 = np.vstack((llh2, np.ravel(grad2)))"
   ]
  },
  {
   "cell_type": "code",
   "execution_count": null,
   "metadata": {
    "hidden": true
   },
   "outputs": [],
   "source": [
    "plt.plot(ns, llh2)\n",
    "plt.axvline(ns_bf, 0, 1, ls=\"--\", c=\"k\")\n",
    "plt.xlabel(\"ns\")\n",
    "plt.xlabel(\"llh value\")\n",
    "plt.show()\n",
    "plt.plot(ns, grad2)\n",
    "plt.axhline(0, 0, 1, ls=\"--\", c=\"k\")\n",
    "plt.axvline(ns_bf, 0, 1, ls=\"--\", c=\"k\")\n",
    "plt.ylim(-2, 2)\n",
    "plt.xlabel(\"llh gradient\")\n",
    "plt.plot(0.5 * (ns[:-1] + ns[1:]), np.diff(llh2) / np.diff(ns), ls=\"--\")\n",
    "plt.show()"
   ]
  },
  {
   "cell_type": "markdown",
   "metadata": {
    "heading_collapsed": true,
    "hidden": true
   },
   "source": [
    "### 1 sample"
   ]
  },
  {
   "cell_type": "code",
   "execution_count": null,
   "metadata": {
    "hidden": true
   },
   "outputs": [],
   "source": [
    "multillh1 = LLH.MultiSampleGRBLLH()\n",
    "multillh1.add_sample(\"86III\", grbllh_ic86III)\n",
    "X_dict = {\"86III\": X_86III}\n",
    "args_dict = {\"86III\": {\"nb\": nb_86III, \"srcs\": grb_srcs_IC86III}}"
   ]
  },
  {
   "cell_type": "code",
   "execution_count": null,
   "metadata": {
    "hidden": true
   },
   "outputs": [],
   "source": [
    "ns = np.linspace(0, 10, 100)\n",
    "llh1, grad1 = [], []\n",
    "for nsi in tqdm(ns):\n",
    "    llhi, gradi = multillh1.lnllh_ratio(X_dict, nsi, args_dict)\n",
    "    llh1.append(llhi)\n",
    "    grad1.append(gradi)\n",
    "\n",
    "llh1, grad1 = np.vstack((llh1, np.ravel(grad1)))"
   ]
  },
  {
   "cell_type": "code",
   "execution_count": null,
   "metadata": {
    "hidden": true
   },
   "outputs": [],
   "source": [
    "plt.plot(ns, llh1)\n",
    "plt.show()\n",
    "plt.plot(ns, grad1)\n",
    "plt.plot(0.5 * (ns[:-1] + ns[1:]), np.diff(llh1) / np.diff(ns), ls=\"--\")\n",
    "plt.show()"
   ]
  },
  {
   "cell_type": "markdown",
   "metadata": {
    "heading_collapsed": true,
    "hidden": true
   },
   "source": [
    "### Single sample LLH must be the same as multi LLH for a single added sample"
   ]
  },
  {
   "cell_type": "code",
   "execution_count": null,
   "metadata": {
    "hidden": true
   },
   "outputs": [],
   "source": [
    "args = {\"nb\": nb_86III, \"srcs\": grb_srcs_IC86III}"
   ]
  },
  {
   "cell_type": "code",
   "execution_count": null,
   "metadata": {
    "hidden": true
   },
   "outputs": [],
   "source": [
    "ns = np.linspace(0, 10, 100)\n",
    "llh0, grad0 = [], []\n",
    "for nsi in tqdm(ns):\n",
    "    llhi, gradi = grbllh_ic86III.lnllh_ratio(X_86III, nsi, args)\n",
    "    llh0.append(llhi)\n",
    "    grad0.append(gradi)\n",
    "\n",
    "llh0, grad0 = np.vstack((llh0, np.ravel(grad0)))"
   ]
  },
  {
   "cell_type": "code",
   "execution_count": null,
   "metadata": {
    "hidden": true
   },
   "outputs": [],
   "source": [
    "plt.plot(ns, llh0)\n",
    "try:\n",
    "    plt.plot(ns, llh1, ls=\"--\")\n",
    "except:\n",
    "    print(\"llh1 cell not executed yet\")\n",
    "plt.show()\n",
    "plt.plot(ns, grad0)\n",
    "plt.plot(0.5 * (ns[:-1] + ns[1:]), np.diff(llh0) / np.diff(ns), ls=\"--\")\n",
    "try:\n",
    "    plt.plot(ns, grad1, ls=\":\", lw=1)\n",
    "except:\n",
    "    print(\"grad1 cell not executed yet\")\n",
    "plt.show()"
   ]
  },
  {
   "cell_type": "markdown",
   "metadata": {
    "heading_collapsed": true,
    "hidden": true
   },
   "source": [
    "### LLH test plots"
   ]
  },
  {
   "cell_type": "code",
   "execution_count": null,
   "metadata": {
    "hidden": true
   },
   "outputs": [],
   "source": [
    "sindec = np.linspace(-0.1, 1., 100)\n",
    "\n",
    "yIII = grbllh_ic86III._pdf_spatial_background(ev_sin_dec=sindec)\n",
    "yII = grbllh_ic86II._pdf_spatial_background(ev_sin_dec=sindec)\n",
    "\n",
    "plt.plot(sindec, yIII, label=\"IC86III\")\n",
    "plt.plot(sindec, yII, label=\"IC86II\")\n",
    "plt.show()"
   ]
  },
  {
   "cell_type": "code",
   "execution_count": null,
   "metadata": {
    "hidden": true
   },
   "outputs": [],
   "source": [
    "fig, ax = plt.subplots(1, 2, figsize=(14, 6))\n",
    "\n",
    "bins = [sin_dec_bins, logE_bins]\n",
    "x = np.linspace(*bins[0][[0, -1]], num=100 + 1)\n",
    "y = np.linspace(*bins[1][[0, -1]], num=100 + 1)\n",
    "\n",
    "XX, YY = np.meshgrid(x, y)\n",
    "xx, yy = map(np.ravel, [XX, YY])\n",
    "\n",
    "values = {\"III\": {\"llh\": grbllh_ic86III, \"cut\": score_cut_86III},\n",
    "          \"II\": {\"llh\": grbllh_ic86II, \"cut\": score_cut_86II}}\n",
    "\n",
    "for axi, key in zip(ax, list(values.keys())):\n",
    "    zz = values[key][\"llh\"]._soverb_energy(xx, yy)\n",
    "    ZZ = zz.reshape(XX.shape)\n",
    "    img = axi.pcolormesh(XX, YY, np.log10(ZZ), cmap=\"coolwarm\",\n",
    "                         vmin=-6, vmax=6)\n",
    "    \n",
    "    cbar = plt.colorbar(ax=axi, mappable=img)\n",
    "    cbar.set_label(\"log10(ratio)\")\n",
    "\n",
    "    axi.set_xlabel(\"sin(dec)\")\n",
    "    axi.set_ylabel(\"muex in log10(GeV)\")\n",
    "    axi.set_title(\"Energy PDF for IC86{}. \".format(key) +\n",
    "                 \"score_cut: > {:.2f}\".format(values[key][\"cut\"]))\n",
    "\n",
    "fig.tight_layout()\n",
    "# plt.savefig(\"./fig_mc_energy_pdf/score_cut_\" +\n",
    "#             \"{:.2f}_mc_energy_pdf.png\".format(score_cut), dpi=150)\n",
    "plt.show()"
   ]
  },
  {
   "cell_type": "markdown",
   "metadata": {
    "heading_collapsed": true,
    "hidden": true
   },
   "source": [
    "## BG injectors"
   ]
  },
  {
   "cell_type": "markdown",
   "metadata": {
    "heading_collapsed": true,
    "hidden": true
   },
   "source": [
    "### 86III"
   ]
  },
  {
   "cell_type": "code",
   "execution_count": null,
   "metadata": {
    "hidden": true
   },
   "outputs": [],
   "source": [
    "# Choose your rate function\n",
    "rate_func_obj = RateFunc.Sinus1yrConstRateFunction(rndgen_86III)\n",
    "\n",
    "# Make the injector based on the rate function\n",
    "bg_rate_inj_86III = BGRateInj.RunlistBGRateInjector(\n",
    "    rate_func_obj, goodruns_86III, random_state=rndgen_86III)\n",
    "\n",
    "# Fit the injector to make it usable\n",
    "times_86III = np.delete(data_pdf_86III[\"timeMJD\"], [39023, 52880, 63524])\n",
    "rate_func_86III = bg_rate_inj_86III.fit(T=times_86III, x0=None,\n",
    "                                        remove_zero_runs=False)\n",
    "\n",
    "# Now the evt injector for the other attributes\n",
    "# bg_inj = BGInj.MRichmanBGInjector(random_state=rndgen)\n",
    "bg_inj_86III = BGInj.DataBGInjector(random_state=rndgen_86III)\n",
    "\n",
    "if type(bg_inj_86III) == BGInj.DataBGInjector:\n",
    "    bg_inj_86III.fit(X=data_pdf_86III)\n",
    "elif type(bg_inj_86III) == BGInj.MRichmanBGInjector:\n",
    "    edges = np.vstack(([1., -0.1, 0.], [5., np.pi / 2., np.deg2rad(10.)])).T\n",
    "    mr_nbins = 10\n",
    "    all_bins = bg_inj_86III.fit(X=data_pdf, nbins=mr_nbins, minmax=False)"
   ]
  },
  {
   "cell_type": "markdown",
   "metadata": {
    "heading_collapsed": true,
    "hidden": true
   },
   "source": [
    "### 86II"
   ]
  },
  {
   "cell_type": "code",
   "execution_count": null,
   "metadata": {
    "hidden": true
   },
   "outputs": [],
   "source": [
    "# Choose your rate function\n",
    "rate_func_obj = RateFunc.Sinus1yrConstRateFunction(rndgen_86II)\n",
    "\n",
    "# Make the injector based on the rate function\n",
    "bg_rate_inj_86II = BGRateInj.RunlistBGRateInjector(\n",
    "    rate_func_obj, goodruns_86II, random_state=rndgen_86II)\n",
    "\n",
    "# Fit the injector to make it usable\n",
    "out_times = [1455, 7030, 8863, 13724, 17655, 20423, 22191, 26127, 28365,\n",
    "             45350, 48338, 53590, 104330, 120422, 123279]\n",
    "times_86II = np.delete(data_pdf_86II[\"timeMJD\"], out_times)\n",
    "rate_func_86II = bg_rate_inj_86II.fit(T=times_86II, x0=None,\n",
    "                                      remove_zero_runs=False)\n",
    "\n",
    "# Now the evt injector for the other attributes\n",
    "# bg_inj = BGInj.MRichmanBGInjector(random_state=rndgen)\n",
    "bg_inj_86II = BGInj.DataBGInjector(random_state=rndgen_86II)\n",
    "\n",
    "if type(bg_inj_86II) == BGInj.DataBGInjector:\n",
    "    bg_inj_86II.fit(X=data_pdf_86II)\n",
    "elif type(bg_inj_86II) == BGInj.MRichmanBGInjector:\n",
    "    edges = np.vstack(([1., -0.1, 0.], [5., np.pi / 2., np.deg2rad(10.)])).T\n",
    "    mr_nbins = 10\n",
    "    all_bins = bg_inj_86II.fit(X=data_pdf, nbins=mr_nbins, minmax=False)"
   ]
  },
  {
   "cell_type": "markdown",
   "metadata": {
    "heading_collapsed": true,
    "hidden": true
   },
   "source": [
    "### Multi"
   ]
  },
  {
   "cell_type": "code",
   "execution_count": null,
   "metadata": {
    "hidden": true
   },
   "outputs": [],
   "source": [
    "multibginj = BGInj.MultiBGInjector()\n",
    "multibgrateinj = BGRateInj.MultiBGRateInjector()"
   ]
  },
  {
   "cell_type": "code",
   "execution_count": null,
   "metadata": {
    "hidden": true
   },
   "outputs": [],
   "source": [
    "multibginj.add_injector(\"86II\", bg_inj_86II)\n",
    "multibginj.add_injector(\"86III\", bg_inj_86III)\n",
    "\n",
    "multibgrateinj.add_injector(\"86II\", bg_rate_inj_86II)\n",
    "multibgrateinj.add_injector(\"86III\", bg_rate_inj_86III)"
   ]
  },
  {
   "cell_type": "markdown",
   "metadata": {
    "hidden": true
   },
   "source": [
    "BGInjector"
   ]
  },
  {
   "cell_type": "code",
   "execution_count": null,
   "metadata": {
    "hidden": true
   },
   "outputs": [],
   "source": [
    "nsamples = {\"86II\": 10, \"86III\": 5}\n",
    "bgsam = multibginj.sample(nsamples)\n",
    "bgsam"
   ]
  },
  {
   "cell_type": "markdown",
   "metadata": {
    "hidden": true
   },
   "source": [
    "BGRateInjector"
   ]
  },
  {
   "cell_type": "code",
   "execution_count": null,
   "metadata": {
    "hidden": true
   },
   "outputs": [],
   "source": [
    "t = {\"86III\": grb_srcs_IC86III[\"t\"], \"86II\": grb_srcs_IC86II[\"t\"]}\n",
    "trange = {\"86III\": [[0, dt1] for dt1 in grb_srcs_IC86III[\"dt1\"]],\n",
    "          \"86II\": [[0, dt1] for dt1 in grb_srcs_IC86II[\"dt1\"]]}\n",
    "tsam = multibgrateinj.sample(t=t, trange=trange)\n",
    "tsam"
   ]
  },
  {
   "cell_type": "markdown",
   "metadata": {
    "heading_collapsed": true,
    "hidden": true
   },
   "source": [
    "## Signal Injector tests"
   ]
  },
  {
   "cell_type": "code",
   "execution_count": null,
   "metadata": {
    "hidden": true
   },
   "outputs": [],
   "source": [
    "siginj = SigInj.SignalInjector(gamma=2.)\n",
    "mcs = {\"86III\": sim_pdf_86III, \"86II\": sim_pdf_86II}\n",
    "srcs = {\"86III\": grb_srcs_IC86III, \"86II\": grb_srcs_IC86II}\n",
    "siginj.fit(srcs=srcs, MC=mcs, exp_names=data_pdf_86III.dtype.names)\n",
    "print(\"1 event flux: {:.6f} GeV^-1cm^-2\".format(siginj.mu2flux(1)))"
   ]
  },
  {
   "cell_type": "code",
   "execution_count": null,
   "metadata": {
    "hidden": true
   },
   "outputs": [],
   "source": [
    "gen = siginj.sample(mean_mu=10)\n",
    "sam = next(gen)"
   ]
  },
  {
   "cell_type": "code",
   "execution_count": null,
   "metadata": {
    "hidden": true
   },
   "outputs": [],
   "source": [
    "sam[1][\"86III\"].dtype.names"
   ]
  },
  {
   "cell_type": "markdown",
   "metadata": {
    "heading_collapsed": true,
    "hidden": true
   },
   "source": [
    "### Tests"
   ]
  },
  {
   "cell_type": "markdown",
   "metadata": {
    "hidden": true
   },
   "source": [
    "Expect same result when plugging in the same sample and the same sources two times.\n",
    "We have half the weights, but each event twice which cancels in effects."
   ]
  },
  {
   "cell_type": "code",
   "execution_count": null,
   "metadata": {
    "hidden": true
   },
   "outputs": [],
   "source": [
    "siginj_2 = SigInj.SignalInjector(gamma=2.)\n",
    "mcs = {\"86III\": sim_pdf_86III, \"86II\": sim_pdf_86III}\n",
    "srcs = {\"86III\": grb_srcs_IC86III, \"86II\": grb_srcs_IC86III}\n",
    "siginj_2.fit(srcs=srcs, MC=mcs, exp_names=data_pdf_86III.dtype.names)\n",
    "print(\"1 event flux: {:.6f} GeV^-1cm^-2\".format(siginj_2.mu2flux(1)))"
   ]
  },
  {
   "cell_type": "code",
   "execution_count": null,
   "metadata": {
    "hidden": true
   },
   "outputs": [],
   "source": [
    "siginj_1 = SigInj.SignalInjector(gamma=2.)\n",
    "mcs = {\"86III\": sim_pdf_86III}\n",
    "srcs = {\"86III\": grb_srcs_IC86III}\n",
    "siginj_1.fit(srcs=srcs, MC=mcs, exp_names=data_pdf_86III.dtype.names)\n",
    "print(\"1 event flux: {:.6f} GeV^-1cm^-2\".format(siginj_1.mu2flux(1)))"
   ]
  },
  {
   "cell_type": "code",
   "execution_count": null,
   "metadata": {
    "hidden": true
   },
   "outputs": [],
   "source": [
    "print(\"Both fluxes equal: \", np.isclose(siginj_1.mu2flux(1),\n",
    "                                        siginj_2.mu2flux(1)))"
   ]
  },
  {
   "cell_type": "markdown",
   "metadata": {
    "hidden": true
   },
   "source": [
    "Is single sample wrapper still working?"
   ]
  },
  {
   "cell_type": "code",
   "execution_count": null,
   "metadata": {
    "hidden": true
   },
   "outputs": [],
   "source": [
    "siginj = SigInj.SignalInjector(gamma=2.)\n",
    "siginj.fit(srcs=grb_srcs_IC86III, MC=sim_pdf_86III,\n",
    "           exp_names=data_pdf_86III.dtype.names)\n",
    "print(\"1 event flux: {:.6f} GeV^-1cm^-2\".format(siginj.mu2flux(1)))"
   ]
  },
  {
   "cell_type": "code",
   "execution_count": null,
   "metadata": {
    "hidden": true
   },
   "outputs": [],
   "source": [
    "gen = siginj.sample(mean_mu=10)\n",
    "sam = next(gen)"
   ]
  },
  {
   "cell_type": "code",
   "execution_count": null,
   "metadata": {
    "hidden": true
   },
   "outputs": [],
   "source": [
    "sam[1].dtype.names"
   ]
  }
 ],
 "metadata": {
  "celltoolbar": "Initialisation Cell",
  "hide_input": false,
  "kernelspec": {
   "display_name": "Python 2 (OSX)",
   "language": "python",
   "name": "python2"
  },
  "language_info": {
   "codemirror_mode": {
    "name": "ipython",
    "version": 2
   },
   "file_extension": ".py",
   "mimetype": "text/x-python",
   "name": "python",
   "nbconvert_exporter": "python",
   "pygments_lexer": "ipython2",
   "version": "2.7.10"
  }
 },
 "nbformat": 4,
 "nbformat_minor": 2
}

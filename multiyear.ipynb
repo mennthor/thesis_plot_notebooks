{
 "cells": [
  {
   "cell_type": "code",
   "execution_count": null,
   "metadata": {
    "init_cell": true
   },
   "outputs": [],
   "source": [
    "import os\n",
    "import sys\n",
    "import json\n",
    "import math\n",
    "from astropy.time import Time as astrotime\n",
    "from tqdm import tqdm_notebook as tqdm\n",
    "\n",
    "import numpy as np\n",
    "from numpy.lib.recfunctions import drop_fields\n",
    "\n",
    "import matplotlib\n",
    "import matplotlib.pyplot as plt\n",
    "from matplotlib.colors import LogNorm\n",
    "%matplotlib inline\n",
    "\n",
    "import scipy.interpolate as sci\n",
    "import scipy.optimize as sco\n",
    "import scipy.integrate as scint\n",
    "import scipy.stats as scs\n",
    "\n",
    "import anapymods3.plots.astro as amp_plt\n",
    "from anapymods3.plots import (split_axis, get_binmids, hist_marginalize,\n",
    "                              hist_from_counts, dg)\n",
    "from anapymods3.stats import rejection_sampling, json2kde, sigma2prob\n",
    "from anapymods3.general import fill_dict_defaults\n",
    "from anapymods3.healpy import wrap_theta_phi_range\n",
    "\n",
    "import tdepps.bg_injector as BGInj\n",
    "import tdepps.bg_rate_injector as BGRateInj\n",
    "import tdepps.rate_function as RateFunc\n",
    "import tdepps.llh as LLH\n",
    "import tdepps.analysis as Analysis\n",
    "import tdepps.signal_injector as SigInj\n",
    "from tdepps.utils import rejection_sampling, func_min_in_interval, rotator\n",
    "\n",
    "secinday = 24. * 60. * 60.\n",
    "print(\"Executed on \", astrotime.now())"
   ]
  },
  {
   "cell_type": "markdown",
   "metadata": {},
   "source": [
    "Test multi year analysis build on top of the single year one."
   ]
  },
  {
   "cell_type": "markdown",
   "metadata": {
    "heading_collapsed": true
   },
   "source": [
    "# Setup GRB sample"
   ]
  },
  {
   "cell_type": "code",
   "execution_count": null,
   "metadata": {
    "collapsed": true,
    "hidden": true,
    "init_cell": true
   },
   "outputs": [],
   "source": [
    "rndgen = np.random.RandomState(7353)"
   ]
  },
  {
   "cell_type": "code",
   "execution_count": null,
   "metadata": {
    "collapsed": true,
    "hidden": true,
    "init_cell": true
   },
   "outputs": [],
   "source": [
    "data = np.load(\"data/GRB_IC86III/data.npy\")\n",
    "sim = np.load(\"data/GRB_IC86III/sim_IC86III_nugen_10634.npy\")\n",
    "grblist = np.load(\"data/GRB_IC86III/grblist.npy\")\n",
    "with open(\"data/GRB_IC86III/runlist.json\", \"r\") as infile:\n",
    "    runlist = json.load(infile)\n",
    "    \n",
    "nfiles = 956\n",
    "nevents = 5000\n",
    "ngen = float(nfiles * nevents)\n",
    "    \n",
    "# Cut on score\n",
    "score_cut = 0.5\n",
    "data = data[data[\"score\"] > score_cut]\n",
    "sim = sim[sim[\"score\"] > score_cut]\n",
    "    \n",
    "run_ids = runlist.keys()\n",
    "livetimes = []\n",
    "for key in run_ids:\n",
    "    livetimes.append(runlist[key][\"livetime\"])\n",
    "livetimes = np.array(livetimes)\n",
    "livetime = np.sum(livetimes)\n",
    "livetime_days = livetime / 24. / 3600."
   ]
  },
  {
   "cell_type": "code",
   "execution_count": null,
   "metadata": {
    "hidden": true,
    "init_cell": true
   },
   "outputs": [],
   "source": [
    "def is_on_time(run_id):\n",
    "    key = str(int(run_id))\n",
    "    return True if runlist[key][\"ontime\"] else False\n",
    "\n",
    "on_mask = np.array(list(map(is_on_time, data[\"run_id\"])))\n",
    "assert np.sum(on_mask) + np.sum(~on_mask) == len(data)\n",
    "\n",
    "on_data = data[on_mask]\n",
    "off_data = data[~on_mask]\n",
    "\n",
    "# Get livetime split\n",
    "on_livetime = np.sum([run[\"livetime\"] if run[\"ontime\"] else 0.\n",
    "                       for run in runlist.values()])\n",
    "off_livetime = np.sum([run[\"livetime\"] if not run[\"ontime\"] else 0.\n",
    "                       for run in runlist.values()])\n",
    "assert livetime == (on_livetime + off_livetime)\n",
    "\n",
    "print(\"Off livetime   : {:6.2f} days\".format(off_livetime / 24. / 3600.))\n",
    "print(\"On livetime    : {:6.2f} days\".format(on_livetime / 24. / 3600.))\n",
    "print(\"Total livetime : {:6.2f} days\".format(livetime_days))"
   ]
  },
  {
   "cell_type": "code",
   "execution_count": null,
   "metadata": {
    "collapsed": true,
    "hidden": true,
    "init_cell": true
   },
   "outputs": [],
   "source": [
    "nsrcs = len(grblist)\n",
    "names = [\"t\", \"dt0\", \"dt1\", \"ra\", \"dec\", \"w_theo\", \"sigma\"]\n",
    "types = len(names) * [np.float]\n",
    "dtype = [(name, typ) for name, typ in zip(names, types)]\n",
    "\n",
    "grb_srcs = np.empty((nsrcs, ), dtype=dtype)\n",
    "\n",
    "grb_srcs[\"t\"] = grblist[\"timeMJD\"]\n",
    "grb_srcs[\"dt0\"] = np.zeros(nsrcs, dtype=np.float)\n",
    "grb_srcs[\"dt1\"] = grblist[\"t100\"]\n",
    "grb_srcs[\"ra\"] = grblist[\"ra\"]\n",
    "grb_srcs[\"dec\"] = grblist[\"dec\"]\n",
    "grb_srcs[\"w_theo\"] = np.ones(nsrcs, dtype=np.float)\n",
    "grb_srcs[\"sigma\"] = grblist[\"sigma\"]"
   ]
  },
  {
   "cell_type": "code",
   "execution_count": null,
   "metadata": {
    "hidden": true,
    "init_cell": true
   },
   "outputs": [],
   "source": [
    "runs = []\n",
    "for key, item in runlist.items():\n",
    "    d = item.copy()\n",
    "    tstart = astrotime(item[\"tStart\"], format=\"mjd\").iso\n",
    "    tstop = astrotime(item[\"tStop\"], format=\"mjd\").iso\n",
    "    d[\"run\"] = int(key)\n",
    "    d[\"good_tstart\"] = tstart\n",
    "    d[\"good_tstop\"] = tstop\n",
    "    runs.append(d)\n",
    "\n",
    "goodruns = {\"runs\": runs}\n",
    "print(\"Number of all runs : \", len(runs))\n",
    "off_len =  len(filter(lambda runi: not runi[\"ontime\"], runs))\n",
    "on_len =  len(filter(lambda runi: runi[\"ontime\"], runs))\n",
    "print(\"Number of off runs : \",off_len)\n",
    "print(\"Number of on runs  : \", on_len)\n",
    "\n",
    "assert off_len + on_len == len(runs)"
   ]
  },
  {
   "cell_type": "code",
   "execution_count": null,
   "metadata": {
    "hidden": true,
    "init_cell": true
   },
   "outputs": [],
   "source": [
    "rndgen = np.random.RandomState(28756)\n",
    "\n",
    "# Create the GRBLLH object with all the PDF settings\n",
    "# Note: Range derived from sinDec hist in NRT wiki\n",
    "sin_dec_bins = np.linspace(-0.1, 1, 17 + 1)  \n",
    "\n",
    "# Range is derived from hist, dropping some wrongly reconstructed events\n",
    "min_logE = -1.\n",
    "max_logE = 10.\n",
    "logE_bins = np.linspace(min_logE, max_logE, 40)\n",
    "\n",
    "# Remove wrongly reconstructed events outside range from off data & sim\n",
    "logE_mask = (sim[\"logE\"] > min_logE) & (sim[\"logE\"] < max_logE)\n",
    "sim_pdf_full = sim[logE_mask]\n",
    "print(\"Removed {} events in logE for simulation.\".format(np.sum(~logE_mask)))\n",
    "logE_mask = (off_data[\"logE\"] > min_logE) & (off_data[\"logE\"] < max_logE)\n",
    "data_pdf_full = off_data[logE_mask]\n",
    "print(\"Removed {} events in logE for data.\".format(np.sum(~logE_mask)))\n",
    "\n",
    "# Later 3 events show up, that have times outside the run times. These are\n",
    "# removed too - still strange.\n",
    "time_idx = [39023, 52880, 63524]\n",
    "data_pdf_full = np.delete(data_pdf_full, time_idx)\n",
    "\n",
    "# Check weights for E2 signal against built-in weights\n",
    "gamma = 2.\n",
    "type_w = 0.5         # Nugen defaults: 50:50 nu, anti-nu\n",
    "norm_per_type = 0.5  # Astro just splits 50:50\n",
    "sim_pdf_full[\"ow\"] /= ngen * type_w  # Norm to OW per type and \"sim-livetime\"\n",
    "w = norm_per_type * sim_pdf_full[\"trueE\"]**(-gamma) * sim_pdf_full[\"ow\"]\n",
    "\n",
    "print(\"Included and self made weights ar the same: \",\n",
    "      np.allclose(sim_pdf_full[\"weight_E2\"], w))\n",
    "\n",
    "# Now strip off uneeded fields so data and sim are compatible for tdepps\n",
    "data_pdf = drop_fields(data_pdf_full, [\"run_id\", \"event_id\", \"score\",\n",
    "                                       \"azi\", \"zen\"])\n",
    "sim_pdf = drop_fields(sim_pdf_full, [\"azi\", \"zen\", \"score\", \"weight_E2\",\n",
    "                                     \"weight_honda\", \"trueAzi\", \"trueZen\"])"
   ]
  },
  {
   "cell_type": "markdown",
   "metadata": {},
   "source": [
    "# tdepps setup"
   ]
  },
  {
   "cell_type": "code",
   "execution_count": null,
   "metadata": {
    "collapsed": false
   },
   "outputs": [],
   "source": [
    "spatial_pdf_args = {\"bins\": sin_dec_bins, \"k\": 3, \"kent\": True}\n",
    "\n",
    "energy_pdf_args = {\"bins\": [sin_dec_bins, logE_bins], \"gamma\": 2.,\n",
    "                   \"fillval\": \"col\", \"interpol_log\": False,\n",
    "                   \"mc_bg_weights\": None,\n",
    "                   \"smooth_sigma\": [[0., 0.], [0., 0.]], \"logE_asc\": False}\n",
    "\n",
    "time_pdf_args = {\"nsig\": 4., \"sigma_t_min\": 2., \"sigma_t_max\": 30.}\n",
    "\n",
    "llh_args = {\"sob_rel_eps\": 0., \"sob_abs_eps\": 1e-4}\n",
    "\n",
    "grbllh_1 = LLH.GRBLLH(X=data_pdf, MC=sim_pdf,\n",
    "                      spatial_pdf_args=spatial_pdf_args,\n",
    "                      energy_pdf_args=energy_pdf_args,\n",
    "                      time_pdf_args=time_pdf_args,\n",
    "                      llh_args=llh_args)\n",
    "\n",
    "grbllh_2 = LLH.GRBLLH(X=data_pdf, MC=sim_pdf,\n",
    "                      spatial_pdf_args=spatial_pdf_args,\n",
    "                      energy_pdf_args=energy_pdf_args,\n",
    "                      time_pdf_args=time_pdf_args,\n",
    "                      llh_args=llh_args)\n",
    "\n",
    "grbllh_3 = LLH.GRBLLH(X=data_pdf, MC=sim_pdf,\n",
    "                      spatial_pdf_args=spatial_pdf_args,\n",
    "                      energy_pdf_args=energy_pdf_args,\n",
    "                      time_pdf_args=time_pdf_args,\n",
    "                      llh_args=llh_args)"
   ]
  },
  {
   "cell_type": "markdown",
   "metadata": {},
   "source": [
    "## Test LLH evaluation"
   ]
  },
  {
   "cell_type": "code",
   "execution_count": null,
   "metadata": {},
   "outputs": [],
   "source": [
    "# Create data to evaluate from on data\n",
    "names = [\"timeMJD\", \"ra\", \"sinDec\", \"logE\", \"sigma\"]\n",
    "types = len(names) * [np.float]\n",
    "dtype = [(name, typ) for name, typ in zip(names, types)]\n",
    "X = np.empty((len(on_data)), dtype=dtype)\n",
    "\n",
    "for name in X.dtype.names:\n",
    "    X[name] = on_data[name]"
   ]
  },
  {
   "cell_type": "code",
   "execution_count": null,
   "metadata": {
    "collapsed": false
   },
   "outputs": [],
   "source": [
    "# Approx BG expectation per GRB: 5mHz * dt\n",
    "nb = 5e-3 * (grb_srcs[\"dt1\"] - grb_srcs[\"dt0\"])"
   ]
  },
  {
   "cell_type": "markdown",
   "metadata": {},
   "source": [
    "3 sources"
   ]
  },
  {
   "cell_type": "code",
   "execution_count": null,
   "metadata": {
    "collapsed": false
   },
   "outputs": [],
   "source": [
    "multillh3 = LLH.MultiSampleGRBLLH()\n",
    "multillh3.add_sample(\"GRB2013a\", grbllh_1)\n",
    "multillh3.add_sample(\"GRB2013b\", grbllh_2)\n",
    "multillh3.add_sample(\"GRB2013c\", grbllh_3)"
   ]
  },
  {
   "cell_type": "code",
   "execution_count": null,
   "metadata": {
    "collapsed": false
   },
   "outputs": [],
   "source": [
    "X_dict = {\"GRB2013a\": X, \"GRB2013b\": X, \"GRB2013c\": X}\n",
    "args_dict = {\"GRB2013a\": {\"nb\": nb, \"srcs\": grb_srcs},\n",
    "             \"GRB2013b\": {\"nb\": nb, \"srcs\": grb_srcs},\n",
    "             \"GRB2013c\": {\"nb\": nb, \"srcs\": grb_srcs}}"
   ]
  },
  {
   "cell_type": "code",
   "execution_count": null,
   "metadata": {},
   "outputs": [],
   "source": [
    "%%time\n",
    "ns = np.linspace(0, 10, 100)\n",
    "llh3, grad3 = np.array([multillh.lnllh_ratio(X_dict, nsi, args_dict)\n",
    "                        for nsi in ns]).T"
   ]
  },
  {
   "cell_type": "code",
   "execution_count": null,
   "metadata": {},
   "outputs": [],
   "source": [
    "plt.plot(ns, llh3)\n",
    "plt.show()\n",
    "plt.plot(ns, grad3)\n",
    "plt.plot(0.5 * (ns[:-1] + ns[1:]), np.diff(llh3) / np.diff(ns), ls=\"--\")\n",
    "plt.show()"
   ]
  },
  {
   "cell_type": "markdown",
   "metadata": {},
   "source": [
    "2 sources"
   ]
  },
  {
   "cell_type": "code",
   "execution_count": null,
   "metadata": {
    "collapsed": false
   },
   "outputs": [],
   "source": [
    "multillh2 = LLH.MultiSampleGRBLLH()\n",
    "multillh2.add_sample(\"GRB2013a\", grbllh_1)\n",
    "multillh2.add_sample(\"GRB2013b\", grbllh_2)\n",
    "X_dict = {\"GRB2013a\": X, \"GRB2013b\": X}\n",
    "args_dict = {\"GRB2013a\": {\"nb\": nb, \"srcs\": grb_srcs},\n",
    "             \"GRB2013b\": {\"nb\": nb, \"srcs\": grb_srcs}}"
   ]
  },
  {
   "cell_type": "code",
   "execution_count": null,
   "metadata": {},
   "outputs": [],
   "source": [
    "%%time\n",
    "ns = np.linspace(0, 10, 100)\n",
    "llh2, grad2 = np.array([multillh.lnllh_ratio(X_dict, nsi, args_dict)\n",
    "                        for nsi in ns]).T"
   ]
  },
  {
   "cell_type": "code",
   "execution_count": null,
   "metadata": {},
   "outputs": [],
   "source": [
    "plt.plot(ns, llh2)\n",
    "plt.show()\n",
    "plt.plot(ns, grad2)\n",
    "plt.plot(0.5 * (ns[:-1] + ns[1:]), np.diff(llh2) / np.diff(ns), ls=\"--\")\n",
    "plt.show()"
   ]
  },
  {
   "cell_type": "markdown",
   "metadata": {},
   "source": [
    "1 source"
   ]
  },
  {
   "cell_type": "code",
   "execution_count": null,
   "metadata": {
    "collapsed": false
   },
   "outputs": [],
   "source": [
    "multillh1 = LLH.MultiSampleGRBLLH()\n",
    "multillh1.add_sample(\"GRB2013a\", grbllh_1)\n",
    "X_dict = {\"GRB2013a\": X}\n",
    "args_dict = {\"GRB2013a\": {\"nb\": nb, \"srcs\": grb_srcs}}"
   ]
  },
  {
   "cell_type": "code",
   "execution_count": null,
   "metadata": {},
   "outputs": [],
   "source": [
    "%%time\n",
    "ns = np.linspace(0, 10, 100)\n",
    "llh1, grad1 = np.array([multillh.lnllh_ratio(X_dict, nsi, args_dict)\n",
    "                        for nsi in ns]).T"
   ]
  },
  {
   "cell_type": "code",
   "execution_count": null,
   "metadata": {},
   "outputs": [],
   "source": [
    "plt.plot(ns, llh1)\n",
    "plt.show()\n",
    "plt.plot(ns, grad1)\n",
    "plt.plot(0.5 * (ns[:-1] + ns[1:]), np.diff(llh1) / np.diff(ns), ls=\"--\")\n",
    "plt.show()"
   ]
  },
  {
   "cell_type": "markdown",
   "metadata": {},
   "source": [
    "Single sample LLH must be the same as multi LLH for a single added sample"
   ]
  },
  {
   "cell_type": "code",
   "execution_count": null,
   "metadata": {
    "collapsed": false
   },
   "outputs": [],
   "source": [
    "args = {\"nb\": nb, \"srcs\": grb_srcs}"
   ]
  },
  {
   "cell_type": "code",
   "execution_count": null,
   "metadata": {},
   "outputs": [],
   "source": [
    "%%time\n",
    "ns = np.linspace(0, 10, 100)\n",
    "llh0, grad0 = np.array([grbllh_1.lnllh_ratio(X, nsi, args)\n",
    "                        for nsi in ns]).T"
   ]
  },
  {
   "cell_type": "code",
   "execution_count": null,
   "metadata": {},
   "outputs": [],
   "source": [
    "plt.plot(ns, llh0)\n",
    "plt.plot(ns, llh1, ls=\"--\")\n",
    "plt.show()\n",
    "plt.plot(ns, grad0)\n",
    "plt.plot(0.5 * (ns[:-1] + ns[1:]), np.diff(llh0) / np.diff(ns), ls=\"--\")\n",
    "plt.plot(ns, grad1, ls=\":\", lw=1)\n",
    "plt.show()"
   ]
  },
  {
   "cell_type": "markdown",
   "metadata": {
    "heading_collapsed": true
   },
   "source": [
    "# Misc"
   ]
  },
  {
   "cell_type": "code",
   "execution_count": null,
   "metadata": {
    "collapsed": false,
    "hidden": true
   },
   "outputs": [],
   "source": [
    "# Choose your rate function\n",
    "rate_func_obj = RateFunc.Sinus1yrConstRateFunction(rndgen)\n",
    "\n",
    "# Make the injector based on the rate function\n",
    "bg_rate_inj = BGRateInj.RunlistBGRateInjector(rate_func_obj, goodruns,\n",
    "                                              random_state=rndgen)\n",
    "\n",
    "# Fit the injector to make it usable\n",
    "times = data_pdf[\"timeMJD\"]\n",
    "rate_func = bg_rate_inj.fit(T=times, x0=None, remove_zero_runs=False)\n",
    "\n",
    "# Now the evt injector for the other attributes\n",
    "bg_inj = BGInj.MRichmanBGInjector(random_state=rndgen)\n",
    "\n",
    "if type(bg_inj) == BGInj.DataBGInjector:\n",
    "    bg_inj.fit(X=data_pdf)\n",
    "elif type(bg_inj) == BGInj.MRichmanBGInjector:\n",
    "    edges = np.vstack(([1., -0.1, 0.], [5., np.pi / 2., np.deg2rad(10.)])).T\n",
    "    mr_nbins = 10\n",
    "    all_bins = bg_inj.fit(X=data_pdf, nbins=mr_nbins, minmax=False)"
   ]
  },
  {
   "cell_type": "code",
   "execution_count": null,
   "metadata": {
    "collapsed": false,
    "hidden": true
   },
   "outputs": [],
   "source": [
    "gamma = 2.\n",
    "sin_dec_range = spatial_pdf_args[\"bins\"][[0, -1]]\n",
    "sin_dec_range = [-0.1, 1.]\n",
    "sig_inj = SigInj.SignalInjector(gamma=gamma, inj_width=np.deg2rad(3),\n",
    "                                sin_dec_range=sin_dec_range,\n",
    "                                random_state=rndgen)\n",
    "\n",
    "sig_inj.fit(MC=sim_pdf, srcs=grb_srcs, exp_names=data_pdf.dtype.names)\n",
    "\n",
    "print(\"\\nFlux for one injected event is: {:.4f} GeV^-1 cm^-2\".format(\n",
    "    sig_inj.mu2flux(1., per_source=False)))"
   ]
  }
 ],
 "metadata": {
  "celltoolbar": "Initialisation Cell",
  "hide_input": false,
  "kernelspec": {
   "display_name": "Python 2 (OSX)",
   "language": "python",
   "name": "python2"
  },
  "language_info": {
   "codemirror_mode": {
    "name": "ipython",
    "version": 2
   },
   "file_extension": ".py",
   "mimetype": "text/x-python",
   "name": "python",
   "nbconvert_exporter": "python",
   "pygments_lexer": "ipython2",
   "version": "2.7.10"
  }
 },
 "nbformat": 4,
 "nbformat_minor": 2
}

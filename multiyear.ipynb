{
 "cells": [
  {
   "cell_type": "code",
   "execution_count": null,
   "metadata": {
    "init_cell": true,
    "scrolled": true
   },
   "outputs": [],
   "source": [
    "import os\n",
    "import sys\n",
    "import json\n",
    "import math\n",
    "from astropy.time import Time as astrotime\n",
    "from tqdm import tqdm_notebook as tqdm\n",
    "\n",
    "import numpy as np\n",
    "from numpy.lib.recfunctions import drop_fields\n",
    "\n",
    "import matplotlib\n",
    "import matplotlib.pyplot as plt\n",
    "from matplotlib.colors import LogNorm\n",
    "%matplotlib inline\n",
    "\n",
    "import scipy.interpolate as sci\n",
    "import scipy.optimize as sco\n",
    "import scipy.integrate as scint\n",
    "import scipy.stats as scs\n",
    "\n",
    "import anapymods3.plots.astro as amp_plt\n",
    "from anapymods3.plots import (split_axis, get_binmids, hist_marginalize,\n",
    "                              hist_from_counts, dg)\n",
    "from anapymods3.stats import rejection_sampling, json2kde, sigma2prob\n",
    "from anapymods3.general import fill_dict_defaults, total_size\n",
    "from anapymods3.healpy import wrap_theta_phi_range\n",
    "\n",
    "import tdepps.bg_injector as BGInj\n",
    "import tdepps.bg_rate_injector as BGRateInj\n",
    "import tdepps.rate_function as RateFunc\n",
    "import tdepps.llh as LLH\n",
    "import tdepps.analysis as Analysis\n",
    "import tdepps.signal_injector as SigInj\n",
    "from tdepps.utils import rejection_sampling, func_min_in_interval, rotator\n",
    "\n",
    "secinday = 24. * 60. * 60.\n",
    "print(\"Executed on \", astrotime.now())"
   ]
  },
  {
   "cell_type": "markdown",
   "metadata": {},
   "source": [
    "Test multi year analysis build on top of the single year one."
   ]
  },
  {
   "cell_type": "markdown",
   "metadata": {},
   "source": [
    "# Setup GRB samples"
   ]
  },
  {
   "cell_type": "code",
   "execution_count": null,
   "metadata": {
    "collapsed": true,
    "init_cell": true
   },
   "outputs": [],
   "source": [
    "rndgen_86II = np.random.RandomState(735005)  # Google\n",
    "rndgen_86III = np.random.RandomState(7353)   # Esel"
   ]
  },
  {
   "cell_type": "markdown",
   "metadata": {
    "heading_collapsed": true
   },
   "source": [
    "### IC86III (2013)"
   ]
  },
  {
   "cell_type": "code",
   "execution_count": null,
   "metadata": {
    "collapsed": true,
    "hidden": true,
    "init_cell": true
   },
   "outputs": [],
   "source": [
    "data_86III = np.load(\"data/GRB_IC86III/data.npy\")\n",
    "sim_86III = np.load(\"data/GRB_IC86III/sim_IC86III_nugen_10634.npy\")\n",
    "grblist_86III = np.load(\"data/GRB_IC86III/grblist.npy\")\n",
    "with open(\"data/GRB_IC86III/runlist.json\", \"r\") as infile:\n",
    "    runlist_86III = json.load(infile)\n",
    "\n",
    "# Number of files is different in both years, see weight check later\n",
    "nfiles_86III = 956\n",
    "nevents = 5000\n",
    "ngen_86III = float(nfiles_86III * nevents)\n",
    "    \n",
    "# Cut on score\n",
    "score_cut_86III = 0.5\n",
    "data_86III = data_86III[data_86III[\"score\"] > score_cut_86III]\n",
    "sim_86III = sim_86III[sim_86III[\"score\"] > score_cut_86III]\n",
    "    \n",
    "run_ids = runlist_86III.keys()\n",
    "livetimes = []\n",
    "for key in run_ids:\n",
    "    livetimes.append(runlist_86III[key][\"livetime\"])\n",
    "livetimes_86III = np.array(livetimes)\n",
    "livetime_86III = np.sum(livetimes)\n",
    "livetime_days_86III = livetime_86III / 24. / 3600."
   ]
  },
  {
   "cell_type": "code",
   "execution_count": null,
   "metadata": {
    "hidden": true,
    "init_cell": true
   },
   "outputs": [],
   "source": [
    "def is_on_time(run_id):\n",
    "    key = str(int(run_id))\n",
    "    return True if runlist_86III[key][\"ontime\"] else False\n",
    "\n",
    "on_mask = np.array(list(map(is_on_time, data_86III[\"run_id\"])))\n",
    "assert np.sum(on_mask) + np.sum(~on_mask) == len(data_86III)\n",
    "\n",
    "on_data_86III = data_86III[on_mask]\n",
    "off_data_86III = data_86III[~on_mask]\n",
    "\n",
    "# Get livetime split\n",
    "on_livetime_86III = np.sum([run[\"livetime\"] if run[\"ontime\"] else 0.\n",
    "                            for run in runlist_86III.values()])\n",
    "off_livetime_86III = np.sum([run[\"livetime\"] if not run[\"ontime\"] else 0.\n",
    "                            for run in runlist_86III.values()])\n",
    "assert livetime_86III == (on_livetime_86III + off_livetime_86III)\n",
    "\n",
    "print(\"Off livetime   : {:6.2f} days\".format(off_livetime_86III / 24. / 3600.))\n",
    "print(\"On livetime    : {:6.2f} days\".format(on_livetime_86III / 24. / 3600.))\n",
    "print(\"Total livetime : {:6.2f} days\".format(livetime_days_86III))"
   ]
  },
  {
   "cell_type": "code",
   "execution_count": null,
   "metadata": {
    "collapsed": true,
    "hidden": true,
    "init_cell": true
   },
   "outputs": [],
   "source": [
    "nsrcs = len(grblist_86III)\n",
    "names = [\"t\", \"dt0\", \"dt1\", \"ra\", \"dec\", \"w_theo\", \"sigma\"]\n",
    "types = len(names) * [np.float]\n",
    "dtype = [(name, typ) for name, typ in zip(names, types)]\n",
    "\n",
    "grb_srcs_IC86III = np.empty((nsrcs, ), dtype=dtype)\n",
    "\n",
    "grb_srcs_IC86III[\"t\"] = grblist_86III[\"timeMJD\"]\n",
    "grb_srcs_IC86III[\"dt0\"] = np.zeros(nsrcs, dtype=np.float)\n",
    "grb_srcs_IC86III[\"dt1\"] = grblist_86III[\"t100\"]\n",
    "grb_srcs_IC86III[\"ra\"] = grblist_86III[\"ra\"]\n",
    "grb_srcs_IC86III[\"dec\"] = grblist_86III[\"dec\"]\n",
    "grb_srcs_IC86III[\"w_theo\"] = np.ones(nsrcs, dtype=np.float)\n",
    "grb_srcs_IC86III[\"sigma\"] = grblist_86III[\"sigma\"]"
   ]
  },
  {
   "cell_type": "code",
   "execution_count": null,
   "metadata": {
    "hidden": true,
    "init_cell": true
   },
   "outputs": [],
   "source": [
    "runs = []\n",
    "for key, item in runlist_86III.items():\n",
    "    d = item.copy()\n",
    "    tstart = astrotime(item[\"tStart\"], format=\"mjd\").iso\n",
    "    tstop = astrotime(item[\"tStop\"], format=\"mjd\").iso\n",
    "    d[\"run\"] = int(key)\n",
    "    d[\"good_tstart\"] = tstart\n",
    "    d[\"good_tstop\"] = tstop\n",
    "    runs.append(d)\n",
    "\n",
    "goodruns_86III = {\"runs\": runs}\n",
    "print(\"Number of all runs : \", len(runs))\n",
    "off_len =  len(filter(lambda runi: not runi[\"ontime\"], runs))\n",
    "on_len =  len(filter(lambda runi: runi[\"ontime\"], runs))\n",
    "print(\"Number of off runs : \",off_len)\n",
    "print(\"Number of on runs  : \", on_len)\n",
    "\n",
    "assert off_len + on_len == len(runs)"
   ]
  },
  {
   "cell_type": "code",
   "execution_count": null,
   "metadata": {
    "hidden": true,
    "init_cell": true
   },
   "outputs": [],
   "source": [
    "# Create the GRBLLH object with all the PDF settings\n",
    "# Note: Range derived from sinDec hist in NRT wiki\n",
    "sin_dec_bins = np.linspace(-0.1, 1, 17 + 1)  \n",
    "\n",
    "# Range is derived from hist, dropping some wrongly reconstructed events\n",
    "min_logE = -1.\n",
    "max_logE = 10.\n",
    "logE_bins = np.linspace(min_logE, max_logE, 40)\n",
    "\n",
    "# Remove wrongly reconstructed events outside range from off data & sim\n",
    "logE_mask = (sim_86III[\"logE\"] > min_logE) & (sim_86III[\"logE\"] < max_logE)\n",
    "sim_pdf_full_86III = sim_86III[logE_mask]\n",
    "print(\"Removed {} events in logE for simulation.\".format(np.sum(~logE_mask)))\n",
    "logE_mask = ((off_data_86III[\"logE\"] > min_logE) &\n",
    "             (off_data_86III[\"logE\"] < max_logE))\n",
    "data_pdf_full_86III = off_data_86III[logE_mask]\n",
    "print(\"Removed {} events in logE for data.\".format(np.sum(~logE_mask)))\n",
    "\n",
    "# Later 3 events show up, that have times outside the run times. These are\n",
    "# removed too - still strange.\n",
    "time_idx = [39023, 52880, 63524]\n",
    "data_pdf_full = np.delete(data_pdf_full_86III, time_idx)\n",
    "\n",
    "# Check weights for E2 signal against built-in weights\n",
    "gamma = 2.\n",
    "type_w = 0.5         # Nugen defaults: 50:50 nu, anti-nu\n",
    "norm_per_type = 0.5  # Astro just splits 50:50\n",
    "# Norm to OW per type and \"sim-livetime\"\n",
    "sim_pdf_full_86III[\"ow\"] /= ngen_86III * type_w\n",
    "w = (norm_per_type * sim_pdf_full_86III[\"trueE\"]**(-gamma) *\n",
    "     sim_pdf_full_86III[\"ow\"])\n",
    "\n",
    "print(\"Included and self made weights ar the same: \",\n",
    "      np.allclose(sim_pdf_full_86III[\"weight_E2\"], w))\n",
    "\n",
    "# Now strip off uneeded fields so data and sim are compatible for tdepps\n",
    "data_pdf_86III = drop_fields(data_pdf_full_86III,\n",
    "                             [\"run_id\", \"event_id\", \"score\", \"azi\", \"zen\"])\n",
    "sim_pdf_86III = drop_fields(sim_pdf_full_86III,\n",
    "                            [\"azi\", \"zen\", \"score\", \"weight_E2\",\n",
    "                             \"weight_honda\", \"trueAzi\", \"trueZen\"])"
   ]
  },
  {
   "cell_type": "markdown",
   "metadata": {
    "heading_collapsed": true
   },
   "source": [
    "### IC86II (2012)"
   ]
  },
  {
   "cell_type": "code",
   "execution_count": null,
   "metadata": {
    "collapsed": true,
    "hidden": true,
    "init_cell": true
   },
   "outputs": [],
   "source": [
    "data_86II = np.load(\"data/GRB_IC86II/data.npy\")\n",
    "sim_86II = np.load(\"data/GRB_IC86II/sim_IC86II_nugen_10634.npy\")\n",
    "grblist_86II = np.load(\"data/GRB_IC86II/grblist.npy\")\n",
    "with open(\"data/GRB_IC86II/runlist.json\", \"r\") as infile:\n",
    "    runlist_86II = json.load(infile)\n",
    "\n",
    "# Number of files is different in both years, see weight check later\n",
    "nfiles_86II = nfiles_86III + 5\n",
    "nevents = 5000\n",
    "ngen_86II = float(nfiles_86II * nevents)\n",
    "    \n",
    "# Cut on score\n",
    "score_cut_86II = 0.4\n",
    "data_86II = data_86II[data_86II[\"score\"] > score_cut_86II]\n",
    "sim_86II = sim_86II[sim_86II[\"score\"] > score_cut_86II]\n",
    "    \n",
    "run_ids = runlist_86II.keys()\n",
    "livetimes = []\n",
    "for key in run_ids:\n",
    "    livetimes.append(runlist_86II[key][\"livetime\"])\n",
    "livetimes_86II = np.array(livetimes)\n",
    "livetime_86II = np.sum(livetimes)\n",
    "livetime_days_86II = livetime_86II / 24. / 3600."
   ]
  },
  {
   "cell_type": "code",
   "execution_count": null,
   "metadata": {
    "hidden": true,
    "init_cell": true
   },
   "outputs": [],
   "source": [
    "def is_on_time(run_id):\n",
    "    key = str(int(run_id))\n",
    "    return True if runlist_86II[key][\"ontime\"] else False\n",
    "\n",
    "on_mask = np.array(list(map(is_on_time, data_86II[\"run_id\"])))\n",
    "assert np.sum(on_mask) + np.sum(~on_mask) == len(data_86II)\n",
    "\n",
    "on_data_86II = data_86II[on_mask]\n",
    "off_data_86II = data_86II[~on_mask]\n",
    "\n",
    "# Get livetime split\n",
    "on_livetime_86II = np.sum([run[\"livetime\"] if run[\"ontime\"] else 0.\n",
    "                            for run in runlist_86II.values()])\n",
    "off_livetime_86II = np.sum([run[\"livetime\"] if not run[\"ontime\"] else 0.\n",
    "                            for run in runlist_86II.values()])\n",
    "assert livetime_86II == (on_livetime_86II + off_livetime_86II)\n",
    "\n",
    "print(\"Off livetime   : {:6.2f} days\".format(off_livetime_86II / 24. / 3600.))\n",
    "print(\"On livetime    : {:6.2f} days\".format(on_livetime_86II / 24. / 3600.))\n",
    "print(\"Total livetime : {:6.2f} days\".format(livetime_days_86II))"
   ]
  },
  {
   "cell_type": "code",
   "execution_count": null,
   "metadata": {
    "collapsed": true,
    "hidden": true,
    "init_cell": true
   },
   "outputs": [],
   "source": [
    "nsrcs = len(grblist_86II)\n",
    "names = [\"t\", \"dt0\", \"dt1\", \"ra\", \"dec\", \"w_theo\", \"sigma\"]\n",
    "types = len(names) * [np.float]\n",
    "dtype = [(name, typ) for name, typ in zip(names, types)]\n",
    "\n",
    "grb_srcs_IC86II = np.empty((nsrcs, ), dtype=dtype)\n",
    "\n",
    "grb_srcs_IC86II[\"t\"] = grblist_86II[\"timeMJD\"]\n",
    "grb_srcs_IC86II[\"dt0\"] = np.zeros(nsrcs, dtype=np.float)\n",
    "grb_srcs_IC86II[\"dt1\"] = grblist_86II[\"t100\"]\n",
    "grb_srcs_IC86II[\"ra\"] = grblist_86II[\"ra\"]\n",
    "grb_srcs_IC86II[\"dec\"] = grblist_86II[\"dec\"]\n",
    "grb_srcs_IC86II[\"w_theo\"] = np.ones(nsrcs, dtype=np.float)\n",
    "grb_srcs_IC86II[\"sigma\"] = grblist_86II[\"sigma\"]"
   ]
  },
  {
   "cell_type": "code",
   "execution_count": null,
   "metadata": {
    "hidden": true,
    "init_cell": true
   },
   "outputs": [],
   "source": [
    "runs = []\n",
    "for key, item in runlist_86II.items():\n",
    "    d = item.copy()\n",
    "    tstart = astrotime(item[\"tStart\"], format=\"mjd\").iso\n",
    "    tstop = astrotime(item[\"tStop\"], format=\"mjd\").iso\n",
    "    d[\"run\"] = int(key)\n",
    "    d[\"good_tstart\"] = tstart\n",
    "    d[\"good_tstop\"] = tstop\n",
    "    runs.append(d)\n",
    "\n",
    "goodruns_86II = {\"runs\": runs}\n",
    "print(\"Number of all runs : \", len(runs))\n",
    "off_len =  len(filter(lambda runi: not runi[\"ontime\"], runs))\n",
    "on_len =  len(filter(lambda runi: runi[\"ontime\"], runs))\n",
    "print(\"Number of off runs : \",off_len)\n",
    "print(\"Number of on runs  : \", on_len)\n",
    "\n",
    "assert off_len + on_len == len(runs)"
   ]
  },
  {
   "cell_type": "code",
   "execution_count": null,
   "metadata": {
    "hidden": true,
    "init_cell": true
   },
   "outputs": [],
   "source": [
    "# Create the GRBLLH object with all the PDF settings\n",
    "# Note: Range derived from sinDec hist in NRT wiki\n",
    "sin_dec_bins = np.linspace(-0.1, 1, 17 + 1)  \n",
    "\n",
    "# Range is derived from hist, dropping some wrongly reconstructed events\n",
    "min_logE = -1.\n",
    "max_logE = 10.\n",
    "logE_bins = np.linspace(min_logE, max_logE, 40)\n",
    "\n",
    "# Remove wrongly reconstructed events outside range from off data & sim\n",
    "logE_mask = (sim_86II[\"logE\"] > min_logE) & (sim_86II[\"logE\"] < max_logE)\n",
    "sim_pdf_full_86II = sim_86II[logE_mask]\n",
    "print(\"Removed {} events in logE for simulation.\".format(np.sum(~logE_mask)))\n",
    "logE_mask = ((off_data_86II[\"logE\"] > min_logE) &\n",
    "             (off_data_86II[\"logE\"] < max_logE))\n",
    "data_pdf_full_86II = off_data_86II[logE_mask]\n",
    "print(\"Removed {} events in logE for data.\".format(np.sum(~logE_mask)))\n",
    "\n",
    "# Later 3 events show up, that have times outside the run times. These are\n",
    "# removed too - still strange.\n",
    "# time_idx = [39023, 52880, 63524]\n",
    "# data_pdf_full = np.delete(data_pdf_full_86II, time_idx)\n",
    "\n",
    "# Check weights for E2 signal against built-in weights\n",
    "gamma = 2.\n",
    "type_w = 0.5         # Nugen defaults: 50:50 nu, anti-nu\n",
    "norm_per_type = 0.5  # Astro just splits 50:50\n",
    "sim_pdf_full_86II[\"ow\"] /= ngen_86II * type_w  # Norm to OW per type and \"sim-livetime\"\n",
    "w = (norm_per_type * sim_pdf_full_86II[\"trueE\"]**(-gamma) *\n",
    "     sim_pdf_full_86II[\"ow\"])\n",
    "\n",
    "print(\"Included and self made weights ar the same: \",\n",
    "      np.allclose(sim_pdf_full_86II[\"weight_E2\"], w))\n",
    "\n",
    "# Now strip off uneeded fields so data and sim are compatible for tdepps\n",
    "data_pdf_86II = drop_fields(data_pdf_full_86II,\n",
    "                             [\"run_id\", \"event_id\", \"score\", \"azi\", \"zen\"])\n",
    "sim_pdf_86II = drop_fields(sim_pdf_full_86II,\n",
    "                            [\"azi\", \"zen\", \"score\", \"weight_E2\",\n",
    "                             \"weight_honda\", \"trueAzi\", \"trueZen\"])"
   ]
  },
  {
   "cell_type": "markdown",
   "metadata": {},
   "source": [
    "### Done:"
   ]
  },
  {
   "cell_type": "code",
   "execution_count": null,
   "metadata": {
    "init_cell": true
   },
   "outputs": [],
   "source": [
    "print(\"Setup done\")"
   ]
  },
  {
   "cell_type": "markdown",
   "metadata": {},
   "source": [
    "# tdepps setup"
   ]
  },
  {
   "cell_type": "code",
   "execution_count": null,
   "metadata": {
    "collapsed": false,
    "init_cell": false
   },
   "outputs": [],
   "source": [
    "spatial_pdf_args = {\"bins\": sin_dec_bins, \"k\": 3, \"kent\": True}\n",
    "\n",
    "energy_pdf_args_86III = {\"bins\": [sin_dec_bins, logE_bins], \"gamma\": 2.,\n",
    "                         \"fillval\": \"col\", \"interpol_log\": False,\n",
    "                         \"mc_bg_weights\": sim_pdf_full_86III[\"weight_honda\"],\n",
    "                         \"smooth_sigma\": [[0., 0.], [0., 0.]],\n",
    "                         \"logE_asc\": True}\n",
    "energy_pdf_args_86II = {\"bins\": [sin_dec_bins, logE_bins], \"gamma\": 2.,\n",
    "                        \"fillval\": \"col\", \"interpol_log\": False,\n",
    "                        \"mc_bg_weights\": sim_pdf_full_86II[\"weight_honda\"],\n",
    "                        \"smooth_sigma\": [[0., 0.], [0., 0.]],\n",
    "                        \"logE_asc\": True}\n",
    "\n",
    "time_pdf_args = {\"nsig\": 4., \"sigma_t_min\": 2., \"sigma_t_max\": 30.}\n",
    "\n",
    "llh_args = {\"sob_rel_eps\": 0., \"sob_abs_eps\": 1e-4}\n",
    "\n",
    "grbllh_ic86III = LLH.GRBLLH(X=data_pdf_86III, MC=sim_pdf_86III,\n",
    "                            spatial_pdf_args=spatial_pdf_args,\n",
    "                            energy_pdf_args=energy_pdf_args_86III,\n",
    "                            time_pdf_args=time_pdf_args,\n",
    "                            llh_args=llh_args)\n",
    "\n",
    "grbllh_ic86II = LLH.GRBLLH(X=data_pdf_86II, MC=sim_pdf_86II,\n",
    "                            spatial_pdf_args=spatial_pdf_args,\n",
    "                            energy_pdf_args=energy_pdf_args_86II,\n",
    "                            time_pdf_args=time_pdf_args,\n",
    "                            llh_args=llh_args)"
   ]
  },
  {
   "cell_type": "markdown",
   "metadata": {
    "heading_collapsed": true
   },
   "source": [
    "### Test plots"
   ]
  },
  {
   "cell_type": "code",
   "execution_count": null,
   "metadata": {
    "collapsed": false,
    "hidden": true
   },
   "outputs": [],
   "source": [
    "sindec = np.linspace(-0.1, 1., 100)\n",
    "\n",
    "yIII = grbllh_ic86III._pdf_spatial_background(ev_sin_dec=sindec)\n",
    "yII = grbllh_ic86II._pdf_spatial_background(ev_sin_dec=sindec)\n",
    "\n",
    "plt.plot(sindec, yIII, label=\"IC86III\")\n",
    "plt.plot(sindec, yII, label=\"IC86II\")\n",
    "plt.show()"
   ]
  },
  {
   "cell_type": "code",
   "execution_count": null,
   "metadata": {
    "collapsed": false,
    "hidden": true
   },
   "outputs": [],
   "source": [
    "fig, ax = plt.subplots(1, 2, figsize=(14, 6))\n",
    "\n",
    "bins = [sin_dec_bins, logE_bins]\n",
    "x = np.linspace(*bins[0][[0, -1]], num=100 + 1)\n",
    "y = np.linspace(*bins[1][[0, -1]], num=100 + 1)\n",
    "\n",
    "XX, YY = np.meshgrid(x, y)\n",
    "xx, yy = map(np.ravel, [XX, YY])\n",
    "\n",
    "values = {\"III\": {\"llh\": grbllh_ic86III, \"cut\": score_cut_86III},\n",
    "          \"II\": {\"llh\": grbllh_ic86II, \"cut\": score_cut_86II}}\n",
    "\n",
    "for axi, key in zip(ax, list(values.keys())):\n",
    "    zz = values[key][\"llh\"]._soverb_energy(xx, yy)\n",
    "    ZZ = zz.reshape(XX.shape)\n",
    "    img = axi.pcolormesh(XX, YY, np.log10(ZZ), cmap=\"coolwarm\",\n",
    "                         vmin=-6, vmax=6)\n",
    "    \n",
    "    cbar = plt.colorbar(ax=axi, mappable=img)\n",
    "    cbar.set_label(\"log10(ratio)\")\n",
    "\n",
    "    axi.set_xlabel(\"sin(dec)\")\n",
    "    axi.set_ylabel(\"muex in log10(GeV)\")\n",
    "    axi.set_title(\"Energy PDF for IC86{}. \".format(key) +\n",
    "                 \"score_cut: > {:.2f}\".format(values[key][\"cut\"]))\n",
    "\n",
    "fig.tight_layout()\n",
    "# plt.savefig(\"./fig_mc_energy_pdf/score_cut_\" +\n",
    "#             \"{:.2f}_mc_energy_pdf.png\".format(score_cut), dpi=150)\n",
    "plt.show()"
   ]
  },
  {
   "cell_type": "markdown",
   "metadata": {
    "heading_collapsed": true
   },
   "source": [
    "## Test LLH evaluation"
   ]
  },
  {
   "cell_type": "code",
   "execution_count": null,
   "metadata": {
    "collapsed": false,
    "hidden": true
   },
   "outputs": [],
   "source": [
    "# Create data to evaluate from both on-datasets\n",
    "names = [\"timeMJD\", \"ra\", \"sinDec\", \"logE\", \"sigma\"]\n",
    "types = len(names) * [np.float]\n",
    "dtype = [(name, typ) for name, typ in zip(names, types)]\n",
    "X_86III = np.empty((len(on_data_86III)), dtype=dtype)\n",
    "X_86II = np.empty((len(on_data_86II)), dtype=dtype)\n",
    "\n",
    "for name in names:\n",
    "    X_86III[name] = on_data_86III[name]\n",
    "    X_86II[name] = on_data_86II[name]"
   ]
  },
  {
   "cell_type": "code",
   "execution_count": null,
   "metadata": {
    "collapsed": false,
    "hidden": true
   },
   "outputs": [],
   "source": [
    "# Approximate BG expectation per GRB: 5mHz * dt, equal for both\n",
    "rate_86III = len(off_data_86III) / off_livetime_86III\n",
    "rate_86II = len(off_data_86II) / off_livetime_86II\n",
    "\n",
    "nb_86III = rate_86III * (grb_srcs_IC86III[\"dt1\"] - grb_srcs_IC86III[\"dt0\"])\n",
    "nb_86II = rate_86II * (grb_srcs_IC86II[\"dt1\"] - grb_srcs_IC86II[\"dt0\"])"
   ]
  },
  {
   "cell_type": "markdown",
   "metadata": {
    "hidden": true
   },
   "source": [
    "2 sources"
   ]
  },
  {
   "cell_type": "code",
   "execution_count": null,
   "metadata": {
    "collapsed": false,
    "hidden": true
   },
   "outputs": [],
   "source": [
    "multillh2 = LLH.MultiSampleGRBLLH()\n",
    "multillh2.add_sample(\"86III\", grbllh_ic86III)\n",
    "multillh2.add_sample(\"86II\", grbllh_ic86II)\n",
    "X_dict = {\"86III\": X_86III, \"86II\": X_86II}\n",
    "args_dict = {\"86III\": {\"nb\": nb_86III, \"srcs\": grb_srcs_IC86III},\n",
    "             \"86II\": {\"nb\": nb_86II, \"srcs\": grb_srcs_IC86II}}"
   ]
  },
  {
   "cell_type": "code",
   "execution_count": null,
   "metadata": {
    "collapsed": false,
    "hidden": true
   },
   "outputs": [],
   "source": [
    "%%time\n",
    "ns = np.linspace(0, 10, 100)\n",
    "llh2, grad2 = np.array([multillh2.lnllh_ratio(X_dict, nsi, args_dict)\n",
    "                        for nsi in ns]).T"
   ]
  },
  {
   "cell_type": "code",
   "execution_count": null,
   "metadata": {
    "collapsed": false,
    "hidden": true
   },
   "outputs": [],
   "source": [
    "plt.plot(ns, llh2)\n",
    "plt.show()\n",
    "plt.plot(ns, grad2)\n",
    "plt.plot(0.5 * (ns[:-1] + ns[1:]), np.diff(llh2) / np.diff(ns), ls=\"--\")\n",
    "plt.show()"
   ]
  },
  {
   "cell_type": "markdown",
   "metadata": {
    "hidden": true
   },
   "source": [
    "1 source"
   ]
  },
  {
   "cell_type": "code",
   "execution_count": null,
   "metadata": {
    "collapsed": false,
    "hidden": true
   },
   "outputs": [],
   "source": [
    "multillh1 = LLH.MultiSampleGRBLLH()\n",
    "multillh1.add_sample(\"86III\", grbllh_ic86III)\n",
    "X_dict = {\"86III\": X_86III}\n",
    "args_dict = {\"86III\": {\"nb\": nb_86III, \"srcs\": grb_srcs_IC86III}}"
   ]
  },
  {
   "cell_type": "code",
   "execution_count": null,
   "metadata": {
    "collapsed": false,
    "hidden": true
   },
   "outputs": [],
   "source": [
    "ns = np.linspace(0, 10, 100)\n",
    "llh1, grad1 = [], []\n",
    "for nsi in tqdm(ns):\n",
    "    llhi, gradi = multillh1.lnllh_ratio(X_dict, nsi, args_dict)\n",
    "    llh1.append(llhi)\n",
    "    grad1.append(gradi)\n",
    "\n",
    "llh1, grad1 = np.vstack((llh1, np.ravel(grad1)))"
   ]
  },
  {
   "cell_type": "code",
   "execution_count": null,
   "metadata": {
    "collapsed": false,
    "hidden": true
   },
   "outputs": [],
   "source": [
    "plt.plot(ns, llh1)\n",
    "plt.show()\n",
    "plt.plot(ns, grad1)\n",
    "plt.plot(0.5 * (ns[:-1] + ns[1:]), np.diff(llh1) / np.diff(ns), ls=\"--\")\n",
    "plt.show()"
   ]
  },
  {
   "cell_type": "markdown",
   "metadata": {
    "hidden": true
   },
   "source": [
    "Single sample LLH must be the same as multi LLH for a single added sample"
   ]
  },
  {
   "cell_type": "code",
   "execution_count": null,
   "metadata": {
    "collapsed": false,
    "hidden": true
   },
   "outputs": [],
   "source": [
    "args = {\"nb\": nb_86III, \"srcs\": grb_srcs_IC86III}"
   ]
  },
  {
   "cell_type": "code",
   "execution_count": null,
   "metadata": {
    "collapsed": false,
    "hidden": true
   },
   "outputs": [],
   "source": [
    "ns = np.linspace(0, 10, 100)\n",
    "llh0, grad0 = [], []\n",
    "for nsi in tqdm(ns):\n",
    "    llhi, gradi = grbllh_ic86III.lnllh_ratio(X_86III, nsi, args)\n",
    "    llh0.append(llhi)\n",
    "    grad0.append(gradi)\n",
    "\n",
    "llh0, grad0 = np.vstack((llh0, np.ravel(grad0)))"
   ]
  },
  {
   "cell_type": "code",
   "execution_count": null,
   "metadata": {
    "collapsed": false,
    "hidden": true
   },
   "outputs": [],
   "source": [
    "plt.plot(ns, llh0)\n",
    "plt.plot(ns, llh1, ls=\"--\")\n",
    "plt.show()\n",
    "plt.plot(ns, grad0)\n",
    "plt.plot(0.5 * (ns[:-1] + ns[1:]), np.diff(llh0) / np.diff(ns), ls=\"--\")\n",
    "plt.plot(ns, grad1, ls=\":\", lw=1)\n",
    "plt.show()"
   ]
  },
  {
   "cell_type": "markdown",
   "metadata": {},
   "source": [
    "## Signal Injector tests"
   ]
  },
  {
   "cell_type": "code",
   "execution_count": null,
   "metadata": {},
   "outputs": [],
   "source": [
    "siginj = SigInj.SignalInjector(gamma=2.)\n",
    "mcs = {\"86III\": sim_pdf_86III, \"86II\": sim_pdf_86II}\n",
    "srcs = {\"86III\": grb_srcs_IC86III, \"86II\": grb_srcs_IC86II}\n",
    "siginj.fit(srcs=srcs, MC=mcs, exp_names=data_pdf_86III.dtype.names)\n",
    "print(\"1 event flux: {:.6f} GeV^-1cm^-2\".format(siginj.mu2flux(1)))"
   ]
  },
  {
   "cell_type": "markdown",
   "metadata": {},
   "source": [
    "### Tests"
   ]
  },
  {
   "cell_type": "markdown",
   "metadata": {},
   "source": [
    "Expect same result when plugging in the same sample and the same sources two times.\n",
    "We have half the weights, but each event twice which cancels in effects."
   ]
  },
  {
   "cell_type": "code",
   "execution_count": null,
   "metadata": {},
   "outputs": [],
   "source": [
    "siginj_2 = SigInj.SignalInjector(gamma=2.)\n",
    "mcs = {\"86III\": sim_pdf_86III, \"86II\": sim_pdf_86III}\n",
    "srcs = {\"86III\": grb_srcs_IC86III, \"86II\": grb_srcs_IC86III}\n",
    "siginj_2.fit(srcs=srcs, MC=mcs, exp_names=data_pdf_86III.dtype.names)\n",
    "print(\"1 event flux: {:.6f} GeV^-1cm^-2\".format(siginj_2.mu2flux(1)))"
   ]
  },
  {
   "cell_type": "code",
   "execution_count": null,
   "metadata": {},
   "outputs": [],
   "source": [
    "siginj_1 = SigInj.SignalInjector(gamma=2.)\n",
    "mcs = {\"86III\": sim_pdf_86III}\n",
    "srcs = {\"86III\": grb_srcs_IC86III}\n",
    "siginj_1.fit(srcs=srcs, MC=mcs, exp_names=data_pdf_86III.dtype.names)\n",
    "print(\"1 event flux: {:.6f} GeV^-1cm^-2\".format(siginj_1.mu2flux(1)))"
   ]
  },
  {
   "cell_type": "code",
   "execution_count": null,
   "metadata": {},
   "outputs": [],
   "source": [
    "print(\"Both fluxes equal: \", np.isclose(siginj_1.mu2flux(1),\n",
    "                                        siginj_2.mu2flux(1)))"
   ]
  }
 ],
 "metadata": {
  "celltoolbar": "Initialisation Cell",
  "hide_input": false,
  "kernelspec": {
   "display_name": "Python 2 (OSX)",
   "language": "python",
   "name": "python2"
  },
  "language_info": {
   "codemirror_mode": {
    "name": "ipython",
    "version": 2
   },
   "file_extension": ".py",
   "mimetype": "text/x-python",
   "name": "python",
   "nbconvert_exporter": "python",
   "pygments_lexer": "ipython2",
   "version": "2.7.10"
  }
 },
 "nbformat": 4,
 "nbformat_minor": 2
}

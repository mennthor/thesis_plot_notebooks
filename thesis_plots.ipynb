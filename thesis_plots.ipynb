{
 "cells": [
  {
   "cell_type": "code",
   "execution_count": null,
   "metadata": {},
   "outputs": [],
   "source": [
    "#### Load the plot setup for thesis quality plots\n",
    "from mpl_latex_settings import create_latex_setup\n",
    "config = \"/Users/tmenne/git/thesis/inc/mpl_latex_config.json\"\n",
    "latex_setup = create_latex_setup(config, interactive=True)"
   ]
  },
  {
   "cell_type": "code",
   "execution_count": null,
   "metadata": {},
   "outputs": [],
   "source": [
    "import matplotlib as mpl\n",
    "mpl.rcParams[\"figure.figsize\"]"
   ]
  },
  {
   "cell_type": "code",
   "execution_count": null,
   "metadata": {},
   "outputs": [],
   "source": [
    "from __future__ import division, print_function\n",
    "import os\n",
    "import json\n",
    "import gzip\n",
    "import healpy as hp\n",
    "from glob import glob\n",
    "\n",
    "import numpy as np\n",
    "import matplotlib.pyplot as plt\n",
    "import scipy.interpolate as sci\n",
    "import scipy.stats as scs\n",
    "import scipy.optimize as sco\n",
    "from scipy.ndimage.filters import gaussian_filter\n",
    "from matplotlib import gridspec\n",
    "from matplotlib.colors import LogNorm, LinearSegmentedColormap\n",
    "from astropy.time import Time as astrotime\n",
    "\n",
    "import tdepps.utils as tdu\n",
    "from mypyscripts.general import arr2str\n",
    "from mypyscripts.stats import (sigma2prob, prob2sigma, percentile_nzeros,\n",
    "                               cdf_nzeros)\n",
    "\n",
    "import mypyscripts.plots as mplt\n",
    "from mypyscripts.plots import (skymap, plot_healpy_map, mollview,\n",
    "                               render_healpymap)\n",
    "#\n",
    "from _loader import loader as LOADER\n",
    "from _paths import PATHS_ORIG as PATHS  # Use the original 22 HESE sources\n",
    "\n",
    "# Make some globals\n",
    "SECINDAY = 24. * 60. * 60.\n",
    "RNDGEN = np.random.RandomState(42439462)\n",
    "loader = LOADER(PATHS, verb=False)\n",
    "\n",
    "print(\"Paths are:\\n\", PATHS)\n",
    "\n",
    "def save_fig(fig, path, **save_args):\n",
    "    path = os.path.abspath(path)\n",
    "    dirname = os.path.dirname(path)\n",
    "    if not os.path.isdir(dirname):\n",
    "        os.makedirs(dirname)   \n",
    "    fig.savefig(path, **save_args)\n",
    "    \n",
    "def key2label(key, short=False):\n",
    "    \"\"\" Makes 'IC86, 2012--2014' from 'IC86_2012-2104' \"\"\"\n",
    "    if short:  # Abbreviate 20YY -> 'YY\n",
    "        return \", \".join(map(lambda s: s.replace(\"-\", \"--\").replace(\"20\", \"'\"),\n",
    "                             key.split(\"_\")))\n",
    "    return \", \".join(map(lambda s: s.replace(\"-\", \"--\"), key.split(\"_\")))\n",
    "\n",
    "def trunc_cmap(cmap, arr):\n",
    "    \"\"\"\n",
    "    Adapted from: https://stackoverflow.com/questions/18926031\n",
    "    Makes a new colormap with original values selected from arr in [0, 1].\n",
    "    \"\"\"\n",
    "    vmin, vmax = np.amin(arr), np.amax(arr)\n",
    "    new_cmap = LinearSegmentedColormap.from_list(\n",
    "        'trunc({}_{:.2f}_{:.2f})'.format(cmap.name, vmin, vmax), cmap(arr))\n",
    "    return new_cmap"
   ]
  },
  {
   "cell_type": "markdown",
   "metadata": {
    "heading_collapsed": true
   },
   "source": [
    "# Chapter: Datasets"
   ]
  },
  {
   "cell_type": "markdown",
   "metadata": {
    "heading_collapsed": true,
    "hidden": true
   },
   "source": [
    "## Count number of events originally in the data sets"
   ]
  },
  {
   "cell_type": "code",
   "execution_count": null,
   "metadata": {
    "hidden": true
   },
   "outputs": [],
   "source": [
    "exp = np.load(\"/Users/tmenne/Downloads/hese_transient_stacking_data/skylab_data/IC79b_exp.npy\")\n",
    "print(\"IC79: \", len(exp))\n",
    "exp = np.load(\"/Users/tmenne/Downloads/hese_transient_stacking_data/skylab_data/IC86_exp.npy\")\n",
    "print(\"IC86, 2011: \", len(exp))\n",
    "\n",
    "exp = np.load(\"/Users/tmenne/Downloads/hese_transient_stacking_data/skylab_data/IC86-2012_exp_v2.npy\")\n",
    "print(\"IC86, 2012: \", len(exp))\n",
    "exp = np.load(\"/Users/tmenne/Downloads/hese_transient_stacking_data/skylab_data/IC86-2013_exp_v2.npy\")\n",
    "print(\"IC86, 2013: \", len(exp))\n",
    "exp = np.load(\"/Users/tmenne/Downloads/hese_transient_stacking_data/skylab_data/IC86-2014_exp_v2.npy\")\n",
    "print(\"IC86, 2014: \", len(exp))\n",
    "\n",
    "exp = np.load(\"/Users/tmenne/Downloads/hese_transient_stacking_data/skylab_data/SplineMPEmax.MuEx.IC86-2015.npy\")\n",
    "print(\"IC86, 2015: \", len(exp))"
   ]
  },
  {
   "cell_type": "markdown",
   "metadata": {
    "heading_collapsed": true,
    "hidden": true
   },
   "source": [
    "## Print out source info for table"
   ]
  },
  {
   "cell_type": "code",
   "execution_count": null,
   "metadata": {
    "hidden": true
   },
   "outputs": [],
   "source": [
    "src_list = loader.source_list_loader(\"all\")\n",
    "\n",
    "src_decs = []\n",
    "src_ras = []\n",
    "src_mjds = []\n",
    "for name, sl in sorted(src_list.items()):\n",
    "    src_decs = np.concatenate([src_decs, [sli[\"dec\"] for sli in sl]])\n",
    "    src_ras = np.concatenate([src_ras, [sli[\"ra\"] for sli in sl]])\n",
    "    src_mjds = np.concatenate([src_mjds, [sli[\"mjd\"] for sli in sl]])"
   ]
  },
  {
   "cell_type": "code",
   "execution_count": null,
   "metadata": {
    "hidden": true
   },
   "outputs": [],
   "source": [
    "print(arr2str(np.rad2deg(src_decs), fmt=\"{:.2f}\"))\n",
    "print(\"\")\n",
    "print(arr2str(np.rad2deg(src_ras), fmt=\"{:.2f}\"))\n",
    "print(\"\")\n",
    "print(arr2str(src_mjds, fmt=\"{:.2f}\"))"
   ]
  },
  {
   "cell_type": "markdown",
   "metadata": {
    "heading_collapsed": true,
    "hidden": true
   },
   "source": [
    "## Show HESE / no HESE in MC"
   ]
  },
  {
   "cell_type": "markdown",
   "metadata": {
    "hidden": true
   },
   "source": [
    "The region high energy region from the northern sky should be investigated.\n",
    "In true variables it looks like statistics, but in proxies it blows up enormuously.\n",
    "Should the main effect come from the souther high energy sky?"
   ]
  },
  {
   "cell_type": "code",
   "execution_count": null,
   "metadata": {
    "hidden": true
   },
   "outputs": [],
   "source": [
    "def remove_hese_from_mc(mc, heseids):\n",
    "    \"\"\"\n",
    "    Mask all values in ``mc`` that have the same run and event ID combination\n",
    "    as in ``heseids``.\n",
    "\n",
    "    Parameters\n",
    "    ----------\n",
    "    mc : record-array\n",
    "        MC data, needs names ``'Run', 'Event'``.\n",
    "    heseids : dict or record-array\n",
    "        Needs names / keys ``'run_id', 'event_id``.\n",
    "\n",
    "    Returns\n",
    "    -------\n",
    "    is_hese_like : array-like, shape (len(mc),)\n",
    "        Mask: ``True`` for each event in ``mc`` that is HESE like.\n",
    "    \"\"\"\n",
    "    # Make combined IDs to easily match against HESE IDs with `np.isin`\n",
    "    factor_mc = 10**np.ceil(np.log10(np.amax(mc[\"Event\"])))\n",
    "    _evids = np.atleast_1d(heseids[\"event_id\"])\n",
    "    factor_hese = 10**np.ceil(np.log10(np.amax(_evids)))\n",
    "    factor = max(factor_mc, factor_hese)\n",
    "\n",
    "    combined_mcids = (factor * mc[\"Run\"] + mc[\"Event\"]).astype(int)\n",
    "    assert np.all(combined_mcids > factor)  # Is int overflow a thing here?\n",
    "\n",
    "    _runids = np.atleast_1d(heseids[\"run_id\"])\n",
    "    combined_heseids = (factor * _runids + _evids).astype(int)\n",
    "    assert np.all(combined_heseids > factor)\n",
    "\n",
    "    # Check which MC event is tagged as HESE like\n",
    "    is_hese_like = np.isin(combined_mcids, combined_heseids)\n",
    "    print(\"  Found {} / {} HESE like events in MC\".format(np.sum(is_hese_like),\n",
    "                                                          len(mc)))\n",
    "    return is_hese_like\n",
    "\n",
    "def _get_weights(ow, trueE):\n",
    "    \"\"\" Common model to weight to event rate \"\"\" \n",
    "    lt = 365. * SECINDAY\n",
    "    return ow * tdu.power_law_flux(trueE, E0=1e5,\n",
    "                                   phi0=1.01e-18, gamma=2.19) * lt\n",
    "\n",
    "name2skylab = {\n",
    "    \"IC79\" : \"IC79b_corrected_MC.npy\",\n",
    "    \"IC86_2011\" : \"IC86_corrected_MC.npy\",\n",
    "    \"IC86_2012-2014\" : \"IC86-2012_corrected_MC_v2.npy\",\n",
    "    \"IC86_2015\" : \"SplineMPEmax.MuEx.MC.npy\",\n",
    "}\n",
    "name2idx = {\n",
    "    \"IC79\" : \"IC79.json.gz\",\n",
    "    \"IC86_2011\" : \"IC86_2011.json.gz\",\n",
    "    \"IC86_2012-2014\" : \"IC86_2012-2015.json.gz\",\n",
    "    \"IC86_2015\" : \"IC86_2012-2015.json.gz\",    \n",
    "}"
   ]
  },
  {
   "cell_type": "code",
   "execution_count": null,
   "metadata": {
    "hidden": true
   },
   "outputs": [],
   "source": [
    "proxy = False  # Switch False | True to see plots in trueE, trueDec, vs. proxies\n",
    "if proxy:\n",
    "    _sindec = lambda mc: np.sin(mc[\"dec\"])\n",
    "    _logE = lambda mc: mc[\"logE\"]\n",
    "    _logE_label = r\"$\\log_{10}(E_\\mathrm{proxy} / \\mathrm{GeV})$\"\n",
    "    _sindec_label = r\"$\\sin(\\delta_\\mathrm{proxy})$\"\n",
    "    _info = \"_proxy\"\n",
    "else:\n",
    "    _sindec = lambda mc: np.sin(mc[\"trueDec\"])\n",
    "    _logE = lambda mc: np.log10(mc[\"trueE\"])\n",
    "    _logE_label = r\"$\\log_{10}(E_\\nu / \\mathrm{GeV})$\"\n",
    "    _sindec_label = r\"$\\sin(\\delta_\\nu)$\"\n",
    "    _info = \"\"\n",
    "\n",
    "for sample_name in name2skylab.keys()[:]:\n",
    "    print(\"# {}\".format(sample_name))\n",
    "    # Load full skylab data\n",
    "    _mc = np.load(os.path.join(PATHS.skylab_data, name2skylab[sample_name]))\n",
    "\n",
    "    # Filter HESE events\n",
    "    _path = os.path.join(PATHS.local, \"check_hese_mc_ids\",\n",
    "                         name2idx[sample_name])\n",
    "    heseids = json.load(gzip.open(_path))\n",
    "    is_hese_mask = remove_hese_from_mc(_mc, heseids)\n",
    "    _mc_hese_only = _mc[is_hese_mask]\n",
    "    # Get weights\n",
    "    w_all = _get_weights(_mc[\"ow\"], _mc[\"trueE\"])\n",
    "    w_hese_only = _get_weights(_mc_hese_only[\"ow\"], _mc_hese_only[\"trueE\"])\n",
    "\n",
    "    # Plot filtered out HESE events\n",
    "    try:\n",
    "        fs = latex_setup.make_figsize(scale=0.95, ratio=2.5)\n",
    "    except:\n",
    "        fs = (10, 4)\n",
    "    fig, (axl, axr) = plt.subplots(1, 2, sharey=True, figsize=fs)\n",
    "    \n",
    "    # Make histograms for contourf\n",
    "    bins = [np.linspace(-1, 1, 40), np.linspace(2, 9, 40)]\n",
    "            # np.linspace(np.amin(_logE(_mc)), np.amax(_logE(_mc)), 40)]\n",
    "    h, _, _ = np.histogram2d(_sindec(_mc), _logE(_mc), normed=False,\n",
    "                             bins=bins, weights=w_all)\n",
    "    h_nh, _, _ = np.histogram2d(_sindec(_mc_hese_only), _logE(_mc_hese_only),\n",
    "                                bins=bins, weights=w_hese_only, normed=False)\n",
    "    vmin = 10**np.floor(np.amin(np.log10(h[h>0])))\n",
    "    vmax = 10**np.ceil(np.amax(np.log10(h[h>0])))\n",
    "\n",
    "    # Plot whole MC left, weights normed to 365 days\n",
    "    h_pad = np.pad(h.T, mode=\"edge\", pad_width=[(0, 1), (0, 1)])\n",
    "    levels = np.logspace(-4, 0, 11)\n",
    "    img = axl.contourf(bins[0], bins[1], h_pad, levels,\n",
    "                       cmap=\"Greys\", norm=LogNorm())\n",
    "    cbar = fig.colorbar(img, ax=axl, ticks=levels[::2])\n",
    "    cbar.ax.set_yticklabels([])\n",
    "    cbar.ax.set_yticks(levels[::2])\n",
    "#     cbar.ax.set_yticklabels([\"$10^{{{:.0f}}}$\".format(li)\n",
    "#                              for li in np.log10(levels[::2])])\n",
    "    \n",
    "    # Right plot only cut-out HESE, weights normed to 365 days\n",
    "    h_nh_pad = np.pad(h_nh.T, mode=\"edge\", pad_width=[(0, 1), (0, 1)])\n",
    "    img = axr.contourf(bins[0], bins[1], h_nh_pad, levels,\n",
    "                       cmap=\"Greys\", norm=LogNorm())\n",
    "    cbar = fig.colorbar(img, ax=axr, ticks=levels[::2])\n",
    "    cbar.ax.set_yticklabels([\"$10^{{{:.0f}}}$\".format(li)\n",
    "                             for li in np.log10(levels[::2])])\n",
    "    cbar.set_label(\"Differenial no. of events\")\n",
    "\n",
    "#     axl.set_title(\"No. events for whole MC: {:.2f}\".format(np.sum(w_all)))\n",
    "#     axr.set_title(\"No. events for whole HESE-like MC: \" +\n",
    "#                   \"{:.2f}\".format(np.sum(w_hese_only)))\n",
    "    for ax in (axl, axr):\n",
    "        ax.set_xlabel(_sindec_label)\n",
    "        ax.set_ylim(bins[1][0], bins[1][-1])\n",
    "        ax.grid(ls=\":\")\n",
    "    axl.set_ylabel(_logE_label)\n",
    "    \n",
    "    fig.tight_layout(w_pad=-0.2)\n",
    "    \n",
    "    save_fig(fig, \"plots/datasets/mc_no_hese_{}.pdf\".format(sample_name),\n",
    "             bbox_inches=\"tight\")\n",
    "#     save_fig(fig, \"plots/sample/mc_no_hese_{}.pgf\".format(sample_name),\n",
    "#              bbox_inches=\"tight\")\n",
    "\n",
    "    plt.show()"
   ]
  },
  {
   "cell_type": "markdown",
   "metadata": {
    "hidden": true
   },
   "source": [
    "Old plots compared ratios"
   ]
  },
  {
   "cell_type": "code",
   "execution_count": null,
   "metadata": {
    "hidden": true
   },
   "outputs": [],
   "source": [
    "fig, ax = plt.subplots(1, 1)\n",
    "\n",
    "ratio_pad = np.pad(ratio, pad_width=[(0, 1), (0, 1)], mode=\"edge\")\n",
    "levels = np.linspace(0.6, 1., 9)\n",
    "img = ax.contourf(bins[0], bins[1], ratio_pad.T, levels,\n",
    "                  cmap=\"Greys_r\", extend=\"min\")\n",
    "fig.colorbar(img, ax=ax)\n",
    "\n",
    "plt.show()\n",
    "\n",
    "\n",
    "# Or compare to pcolormesh\n",
    "fig, ax = plt.subplots(1, 1)\n",
    "\n",
    "img = ax.pcolormesh(bins[0], bins[1], ratio.T, cmap=\"Greys_r\", vmin=0.75)\n",
    "fig.colorbar(img, ax=ax)\n",
    "\n",
    "plt.show()"
   ]
  },
  {
   "cell_type": "markdown",
   "metadata": {
    "heading_collapsed": true,
    "hidden": true
   },
   "source": [
    "## Source positions"
   ]
  },
  {
   "cell_type": "code",
   "execution_count": null,
   "metadata": {
    "hidden": true
   },
   "outputs": [],
   "source": [
    "src_list = loader.source_list_loader(\"all\")\n",
    "src_maps = {k: loader.source_map_loader(sl) for k, sl in src_list.items()}"
   ]
  },
  {
   "cell_type": "code",
   "execution_count": null,
   "metadata": {
    "hidden": true
   },
   "outputs": [],
   "source": [
    "try:\n",
    "    fs = latex_setup.make_figsize(ratio=2.5, scale=1.)\n",
    "except:\n",
    "    fs = (6, 4)"
   ]
  },
  {
   "cell_type": "markdown",
   "metadata": {
    "hidden": true
   },
   "source": [
    "One version with the reco maps"
   ]
  },
  {
   "cell_type": "code",
   "execution_count": null,
   "metadata": {
    "hidden": true
   },
   "outputs": [],
   "source": [
    "src_map_sum = np.sum(\n",
    "    [np.sum(srcm, axis=0) for srcm in src_maps.values()], axis=0)\n",
    "\n",
    "skym = skymap()\n",
    "fig, ax = skym.figure(\n",
    "    None, None, proj=\"mollweide\", grid=True, gal_plane=True,\n",
    "    tex=True, grid_move_to_back=False, gal_plane_label=None,\n",
    "    figsize=fs)\n",
    "# Don't overdo with dpi and levels when using contourf -> large files!\n",
    "dpi = 72\n",
    "fig.set_dpi(val=dpi)  # To set the pcolormesh xx, yy dimension\n",
    "\n",
    "# Old plot with pcolormesh and rasterized\n",
    "# plot_healpy_map(ax=ax, m=src_map_sum, cmap=\"Greys\", rasterize=True)\n",
    "levels = np.round(scs.chi2.sf(np.arange(1., 3. + 1., 1.)[::-1]**2, df=2) *\n",
    "                  np.amax(src_map_sum))\n",
    "\n",
    "cmap = trunc_cmap(plt.cm.Greys, np.r_[0., np.linspace(0.6, 1.0, 3)])\n",
    "plot_healpy_map(ax=ax, m=src_map_sum, cmap=cmap, extend=\"both\",\n",
    "                levels=levels, draw_contour=True)\n",
    "# plt.legend(loc=\"upper right\")\n",
    "\n",
    "save_fig(plt.gcf(), \"plots/datasets/hese_events_reco_landscape_skymap.pdf\",\n",
    "         bbox_inches=\"tight\")\n",
    "\n",
    "plt.show()"
   ]
  },
  {
   "cell_type": "markdown",
   "metadata": {
    "hidden": true
   },
   "source": [
    "And one version with the sources per sample"
   ]
  },
  {
   "cell_type": "code",
   "execution_count": null,
   "metadata": {
    "hidden": true
   },
   "outputs": [],
   "source": [
    "skym = skymap()\n",
    "fig, ax = skym.figure(\n",
    "    None, None, proj=\"mollweide\", grid=True, gal_plane=True,\n",
    "    tex=True, grid_move_to_back=False, figsize=fs, gal_plane_label=None)\n",
    "\n",
    "marker = [\"x\", \"d\", \"+\", \"s\"]\n",
    "ms = [5, 3, 5, 3]\n",
    "colors = 4 * [\"k\"]\n",
    "for i, (name, srcs) in enumerate(sorted(src_list.items())):\n",
    "    src_ra = np.array([src[\"ra\"] for src in srcs])\n",
    "    src_dec = np.array([src[\"dec\"] for src in srcs])\n",
    "    \n",
    "    short = False\n",
    "    if name == \"IC86_2012-2014\":\n",
    "        short = True\n",
    "    \n",
    "    x, y = skym.EquCoordsToMapCoords(dec=src_dec, ra=src_ra)   \n",
    "    ax.plot(x, y, color=colors[i], marker=marker[i],\n",
    "            ls=\"\", ms=ms[i], label=key2label(name, short=short))\n",
    "    \n",
    "leg = ax.legend(\n",
    "    loc=\"upper left\", ncol=1,\n",
    "    # bbox_to_anchor=(0.5, 0.925),\n",
    "    # bbox_transform=plt.gcf().transFigure,\n",
    "    prop={\"size\": latex_setup.latex_settings[\"legend.fontsize\"] - 3},\n",
    "    framealpha=1.)\n",
    "\n",
    "save_fig(plt.gcf(), \"plots/datasets//hese_events_per_sample_skymap.pdf\",\n",
    "         bbox_inches=\"tight\")\n",
    "# save_fig(plt.gcf(), \"plots/srcs/hese_events_per_sample_skymap.pdf\",\n",
    "#          bbox_inches=\"tight\", bbox_extra_artists=[leg], pad_inches=0.2)\n",
    "\n",
    "plt.show()"
   ]
  },
  {
   "cell_type": "markdown",
   "metadata": {
    "heading_collapsed": true,
    "hidden": true
   },
   "source": [
    "## Show zoomed version before / after smoothing"
   ]
  },
  {
   "cell_type": "code",
   "execution_count": null,
   "metadata": {
    "hidden": true
   },
   "outputs": [],
   "source": [
    "%%time\n",
    "# Load local, unsmoothed maps\n",
    "files = sorted(glob(\"/Users/tmenne/Downloads/hese_transient_stacking_data/\" +\n",
    "                    \"hese_scan_maps_local/*.json.gz\"))\n",
    "with gzip.open(files[0]) as fp:\n",
    "    src_dict = json.load(fp)\n",
    "    local_map = np.array(src_dict[\"map\"])"
   ]
  },
  {
   "cell_type": "code",
   "execution_count": null,
   "metadata": {
    "hidden": true
   },
   "outputs": [],
   "source": [
    "# Render the map around the minimum\n",
    "res = (400, 300)\n",
    "\n",
    "bf_azi, bf_zen = src_dict[\"bf_loc\"][\"azi\"], src_dict[\"bf_loc\"][\"zen\"]\n",
    "off = np.deg2rad(5)\n",
    "bounds = [[bf_azi - off, bf_azi + off], [bf_zen - off, bf_zen + off]]\n",
    "local, cx, cy = mplt.render_healpymap(local_map, npix=res, bounds=bounds)\n",
    "# Make -log10(DeltalogLLH), so levels show sigma contours\n",
    "# when approx. gaussian like\n",
    "delta_local = np.amax(local) - local\n",
    "\n",
    "# Smooth it\n",
    "pdf_map = pdf_map = np.exp(local_map - np.amax(local_map))\n",
    "# Smooth with a gaussian kernel\n",
    "pdf_map = hp.smoothing(map_in=pdf_map, sigma=np.deg2rad(1.), verbose=False)\n",
    "# Healpy smoothing may produce numerical erros, so fix them after smoothing\n",
    "pdf_map[pdf_map < 0.] = 0.\n",
    "smoothed = np.log(pdf_map)\n",
    "# Render a new version\n",
    "smoothed, cx, cy = mplt.render_healpymap(smoothed, npix=res, bounds=bounds)\n",
    "delta_smoothed = np.amax(smoothed) - smoothed"
   ]
  },
  {
   "cell_type": "code",
   "execution_count": null,
   "metadata": {
    "hidden": true
   },
   "outputs": [],
   "source": [
    "try:\n",
    "    fs = latex_setup.make_figsize(scale=0.9, ratio=2.5)\n",
    "except:\n",
    "    fs = (5.2, 2.)\n",
    "# fig, (axl ,axr) = plt.subplots(1, 2, figsize=fs, sharey=True)\n",
    "fig = plt.figure(figsize=fs)\n",
    "axl =  fig.add_axes([0.1, 0.1, 0.4, 0.9])\n",
    "axr =  fig.add_axes([0.55, 0.1, 0.4, 0.9])\n",
    "axcbar =  fig.add_axes([0.975, 0.1, 0.025, 0.9])\n",
    "\n",
    "# Local coords azi, zen as stored in map\n",
    "mx, my = map(lambda b: np.rad2deg(0.5 * (b[:-1] + b[1:])), [cx, cy])\n",
    "xx, yy = np.meshgrid(mx, my)\n",
    "levels = - scs.chi2.logsf(np.arange(0., 3.5, 0.5)**2, df=2)\n",
    "\n",
    "# Smooth the larger contour a bit\n",
    "delta_smoothed = gaussian_filter(delta_smoothed, sigma=4.)\n",
    "\n",
    "axl.contourf(xx, yy, delta_local, levels, cmap=\"Greys_r\", extend=\"max\")\n",
    "img = axr.contourf(xx, yy, delta_smoothed, levels, cmap=\"Greys_r\", extend=\"max\")\n",
    "cbar = fig.colorbar(img, cax=axcbar)\n",
    "cbar.set_ticks(levels[::2])\n",
    "cbar.set_label(r\"$-\\log_{10}(\\mathrm{PDF})$\")\n",
    "\n",
    "xticks = np.array([334, 336, 338, 340, 342])\n",
    "yticks = np.array([54, 56, 58, 60, 62, 64])\n",
    "for ax in (axl, axr):\n",
    "    ax.set_xticks(xticks)\n",
    "    ax.set_yticks(yticks)\n",
    "    ax.set_xlim(-1 + xticks[0], xticks[-1] + 1)\n",
    "    ax.set_ylim(-1 + yticks[0], yticks[-1] + 1)\n",
    "    ax.set_xlabel(r\"Azimuth $\\phi$ in $^\\circ$\")\n",
    "    ax.grid(ls=\":\")\n",
    "\n",
    "axr.set_yticks(axl.get_yticks())\n",
    "axr.set_yticklabels([])\n",
    "axl.set_ylabel(r\"Zenith $\\theta$ in $^\\circ$\")\n",
    "\n",
    "fig.tight_layout()\n",
    "save_fig(fig, \"plots/datasets/unsmoothed_vs_smoothed.pdf\", bbox_inches=\"tight\")\n",
    "plt.show()"
   ]
  },
  {
   "cell_type": "markdown",
   "metadata": {
    "heading_collapsed": true,
    "hidden": true
   },
   "source": [
    "## Show whole map raw smoothed and truncated"
   ]
  },
  {
   "cell_type": "code",
   "execution_count": null,
   "metadata": {
    "hidden": true
   },
   "outputs": [],
   "source": [
    "%%time\n",
    "# Load untruncaed maps\n",
    "files = sorted(glob(\"/Users/tmenne/Downloads/hese_transient_stacking_data/\" +\n",
    "                    \"rawout_original_hese/hese_scan_maps/*.json.gz\"))\n",
    "# Just pick a single map here\n",
    "with gzip.open(files[0]) as fp:\n",
    "    src_dict = json.load(fp)\n",
    "    untruncated = np.array(src_dict[\"map\"])"
   ]
  },
  {
   "cell_type": "code",
   "execution_count": null,
   "metadata": {
    "hidden": true
   },
   "outputs": [],
   "source": [
    "res = (400, 300)\n",
    "\n",
    "untrunc, cx, cy = mplt.render_healpymap(untruncated, npix=res)\n",
    "# Make -log10(PDF), so levels show sigma contours when approx. gaussian like\n",
    "m = (untrunc > 0.)\n",
    "untrunc = np.log10(untrunc)\n",
    "untrunc = np.amax(untrunc) - untrunc\n",
    "\n",
    "# Truncate map at six sigma\n",
    "_, _, idx = tdu.get_pixel_in_sigma_region(pdf_map=untruncated, sigma=6.)\n",
    "truncated = np.zeros_like(untruncated)\n",
    "truncated[idx] = untruncated[idx]\n",
    "# And make a rendered -log10(PDF) version.\n",
    "trunc, cx, cy = mplt.render_healpymap(truncated, npix=res)\n",
    "m = (trunc > 0.)\n",
    "trunc = np.log10(trunc)\n",
    "trunc = np.amax(trunc) - trunc"
   ]
  },
  {
   "cell_type": "code",
   "execution_count": null,
   "metadata": {
    "hidden": true
   },
   "outputs": [],
   "source": [
    "# Untruncated on the left truncated on the right\n",
    "try:\n",
    "    fs = latex_setup.make_figsize(scale=0.9, ratio=2.5)\n",
    "except:\n",
    "    fs = (5.2, 2.)\n",
    "# fig, (axl ,axr) = plt.subplots(1, 2, figsize=fs, sharey=True)\n",
    "fig = plt.figure(figsize=fs)\n",
    "axl =  fig.add_axes([0.1, 0.1, 0.4, 0.9])\n",
    "axr =  fig.add_axes([0.55, 0.1, 0.4, 0.9])\n",
    "axcbar =  fig.add_axes([0.975, 0.1, 0.025, 0.9])\n",
    "\n",
    "mx, my = map(lambda b: np.rad2deg(0.5 * (b[:-1] + b[1:])), [cx, cy])\n",
    "# Convert to equ. with ra from right to left in hours\n",
    "mx = 24. - mx / 360. * 24\n",
    "my = 90. - my\n",
    "xx, yy = np.meshgrid(mx, my)\n",
    "levels = - scs.chi2.logsf(np.arange(0., 7, 1)**2, df=2)\n",
    "\n",
    "axl.contourf(xx, yy, untrunc, levels, cmap=\"Greys_r\", extend=\"max\")\n",
    "img = axr.contourf(xx, yy, trunc, levels, cmap=\"Greys_r\", extend=\"max\")\n",
    "cbar = fig.colorbar(img, cax=axcbar)\n",
    "cbar.set_ticks(levels[::2])\n",
    "cbar.set_label(r\"$-\\log_{10}(\\mathrm{PDF})$\")\n",
    "\n",
    "xticks = np.linspace(0, 24, 7)    # Show as hours from right to left \n",
    "yticks = np.linspace(-90, 90, 7)  # Show as equ. coords. in [-90, +90]\n",
    "xlabels = [r\"${:.0f}$\".format(xi) for xi in xticks][::-1]\n",
    "ylabels = [r\"${:.0f}$\".format(yi) for yi in yticks]\n",
    "for ax in (axl, axr):\n",
    "    ax.set_xticks(xticks)\n",
    "    ax.set_xticklabels(xlabels)\n",
    "    ax.set_xlabel(r\"Right-ascension $\\alpha$ in hours\")\n",
    "    ax.set_yticks(yticks)\n",
    "\n",
    "axl.set_yticklabels(ylabels)\n",
    "axr.set_yticklabels([])\n",
    "axl.set_ylabel(r\"Declination $\\delta$ in $^\\circ$\")\n",
    "axr.grid(ls=\":\")\n",
    "\n",
    "plt.tight_layout()\n",
    "save_fig(fig, \"plots/datasets/untruncated_vs_truncated.pdf\", bbox_inches=\"tight\")\n",
    "plt.show()"
   ]
  },
  {
   "cell_type": "markdown",
   "metadata": {
    "heading_collapsed": true,
    "hidden": true
   },
   "source": [
    "## Sindec distribution for true dec"
   ]
  },
  {
   "cell_type": "code",
   "execution_count": null,
   "metadata": {
    "hidden": true
   },
   "outputs": [],
   "source": [
    "mc = loader.mc_loader(\"all\")"
   ]
  },
  {
   "cell_type": "code",
   "execution_count": null,
   "metadata": {
    "hidden": true
   },
   "outputs": [],
   "source": [
    "bins = np.linspace(-1, 1, 100)\n",
    "mids = 0.5 * (bins[:-1] + bins[1:])\n",
    "Hz2mhZ = 1e3\n",
    "gammas = [2.5, 2.19, 2.]\n",
    "fmts = [r\"$E^{{-{:.1f}}}$\", r\"$E^{{-{:.2f}}}$\", r\"$E^{{-{:.0f}}}$\"]\n",
    "labels = [f.format(g) for f, g in zip(fmts, gammas)]\n",
    "cs = [\"0.6\", \"0.3\", \"0.\"]\n",
    "phi0 = 1e-18\n",
    "E0 = 1e5\n",
    "\n",
    "for name in mc.keys():\n",
    "    mc_i = mc[name]\n",
    "    for i, gamma in enumerate(gammas):  # phi0 * (E/E0)**-gamma\n",
    "        # Rate in mHz\n",
    "        w = Hz2mhZ * phi0 * mc_i[\"ow\"] * (mc_i[\"trueE\"] / E0)**-gamma\n",
    "        h, b = np.histogram(np.sin(mc_i[\"trueDec\"]), bins=bins, weights=w,\n",
    "                            density=False)\n",
    "        err, _ = np.histogram(np.sin(mc_i[\"trueDec\"]), bins=bins, weights=w**2,\n",
    "                              density=False)\n",
    "        plt.plot(b, np.r_[h[0], h], drawstyle=\"steps-pre\", c=cs[i], lw=2,\n",
    "                 label=labels[i])\n",
    "        plt.errorbar(\n",
    "            mids, h, yerr=err, fmt=\",\", color=cs[i], zorder=-10, lw=1)\n",
    "\n",
    "    plt.xlabel(r\"$\\sin(\\delta_\\nu)$\")\n",
    "    plt.ylabel(\"Rate per bin in mHz\")\n",
    "    plt.title(\"Sample {}\".format(key2label(name)))\n",
    "\n",
    "    plt.yscale(\"log\")\n",
    "    plt.xlim(-1, 1)\n",
    "    plt.ylim(5e-7, 3e-4)\n",
    "    plt.legend(loc=\"upper left\")\n",
    "    \n",
    "    save_fig(plt.gcf(), \"plots/datasets/true_sindec_{}.pdf\".format(name),\n",
    "             bbox_inches=\"tight\")\n",
    "    \n",
    "    plt.show()"
   ]
  },
  {
   "cell_type": "markdown",
   "metadata": {
    "heading_collapsed": true,
    "hidden": true
   },
   "source": [
    "## Effective areas for the PS sample"
   ]
  },
  {
   "cell_type": "code",
   "execution_count": null,
   "metadata": {
    "hidden": true
   },
   "outputs": [],
   "source": [
    "mc = loader.mc_loader(\"all\")"
   ]
  },
  {
   "cell_type": "code",
   "execution_count": null,
   "metadata": {
    "hidden": true
   },
   "outputs": [],
   "source": [
    "cm2tom2 = 1e4\n",
    "gevtotev = 1e3\n",
    "\n",
    "e_bins = np.logspace(2, 9, 100)  # in GeV\n",
    "x = np.logspace(e_bins[0], e_bins[-1], 500)\n",
    "e_mids = 0.5 * (e_bins[:-1] + e_bins[1:])\n",
    "decs_lo = np.deg2rad([-90, 30, -5, -90])\n",
    "decs_hi = np.deg2rad([ 90, 90, 30,  -5])\n",
    "\n",
    "for name, mc_i in mc.items():\n",
    "    mc_i = mc[name]\n",
    "    Enu = mc_i[\"trueE\"]    # in GeV\n",
    "    dec = mc_i[\"trueDec\"]  # in rad\n",
    "    w = mc_i[\"ow\"]\n",
    "\n",
    "    # Make eff. area in three decl. regions and full sky\n",
    "    ls = [\"-\", \"-\", \"-\", \"-\"]\n",
    "    cs = [\"#353132\", \"0.3\", \"0.5\", \"0.75\"]\n",
    "    _s = r\"$\\SI{{{:.0f}}}{{\\degree}} \\leq \\delta \\leq \\SI{{{:.0f}}}{{\\degree}}$\"\n",
    "    labels = [_s.format(*np.rad2deg(dec_rng))\n",
    "              for dec_rng in zip(decs_lo, decs_hi)]\n",
    "    labels[0] = \"All-sky\"\n",
    "\n",
    "    for i, (dec_lo, dec_hi) in enumerate(zip(decs_lo, decs_hi)):\n",
    "        mask = np.logical_and(dec >= dec_lo, dec < dec_hi)\n",
    "        Enu_i, w_i = Enu[mask], w[mask]\n",
    "        h, _ = np.histogram(Enu_i, bins=e_bins, weights=w_i, normed=False)\n",
    "        solid_angle = 2 * np.pi * (np.sin(dec_hi) - np.sin(dec_lo))\n",
    "        norm = np.diff(e_bins) * solid_angle * cm2tom2\n",
    "        err, _ = np.histogram(Enu_i, bins=e_bins, weights=w_i**2, normed=False)\n",
    "        h = h / norm\n",
    "        err = np.sqrt(err) / norm\n",
    "        \n",
    "        # truncate manually for pgf\n",
    "        ymin = 1e-3\n",
    "        h[h < ymin] = ymin / 10.\n",
    "\n",
    "        plt.plot(e_bins / gevtotev, np.r_[h[0], h], drawstyle=\"steps-pre\",\n",
    "                 c=cs[i], label=labels[i], ls=ls[i])\n",
    "        plt.errorbar(e_mids / gevtotev, h, yerr=err, fmt=\",\",\n",
    "                     color=cs[i], zorder=-10, lw=1)\n",
    "        \n",
    "    plt.xscale(\"log\")\n",
    "    plt.yscale(\"log\")\n",
    "    plt.xlim(e_bins[0] / gevtotev, e_bins[-1] / gevtotev)\n",
    "    plt.ylim(ymin, 1e4)\n",
    "    plt.grid()\n",
    "\n",
    "    plt.xlabel(r\"True neutrino energy $E_\\nu$ in $\\si{\\TeV}$\")\n",
    "    plt.ylabel(r\"Eff. area $A_\\mathrm{eff}^{\\nu_\\mu+\\bar{\\nu}_\\mu}$ in \" +\n",
    "               r\"$\\si{\\m\\squared}$\")\n",
    "    plt.title(\"Sample {}\".format(key2label(name)))\n",
    "    plt.legend()\n",
    "\n",
    "    save_fig(plt.gcf(), \"plots/datasets/eff_area_{}.pdf\".format(name),\n",
    "             bbox_inches=\"tight\")\n",
    "    \n",
    "    plt.show()"
   ]
  },
  {
   "cell_type": "markdown",
   "metadata": {},
   "source": [
    "# Chapter: Time Independent Analysis"
   ]
  },
  {
   "cell_type": "markdown",
   "metadata": {
    "heading_collapsed": true
   },
   "source": [
    "# BG only TS"
   ]
  },
  {
   "cell_type": "code",
   "execution_count": null,
   "metadata": {
    "hidden": true
   },
   "outputs": [],
   "source": [
    "%%time\n",
    "bg_pdfs = loader.bg_pdf_loader(idx=\"all\")\n",
    "tw_ids = sorted(bg_pdfs.keys())"
   ]
  },
  {
   "cell_type": "markdown",
   "metadata": {
    "hidden": true
   },
   "source": [
    "Scan best threshold for scan plots"
   ]
  },
  {
   "cell_type": "code",
   "execution_count": null,
   "metadata": {
    "hidden": true
   },
   "outputs": [],
   "source": [
    "%%time\n",
    "threshs = []\n",
    "res = []\n",
    "\n",
    "for tw_id in tw_ids:\n",
    "    print(\"# Time window {}\".format(tw_id))      \n",
    "    # Scan in a range with still good statistics, but leave the really good\n",
    "    # statistics part to the empirical PDF\n",
    "    bg_pdfs[tw_id].fit_thresh(np.amax(bg_pdfs[tw_id].data))\n",
    "    lo, hi = bg_pdfs[tw_id].ppf(q=100. * sigma2prob([3., 5.5]))\n",
    "    threshs.append(np.arange(lo, hi, 0.1))\n",
    "    # Best fit: KS test p-value is larger than `pval_thresh` the first time\n",
    "    pval_thresh = 0.5\n",
    "    res_i = tdu.scan_best_thresh(\n",
    "        bg_pdfs[tw_id], threshs[-1], pval_thresh=pval_thresh)\n",
    "    best_thresh, best_idx, pvals, scales = res_i\n",
    "    res.append(res_i)\n",
    "\n",
    "    best_thresh_sigma = prob2sigma(bg_pdfs[tw_id].cdf(best_thresh))\n",
    "    print(\"Best thresh at TS = {:.2f}, {:.2f} sigma\".format(\n",
    "        best_thresh, best_thresh_sigma[0]))"
   ]
  },
  {
   "cell_type": "code",
   "execution_count": null,
   "metadata": {
    "hidden": true
   },
   "outputs": [],
   "source": [
    "# For the other notebook...\n",
    "idx = np.array([res_i[1] for res_i in res])\n",
    "locs = np.array([res_i[0] for res_i in res])\n",
    "scales = np.array([res_i[3][idx[i]] for i, res_i in enumerate(res)])"
   ]
  },
  {
   "cell_type": "code",
   "execution_count": null,
   "metadata": {
    "hidden": true,
    "scrolled": true
   },
   "outputs": [],
   "source": [
    "for tw_id in tw_ids:\n",
    "    print(\"# Time window {}\".format(tw_id))\n",
    "    # pvalue guides\n",
    "    plt.axhline(0.5, 0, 1, ls=\":\", color=\"0.6\")\n",
    "    plt.axhline(1, 0, 1, ls=\":\", color=\"0.6\")\n",
    "\n",
    "    best_thresh, best_idx, pvals, scales = res[tw_id]\n",
    "    plt.axvline(best_thresh, 0, 1, c=\"#353132\", ls=\"--\",\n",
    "                label=r\"$t_\\mathrm{{opt}} = {:.2f}$\".format(best_thresh))\n",
    "\n",
    "    plt.plot(threshs[tw_id], pvals, c=\"0.3\", label=r\"KS-test $p$\", lw=2.5)\n",
    "    plt.plot(threshs[tw_id], scales, c=\"0.6\", label=\"Scales\", lw=2.5)\n",
    "\n",
    "    plt.xlim(threshs[tw_id][0], threshs[tw_id][-1])\n",
    "    plt.xlabel(r\"Threshold $t$\")\n",
    "    plt.ylabel(\"Parameter values\")\n",
    "    plt.title(\"Time window {}\".format(tw_id + 1))\n",
    "    plt.legend()\n",
    "\n",
    "    save_fig(plt.gcf(), \"plots/bg_ts/bg_ts_thresh_scan_tw_{:2d}.pdf\".format(tw_id),\n",
    "             bbox_inches=\"tight\")\n",
    "    save_fig(plt.gcf(), \"plots/bg_ts/bg_ts_thresh_scan_tw_{:2d}.pgf\".format(tw_id),\n",
    "             bbox_inches=\"tight\")\n",
    "    plt.show()"
   ]
  },
  {
   "cell_type": "markdown",
   "metadata": {
    "hidden": true
   },
   "source": [
    "Show bg only ts with exp tail"
   ]
  },
  {
   "cell_type": "code",
   "execution_count": null,
   "metadata": {
    "hidden": true,
    "scrolled": true
   },
   "outputs": [],
   "source": [
    "x = np.linspace(0, max([bg_pdf_i.data.max() for\n",
    "                        bg_pdf_i in bg_pdfs.values()]), 500)\n",
    "c_hist, c_emp = \"0.65\", \"#353132\"\n",
    "\n",
    "for tw_id in tw_ids:\n",
    "    y = bg_pdfs[tw_id].pdf(x, dx=0.25)\n",
    "\n",
    "    h, bins, err, norm = bg_pdfs[tw_id].data_hist(density=True, dx=0.25,\n",
    "                                                  which=\"all\")\n",
    "    m = 0.5 * (bins[:-1] + bins[1:])\n",
    "    \n",
    "    # Clip manually for PGF backend\n",
    "    ymin = np.amin(h[h>0] / 2.)\n",
    "    h[h < ymin / 10.] = ymin / 10.\n",
    "    y[y < ymin / 10.] = ymin / 10.\n",
    "\n",
    "    plt.plot(bins, np.r_[h[0], h], drawstyle=\"steps-pre\", color=c_hist)\n",
    "    plt.errorbar(m, h, yerr=err, fmt=\",\", color=c_hist, zorder=-10)\n",
    "\n",
    "    best_thresh = res[tw_id][0]\n",
    "    plt.axvline(best_thresh, 0, 1, c=c_emp, ls=\"--\")\n",
    "    plt.plot(x, y, color=c_emp,\n",
    "             label=\"Emp. PDF, $t_\\mathrm{{opt}}={:.2f}$\".format(best_thresh))\n",
    "\n",
    "    plt.xlabel(r\"Test statistic $-2\\ln\\Lambda$\")\n",
    "    plt.ylabel(\"PDF\")\n",
    "    plt.xlim(x[0], x[-1])\n",
    "    plt.ylim(ymin, None)\n",
    "    plt.yscale(\"log\")\n",
    "    plt.legend(loc=\"upper right\")\n",
    "    plt.title(\"Time window {}\".format(tw_id + 1))\n",
    "\n",
    "    save_fig(plt.gcf(), path=\"plots/bg_ts/bg_ts_tw_{}.pdf\".format(tw_id),\n",
    "             bbox_inches=\"tight\")\n",
    "    save_fig(plt.gcf(), path=\"plots/bg_ts/bg_ts_tw_{:2d}.pgf\".format(tw_id),\n",
    "             bbox_inches=\"tight\")\n",
    "    plt.show()"
   ]
  },
  {
   "cell_type": "markdown",
   "metadata": {
    "hidden": true
   },
   "source": [
    "Show exp. result with bg only ts - pre trial"
   ]
  },
  {
   "cell_type": "code",
   "execution_count": null,
   "metadata": {
    "hidden": true
   },
   "outputs": [],
   "source": [
    "with open(os.path.join(PATHS.local, \"unblinding\", \"result.json\")) as fp:\n",
    "    result = json.load(fp)"
   ]
  },
  {
   "cell_type": "code",
   "execution_count": null,
   "metadata": {
    "hidden": true
   },
   "outputs": [],
   "source": [
    "tw_id = 20\n",
    "x = np.linspace(0, max([bg_pdfs[tw_id].data.max() for\n",
    "                        bg_pdfs[tw_id] in bg_pdfs.values()]), 500)\n",
    "c_hist, c_emp = \"0.65\", \"#353132\"\n",
    "\n",
    "y = bg_pdfs[tw_id].pdf(x, dx=0.25)\n",
    "\n",
    "h, bins, err, norm = bg_pdfs[tw_id].data_hist(density=True, dx=0.25,\n",
    "                                              which=\"all\")\n",
    "m = 0.5 * (bins[:-1] + bins[1:])\n",
    "\n",
    "# Clip manually for PGF backend\n",
    "ymin = np.amin(h[h>0] / 2.)\n",
    "h[h < ymin / 10.] = ymin / 10.\n",
    "y[y < ymin / 10.] = ymin / 10.\n",
    "\n",
    "plt.plot(bins, np.r_[h[0], h], drawstyle=\"steps-pre\", color=c_hist)\n",
    "plt.errorbar(m, h, yerr=err, fmt=\",\", color=c_hist, zorder=-10)\n",
    "plt.plot(x, y, color=c_emp,\n",
    "         label=\"Emp. PDF, $t_\\mathrm{{opt}}={:.2f}$\".format(best_thresh))\n",
    "\n",
    "plt.axvline(result[\"ts\"][tw_id], 0, 1, c=c_emp, ls=\"--\",\n",
    "            label=r\"Exp. result, \" +\n",
    "            r\"$-2\\ln\\Lambda={:.2f}$\".format(result[\"ts\"][tw_id]))\n",
    "\n",
    "\n",
    "plt.xlabel(r\"Test statistic $-2\\ln\\Lambda$\")\n",
    "plt.ylabel(\"PDF\")\n",
    "plt.xlim(x[0], x[-1])\n",
    "plt.ylim(ymin, None)\n",
    "plt.yscale(\"log\", nonposy=\"clip\")\n",
    "plt.legend(loc=\"upper right\")\n",
    "plt.title(\"Time window {}\".format(tw_id + 1))\n",
    "\n",
    "save_fig(plt.gcf(), path=\"plots/bg_ts_tw_{}_exp_res.pdf\".format(tw_id),\n",
    "         bbox_inches=\"tight\")  # pdf has problems, because a low negative coord is saved in the pgf, needs to be commented out manually...\n",
    "save_fig(plt.gcf(), path=\"plots/bg_ts_tw_{:2d}_exp_res.pgf\".format(tw_id),\n",
    "         bbox_inches=\"tight\")\n",
    "plt.show()"
   ]
  }
 ],
 "metadata": {
  "hide_input": false,
  "kernelspec": {
   "display_name": "Python 2 (OSX)",
   "language": "python",
   "name": "python2"
  },
  "language_info": {
   "codemirror_mode": {
    "name": "ipython",
    "version": 2
   },
   "file_extension": ".py",
   "mimetype": "text/x-python",
   "name": "python",
   "nbconvert_exporter": "python",
   "pygments_lexer": "ipython2",
   "version": "2.7.10"
  }
 },
 "nbformat": 4,
 "nbformat_minor": 2
}

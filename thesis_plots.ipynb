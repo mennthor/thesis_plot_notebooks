{
 "cells": [
  {
   "cell_type": "code",
   "execution_count": null,
   "metadata": {},
   "outputs": [],
   "source": [
    "# Load the plot setup for thesis quality plots\n",
    "from mpl_latex_settings import create_latex_setup\n",
    "config = \"/Users/tmenne/git/thesis/inc/mpl_latex_config.json\"\n",
    "latex_setup = create_latex_setup(config, interactive=True)"
   ]
  },
  {
   "cell_type": "code",
   "execution_count": null,
   "metadata": {},
   "outputs": [],
   "source": [
    "from __future__ import division, print_function\n",
    "import os\n",
    "import json\n",
    "import gzip\n",
    "import healpy as hp\n",
    "from glob import glob\n",
    "import dill\n",
    "\n",
    "import numpy as np\n",
    "import matplotlib.pyplot as plt\n",
    "import scipy.interpolate as sci\n",
    "import scipy.stats as scs\n",
    "import scipy.optimize as sco\n",
    "from scipy.ndimage.filters import gaussian_filter\n",
    "from matplotlib import gridspec\n",
    "from matplotlib.colors import LogNorm, LinearSegmentedColormap\n",
    "from astropy.time import Time as astrotime\n",
    "\n",
    "import tdepps.utils as tdu\n",
    "from tdepps.utils.stats import fit_chi2_cdf, weighted_cdf\n",
    "from tdepps.utils.stats import sigma2prob, prob2sigma, delta_chi2\n",
    "from tdepps.utils.stats import percentile_nzeros, cdf_nzeros\n",
    "arr2str = tdu.arr2str\n",
    "\n",
    "from mypyscripts.general import round_mantissa\n",
    "import mypyscripts.plots as mplt\n",
    "from mypyscripts.plots import (skymap, plot_healpy_map, mollview,\n",
    "                               render_healpymap)\n",
    "\n",
    "from _loader import loader as LOADER\n",
    "from _paths import PATHS_ORIG as PATHS  # Use the original 22 HESE sources\n",
    "from _plots import idx2rowcol\n",
    "\n",
    "# Make some globals\n",
    "SECINDAY = 24. * 60. * 60.\n",
    "RNDGEN = np.random.RandomState(42439462)\n",
    "loader = LOADER(PATHS, verb=False)\n",
    "\n",
    "print(\"Paths are:\\n\", PATHS)\n",
    "\n",
    "def save_fig(fig, path, **save_args):\n",
    "    path = os.path.abspath(path)\n",
    "    dirname = os.path.dirname(path)\n",
    "    if not os.path.isdir(dirname):\n",
    "        os.makedirs(dirname)   \n",
    "    fig.savefig(path, **save_args)\n",
    "    \n",
    "def key2label(key, short=False):\n",
    "    \"\"\" Makes 'IC86, 2012--2014' from 'IC86_2012-2104' \"\"\"\n",
    "    if short:  # Abbreviate 20YY -> 'YY\n",
    "        return \", \".join(map(lambda s: s.replace(\"-\", \"--\").replace(\"20\", \"'\"),\n",
    "                             key.split(\"_\")))\n",
    "    return \", \".join(map(lambda s: s.replace(\"-\", \"--\"), key.split(\"_\")))\n",
    "\n",
    "def trunc_cmap(cmap, arr):\n",
    "    \"\"\"\n",
    "    Adapted from: https://stackoverflow.com/questions/18926031\n",
    "    Makes a new colormap with original values selected from arr in [0, 1].\n",
    "    \"\"\"\n",
    "    vmin, vmax = np.amin(arr), np.amax(arr)\n",
    "    new_cmap = LinearSegmentedColormap.from_list(\n",
    "        'trunc({}_{:.2f}_{:.2f})'.format(cmap.name, vmin, vmax), cmap(arr))\n",
    "    return new_cmap"
   ]
  },
  {
   "cell_type": "markdown",
   "metadata": {
    "heading_collapsed": true
   },
   "source": [
    "# Chapter: Datasets"
   ]
  },
  {
   "cell_type": "markdown",
   "metadata": {
    "heading_collapsed": true,
    "hidden": true
   },
   "source": [
    "## Count number of events originally in the data sets"
   ]
  },
  {
   "cell_type": "code",
   "execution_count": null,
   "metadata": {
    "hidden": true
   },
   "outputs": [],
   "source": [
    "exp = np.load(\"/Users/tmenne/Downloads/hese_transient_stacking_data/skylab_data/IC79b_exp.npy\")\n",
    "print(\"IC79: \", len(exp))\n",
    "exp = np.load(\"/Users/tmenne/Downloads/hese_transient_stacking_data/skylab_data/IC86_exp.npy\")\n",
    "print(\"IC86, 2011: \", len(exp))\n",
    "\n",
    "exp = np.load(\"/Users/tmenne/Downloads/hese_transient_stacking_data/skylab_data/IC86-2012_exp_v2.npy\")\n",
    "print(\"IC86, 2012: \", len(exp))\n",
    "exp = np.load(\"/Users/tmenne/Downloads/hese_transient_stacking_data/skylab_data/IC86-2013_exp_v2.npy\")\n",
    "print(\"IC86, 2013: \", len(exp))\n",
    "exp = np.load(\"/Users/tmenne/Downloads/hese_transient_stacking_data/skylab_data/IC86-2014_exp_v2.npy\")\n",
    "print(\"IC86, 2014: \", len(exp))\n",
    "\n",
    "exp = np.load(\"/Users/tmenne/Downloads/hese_transient_stacking_data/skylab_data/SplineMPEmax.MuEx.IC86-2015.npy\")\n",
    "print(\"IC86, 2015: \", len(exp))"
   ]
  },
  {
   "cell_type": "markdown",
   "metadata": {
    "heading_collapsed": true,
    "hidden": true
   },
   "source": [
    "## Print out source info for table"
   ]
  },
  {
   "cell_type": "code",
   "execution_count": null,
   "metadata": {
    "hidden": true
   },
   "outputs": [],
   "source": [
    "src_list = loader.source_list_loader(\"all\")\n",
    "\n",
    "src_decs = []\n",
    "src_ras = []\n",
    "src_mjds = []\n",
    "for name, sl in sorted(src_list.items()):\n",
    "    src_decs = np.concatenate([src_decs, [sli[\"dec\"] for sli in sl]])\n",
    "    src_ras = np.concatenate([src_ras, [sli[\"ra\"] for sli in sl]])\n",
    "    src_mjds = np.concatenate([src_mjds, [sli[\"mjd\"] for sli in sl]])"
   ]
  },
  {
   "cell_type": "code",
   "execution_count": null,
   "metadata": {
    "hidden": true
   },
   "outputs": [],
   "source": [
    "print(arr2str(np.rad2deg(src_decs), fmt=\"{:.2f}\"))\n",
    "print(\"\")\n",
    "print(arr2str(np.rad2deg(src_ras), fmt=\"{:.2f}\"))\n",
    "print(\"\")\n",
    "print(arr2str(src_mjds, fmt=\"{:.2f}\"))"
   ]
  },
  {
   "cell_type": "markdown",
   "metadata": {
    "heading_collapsed": true,
    "hidden": true
   },
   "source": [
    "## Show HESE / no HESE in MC"
   ]
  },
  {
   "cell_type": "markdown",
   "metadata": {
    "hidden": true
   },
   "source": [
    "The region high energy region from the northern sky should be investigated.\n",
    "In true variables it looks like statistics, but in proxies it blows up enormuously.\n",
    "Should the main effect come from the souther high energy sky?"
   ]
  },
  {
   "cell_type": "code",
   "execution_count": null,
   "metadata": {
    "hidden": true
   },
   "outputs": [],
   "source": [
    "def remove_hese_from_mc(mc, heseids):\n",
    "    \"\"\"\n",
    "    Mask all values in ``mc`` that have the same run and event ID combination\n",
    "    as in ``heseids``.\n",
    "\n",
    "    Parameters\n",
    "    ----------\n",
    "    mc : record-array\n",
    "        MC data, needs names ``'Run', 'Event'``.\n",
    "    heseids : dict or record-array\n",
    "        Needs names / keys ``'run_id', 'event_id``.\n",
    "\n",
    "    Returns\n",
    "    -------\n",
    "    is_hese_like : array-like, shape (len(mc),)\n",
    "        Mask: ``True`` for each event in ``mc`` that is HESE like.\n",
    "    \"\"\"\n",
    "    # Make combined IDs to easily match against HESE IDs with `np.isin`\n",
    "    factor_mc = 10**np.ceil(np.log10(np.amax(mc[\"Event\"])))\n",
    "    _evids = np.atleast_1d(heseids[\"event_id\"])\n",
    "    factor_hese = 10**np.ceil(np.log10(np.amax(_evids)))\n",
    "    factor = max(factor_mc, factor_hese)\n",
    "\n",
    "    combined_mcids = (factor * mc[\"Run\"] + mc[\"Event\"]).astype(int)\n",
    "    assert np.all(combined_mcids > factor)  # Is int overflow a thing here?\n",
    "\n",
    "    _runids = np.atleast_1d(heseids[\"run_id\"])\n",
    "    combined_heseids = (factor * _runids + _evids).astype(int)\n",
    "    assert np.all(combined_heseids > factor)\n",
    "\n",
    "    # Check which MC event is tagged as HESE like\n",
    "    is_hese_like = np.isin(combined_mcids, combined_heseids)\n",
    "    print(\"  Found {} / {} HESE like events in MC\".format(np.sum(is_hese_like),\n",
    "                                                          len(mc)))\n",
    "    return is_hese_like\n",
    "\n",
    "def _get_weights(ow, trueE):\n",
    "    \"\"\" Common model to weight to event rate \"\"\" \n",
    "    lt = 365. * SECINDAY\n",
    "    return ow * tdu.power_law_flux(trueE, E0=1e5,\n",
    "                                   phi0=1.01e-18, gamma=2.19) * lt\n",
    "\n",
    "name2skylab = {\n",
    "    \"IC79\" : \"IC79b_corrected_MC.npy\",\n",
    "    \"IC86_2011\" : \"IC86_corrected_MC.npy\",\n",
    "    \"IC86_2012-2014\" : \"IC86-2012_corrected_MC_v2.npy\",\n",
    "    \"IC86_2015\" : \"SplineMPEmax.MuEx.MC.npy\",\n",
    "}\n",
    "name2idx = {\n",
    "    \"IC79\" : \"IC79.json.gz\",\n",
    "    \"IC86_2011\" : \"IC86_2011.json.gz\",\n",
    "    \"IC86_2012-2014\" : \"IC86_2012-2015.json.gz\",\n",
    "    \"IC86_2015\" : \"IC86_2012-2015.json.gz\",    \n",
    "}"
   ]
  },
  {
   "cell_type": "code",
   "execution_count": null,
   "metadata": {
    "hidden": true
   },
   "outputs": [],
   "source": [
    "proxy = False  # Switch False | True to see plots in trueE, trueDec, vs. proxies\n",
    "if proxy:\n",
    "    _sindec = lambda mc: np.sin(mc[\"dec\"])\n",
    "    _logE = lambda mc: mc[\"logE\"]\n",
    "    _logE_label = r\"$\\log_{10}(E_\\mathrm{proxy} / \\mathrm{GeV})$\"\n",
    "    _sindec_label = r\"$\\sin(\\delta_\\mathrm{proxy})$\"\n",
    "    _info = \"_proxy\"\n",
    "else:\n",
    "    _sindec = lambda mc: np.sin(mc[\"trueDec\"])\n",
    "    _logE = lambda mc: np.log10(mc[\"trueE\"])\n",
    "    _logE_label = r\"$\\log_{10}(E_\\nu / \\mathrm{GeV})$\"\n",
    "    _sindec_label = r\"$\\sin(\\delta_\\nu)$\"\n",
    "    _info = \"\"\n",
    "\n",
    "for sample_name in name2skylab.keys()[:]:\n",
    "    print(\"# {}\".format(sample_name))\n",
    "    # Load full skylab data\n",
    "    _mc = np.load(os.path.join(PATHS.skylab_data, name2skylab[sample_name]))\n",
    "\n",
    "    # Filter HESE events\n",
    "    _path = os.path.join(PATHS.local, \"check_hese_mc_ids\",\n",
    "                         name2idx[sample_name])\n",
    "    heseids = json.load(gzip.open(_path))\n",
    "    is_hese_mask = remove_hese_from_mc(_mc, heseids)\n",
    "    _mc_hese_only = _mc[is_hese_mask]\n",
    "    # Get weights\n",
    "    w_all = _get_weights(_mc[\"ow\"], _mc[\"trueE\"])\n",
    "    w_hese_only = _get_weights(_mc_hese_only[\"ow\"], _mc_hese_only[\"trueE\"])\n",
    "\n",
    "    # Plot filtered out HESE events\n",
    "    try:\n",
    "        fs = latex_setup.make_figsize(scale=0.95, ratio=2.5)\n",
    "    except:\n",
    "        fs = (10, 4)\n",
    "    fig, (axl, axr) = plt.subplots(1, 2, sharey=True, figsize=fs)\n",
    "    \n",
    "    # Make histograms for contourf\n",
    "    bins = [np.linspace(-1, 1, 40), np.linspace(2, 9, 40)]\n",
    "            # np.linspace(np.amin(_logE(_mc)), np.amax(_logE(_mc)), 40)]\n",
    "    h, _, _ = np.histogram2d(_sindec(_mc), _logE(_mc), normed=False,\n",
    "                             bins=bins, weights=w_all)\n",
    "    h_nh, _, _ = np.histogram2d(_sindec(_mc_hese_only), _logE(_mc_hese_only),\n",
    "                                bins=bins, weights=w_hese_only, normed=False)\n",
    "    vmin = 10**np.floor(np.amin(np.log10(h[h>0])))\n",
    "    vmax = 10**np.ceil(np.amax(np.log10(h[h>0])))\n",
    "\n",
    "    # Plot whole MC left, weights normed to 365 days\n",
    "    h_pad = np.pad(h.T, mode=\"edge\", pad_width=[(0, 1), (0, 1)])\n",
    "    levels = np.logspace(-4, 0, 11)\n",
    "    img = axl.contourf(bins[0], bins[1], h_pad, levels,\n",
    "                       cmap=\"Greys\", norm=LogNorm())\n",
    "    cbar = fig.colorbar(img, ax=axl, ticks=levels[::2])\n",
    "    cbar.ax.set_yticklabels([])\n",
    "    cbar.ax.set_yticks(levels[::2])\n",
    "#     cbar.ax.set_yticklabels([\"$10^{{{:.0f}}}$\".format(li)\n",
    "#                              for li in np.log10(levels[::2])])\n",
    "    \n",
    "    # Right plot only cut-out HESE, weights normed to 365 days\n",
    "    h_nh_pad = np.pad(h_nh.T, mode=\"edge\", pad_width=[(0, 1), (0, 1)])\n",
    "    img = axr.contourf(bins[0], bins[1], h_nh_pad, levels,\n",
    "                       cmap=\"Greys\", norm=LogNorm())\n",
    "    cbar = fig.colorbar(img, ax=axr, ticks=levels[::2])\n",
    "    cbar.ax.set_yticklabels([\"$10^{{{:.0f}}}$\".format(li)\n",
    "                             for li in np.log10(levels[::2])])\n",
    "    cbar.set_label(\"Differenial no. of events\")\n",
    "\n",
    "#     axl.set_title(\"No. events for whole MC: {:.2f}\".format(np.sum(w_all)))\n",
    "#     axr.set_title(\"No. events for whole HESE-like MC: \" +\n",
    "#                   \"{:.2f}\".format(np.sum(w_hese_only)))\n",
    "    for ax in (axl, axr):\n",
    "        ax.set_xlabel(_sindec_label)\n",
    "        ax.set_ylim(bins[1][0], bins[1][-1])\n",
    "        ax.grid(ls=\":\")\n",
    "    axl.set_ylabel(_logE_label)\n",
    "    \n",
    "    fig.tight_layout(w_pad=-0.2)\n",
    "    \n",
    "    save_fig(fig, \"plots/datasets/mc_no_hese_{}.pdf\".format(sample_name),\n",
    "             bbox_inches=\"tight\")\n",
    "#     save_fig(fig, \"plots/sample/mc_no_hese_{}.pgf\".format(sample_name),\n",
    "#              bbox_inches=\"tight\")\n",
    "\n",
    "    plt.show()"
   ]
  },
  {
   "cell_type": "markdown",
   "metadata": {
    "hidden": true
   },
   "source": [
    "Old plots compared ratios"
   ]
  },
  {
   "cell_type": "code",
   "execution_count": null,
   "metadata": {
    "hidden": true
   },
   "outputs": [],
   "source": [
    "fig, ax = plt.subplots(1, 1)\n",
    "\n",
    "ratio_pad = np.pad(ratio, pad_width=[(0, 1), (0, 1)], mode=\"edge\")\n",
    "levels = np.linspace(0.6, 1., 9)\n",
    "img = ax.contourf(bins[0], bins[1], ratio_pad.T, levels,\n",
    "                  cmap=\"Greys_r\", extend=\"min\")\n",
    "fig.colorbar(img, ax=ax)\n",
    "\n",
    "plt.show()\n",
    "\n",
    "\n",
    "# Or compare to pcolormesh\n",
    "fig, ax = plt.subplots(1, 1)\n",
    "\n",
    "img = ax.pcolormesh(bins[0], bins[1], ratio.T, cmap=\"Greys_r\", vmin=0.75)\n",
    "fig.colorbar(img, ax=ax)\n",
    "\n",
    "plt.show()"
   ]
  },
  {
   "cell_type": "markdown",
   "metadata": {
    "heading_collapsed": true,
    "hidden": true
   },
   "source": [
    "## Source positions"
   ]
  },
  {
   "cell_type": "code",
   "execution_count": null,
   "metadata": {
    "hidden": true
   },
   "outputs": [],
   "source": [
    "src_list = loader.source_list_loader(\"all\")\n",
    "src_maps = {k: loader.source_map_loader(sl) for k, sl in src_list.items()}"
   ]
  },
  {
   "cell_type": "code",
   "execution_count": null,
   "metadata": {
    "hidden": true
   },
   "outputs": [],
   "source": [
    "try:\n",
    "    fs = latex_setup.make_figsize(ratio=2.5, scale=1.)\n",
    "except:\n",
    "    fs = (6, 4)"
   ]
  },
  {
   "cell_type": "markdown",
   "metadata": {
    "hidden": true
   },
   "source": [
    "One version with the reco maps"
   ]
  },
  {
   "cell_type": "code",
   "execution_count": null,
   "metadata": {
    "hidden": true
   },
   "outputs": [],
   "source": [
    "src_map_sum = np.sum(\n",
    "    [np.sum(srcm, axis=0) for srcm in src_maps.values()], axis=0)\n",
    "\n",
    "skym = skymap()\n",
    "fig, ax = skym.figure(\n",
    "    None, None, proj=\"mollweide\", grid=True, gal_plane=True,\n",
    "    tex=True, grid_move_to_back=False, gal_plane_label=None,\n",
    "    figsize=fs)\n",
    "# Don't overdo with dpi and levels when using contourf -> large files!\n",
    "dpi = 72\n",
    "fig.set_dpi(val=dpi)  # To set the pcolormesh xx, yy dimension\n",
    "\n",
    "# Old plot with pcolormesh and rasterized\n",
    "# plot_healpy_map(ax=ax, m=src_map_sum, cmap=\"Greys\", rasterize=True)\n",
    "levels = np.round(scs.chi2.sf(np.arange(1., 3. + 1., 1.)[::-1]**2, df=2) *\n",
    "                  np.amax(src_map_sum))\n",
    "\n",
    "cmap = trunc_cmap(plt.cm.Greys, np.r_[0., np.linspace(0.6, 1.0, 3)])\n",
    "plot_healpy_map(ax=ax, m=src_map_sum, cmap=cmap, extend=\"both\",\n",
    "                levels=levels, draw_contour=True)\n",
    "# plt.legend(loc=\"upper right\")\n",
    "\n",
    "save_fig(plt.gcf(), \"plots/datasets/hese_events_reco_landscape_skymap.pdf\",\n",
    "         bbox_inches=\"tight\")\n",
    "\n",
    "plt.show()"
   ]
  },
  {
   "cell_type": "markdown",
   "metadata": {
    "hidden": true
   },
   "source": [
    "And one version with the sources per sample"
   ]
  },
  {
   "cell_type": "code",
   "execution_count": null,
   "metadata": {
    "hidden": true
   },
   "outputs": [],
   "source": [
    "skym = skymap()\n",
    "fig, ax = skym.figure(\n",
    "    None, None, proj=\"mollweide\", grid=True, gal_plane=True,\n",
    "    tex=True, grid_move_to_back=False, figsize=fs, gal_plane_label=None)\n",
    "\n",
    "marker = [\"x\", \"d\", \"+\", \"s\"]\n",
    "ms = [5, 3, 5, 3]\n",
    "colors = 4 * [\"k\"]\n",
    "for i, (name, srcs) in enumerate(sorted(src_list.items())):\n",
    "    src_ra = np.array([src[\"ra\"] for src in srcs])\n",
    "    src_dec = np.array([src[\"dec\"] for src in srcs])\n",
    "    \n",
    "    short = False\n",
    "    if name == \"IC86_2012-2014\":\n",
    "        short = True\n",
    "    \n",
    "    x, y = skym.EquCoordsToMapCoords(dec=src_dec, ra=src_ra)   \n",
    "    ax.plot(x, y, color=colors[i], marker=marker[i],\n",
    "            ls=\"\", ms=ms[i], label=key2label(name, short=short))\n",
    "    \n",
    "leg = ax.legend(\n",
    "    loc=\"upper left\", ncol=1,\n",
    "    # bbox_to_anchor=(0.5, 0.925),\n",
    "    # bbox_transform=plt.gcf().transFigure,\n",
    "    prop={\"size\": latex_setup.latex_settings[\"legend.fontsize\"] - 3},\n",
    "    framealpha=1.)\n",
    "\n",
    "save_fig(plt.gcf(), \"plots/datasets//hese_events_per_sample_skymap.pdf\",\n",
    "         bbox_inches=\"tight\")\n",
    "# save_fig(plt.gcf(), \"plots/srcs/hese_events_per_sample_skymap.pdf\",\n",
    "#          bbox_inches=\"tight\", bbox_extra_artists=[leg], pad_inches=0.2)\n",
    "\n",
    "plt.show()"
   ]
  },
  {
   "cell_type": "markdown",
   "metadata": {
    "heading_collapsed": true,
    "hidden": true
   },
   "source": [
    "## Show zoomed version before / after smoothing"
   ]
  },
  {
   "cell_type": "code",
   "execution_count": null,
   "metadata": {
    "hidden": true
   },
   "outputs": [],
   "source": [
    "%%time\n",
    "# Load local, unsmoothed maps\n",
    "files = sorted(glob(\"/Users/tmenne/Downloads/hese_transient_stacking_data/\" +\n",
    "                    \"hese_scan_maps_local/*.json.gz\"))\n",
    "with gzip.open(files[0]) as fp:\n",
    "    src_dict = json.load(fp)\n",
    "    local_map = np.array(src_dict[\"map\"])"
   ]
  },
  {
   "cell_type": "code",
   "execution_count": null,
   "metadata": {
    "hidden": true
   },
   "outputs": [],
   "source": [
    "# Render the map around the minimum\n",
    "res = (400, 300)\n",
    "\n",
    "bf_azi, bf_zen = src_dict[\"bf_loc\"][\"azi\"], src_dict[\"bf_loc\"][\"zen\"]\n",
    "off = np.deg2rad(5)\n",
    "bounds = [[bf_azi - off, bf_azi + off], [bf_zen - off, bf_zen + off]]\n",
    "local, cx, cy = mplt.render_healpymap(local_map, npix=res, bounds=bounds)\n",
    "# Make -log10(DeltalogLLH), so levels show sigma contours\n",
    "# when approx. gaussian like\n",
    "delta_local = np.amax(local) - local\n",
    "\n",
    "# Smooth it\n",
    "pdf_map = pdf_map = np.exp(local_map - np.amax(local_map))\n",
    "# Smooth with a gaussian kernel\n",
    "pdf_map = hp.smoothing(map_in=pdf_map, sigma=np.deg2rad(1.), verbose=False)\n",
    "# Healpy smoothing may produce numerical erros, so fix them after smoothing\n",
    "pdf_map[pdf_map < 0.] = 0.\n",
    "smoothed = np.log(pdf_map)\n",
    "# Render a new version\n",
    "smoothed, cx, cy = mplt.render_healpymap(smoothed, npix=res, bounds=bounds)\n",
    "delta_smoothed = np.amax(smoothed) - smoothed"
   ]
  },
  {
   "cell_type": "code",
   "execution_count": null,
   "metadata": {
    "hidden": true
   },
   "outputs": [],
   "source": [
    "try:\n",
    "    fs = latex_setup.make_figsize(scale=0.9, ratio=2.5)\n",
    "except:\n",
    "    fs = (5.2, 2.)\n",
    "# fig, (axl ,axr) = plt.subplots(1, 2, figsize=fs, sharey=True)\n",
    "fig = plt.figure(figsize=fs)\n",
    "axl =  fig.add_axes([0.1, 0.1, 0.4, 0.9])\n",
    "axr =  fig.add_axes([0.55, 0.1, 0.4, 0.9])\n",
    "axcbar =  fig.add_axes([0.975, 0.1, 0.025, 0.9])\n",
    "\n",
    "# Local coords azi, zen as stored in map\n",
    "mx, my = map(lambda b: np.rad2deg(0.5 * (b[:-1] + b[1:])), [cx, cy])\n",
    "xx, yy = np.meshgrid(mx, my)\n",
    "levels = - scs.chi2.logsf(np.arange(0., 3.5, 0.5)**2, df=2)\n",
    "\n",
    "# Smooth the larger contour a bit\n",
    "delta_smoothed = gaussian_filter(delta_smoothed, sigma=4.)\n",
    "\n",
    "axl.contourf(xx, yy, delta_local, levels, cmap=\"Greys_r\", extend=\"max\")\n",
    "img = axr.contourf(xx, yy, delta_smoothed, levels, cmap=\"Greys_r\", extend=\"max\")\n",
    "cbar = fig.colorbar(img, cax=axcbar)\n",
    "cbar.set_ticks(levels[::2])\n",
    "cbar.set_label(r\"$-\\log_{10}(\\mathrm{PDF})$\")\n",
    "\n",
    "xticks = np.array([334, 336, 338, 340, 342])\n",
    "yticks = np.array([54, 56, 58, 60, 62, 64])\n",
    "for ax in (axl, axr):\n",
    "    ax.set_xticks(xticks)\n",
    "    ax.set_yticks(yticks)\n",
    "    ax.set_xlim(-1 + xticks[0], xticks[-1] + 1)\n",
    "    ax.set_ylim(-1 + yticks[0], yticks[-1] + 1)\n",
    "    ax.set_xlabel(r\"Azimuth $\\phi$ in $^\\circ$\")\n",
    "    ax.grid(ls=\":\")\n",
    "\n",
    "axr.set_yticks(axl.get_yticks())\n",
    "axr.set_yticklabels([])\n",
    "axl.set_ylabel(r\"Zenith $\\theta$ in $^\\circ$\")\n",
    "\n",
    "fig.tight_layout()\n",
    "save_fig(fig, \"plots/datasets/unsmoothed_vs_smoothed.pdf\", bbox_inches=\"tight\")\n",
    "plt.show()"
   ]
  },
  {
   "cell_type": "markdown",
   "metadata": {
    "heading_collapsed": true,
    "hidden": true
   },
   "source": [
    "## Show whole map raw smoothed and truncated"
   ]
  },
  {
   "cell_type": "code",
   "execution_count": null,
   "metadata": {
    "hidden": true
   },
   "outputs": [],
   "source": [
    "%%time\n",
    "# Load untruncaed maps\n",
    "files = sorted(glob(\"/Users/tmenne/Downloads/hese_transient_stacking_data/\" +\n",
    "                    \"rawout_original_hese/hese_scan_maps/*.json.gz\"))\n",
    "# Just pick a single map here\n",
    "with gzip.open(files[0]) as fp:\n",
    "    src_dict = json.load(fp)\n",
    "    untruncated = np.array(src_dict[\"map\"])"
   ]
  },
  {
   "cell_type": "code",
   "execution_count": null,
   "metadata": {
    "hidden": true
   },
   "outputs": [],
   "source": [
    "res = (400, 300)\n",
    "\n",
    "untrunc, cx, cy = mplt.render_healpymap(untruncated, npix=res)\n",
    "# Make -log10(PDF), so levels show sigma contours when approx. gaussian like\n",
    "m = (untrunc > 0.)\n",
    "untrunc = np.log10(untrunc)\n",
    "untrunc = np.amax(untrunc) - untrunc\n",
    "\n",
    "# Truncate map at six sigma\n",
    "_, _, idx = tdu.get_pixel_in_sigma_region(pdf_map=untruncated, sigma=6.)\n",
    "truncated = np.zeros_like(untruncated)\n",
    "truncated[idx] = untruncated[idx]\n",
    "# And make a rendered -log10(PDF) version.\n",
    "trunc, cx, cy = mplt.render_healpymap(truncated, npix=res)\n",
    "m = (trunc > 0.)\n",
    "trunc = np.log10(trunc)\n",
    "trunc = np.amax(trunc) - trunc"
   ]
  },
  {
   "cell_type": "code",
   "execution_count": null,
   "metadata": {
    "hidden": true
   },
   "outputs": [],
   "source": [
    "# Untruncated on the left truncated on the right\n",
    "try:\n",
    "    fs = latex_setup.make_figsize(scale=0.9, ratio=2.5)\n",
    "except:\n",
    "    fs = (5.2, 2.)\n",
    "# fig, (axl ,axr) = plt.subplots(1, 2, figsize=fs, sharey=True)\n",
    "fig = plt.figure(figsize=fs)\n",
    "axl =  fig.add_axes([0.1, 0.1, 0.4, 0.9])\n",
    "axr =  fig.add_axes([0.55, 0.1, 0.4, 0.9])\n",
    "axcbar =  fig.add_axes([0.975, 0.1, 0.025, 0.9])\n",
    "\n",
    "mx, my = map(lambda b: np.rad2deg(0.5 * (b[:-1] + b[1:])), [cx, cy])\n",
    "# Convert to equ. with ra from right to left in hours\n",
    "mx = 24. - mx / 360. * 24\n",
    "my = 90. - my\n",
    "xx, yy = np.meshgrid(mx, my)\n",
    "levels = - scs.chi2.logsf(np.arange(0., 7, 1)**2, df=2)\n",
    "\n",
    "axl.contourf(xx, yy, untrunc, levels, cmap=\"Greys_r\", extend=\"max\")\n",
    "img = axr.contourf(xx, yy, trunc, levels, cmap=\"Greys_r\", extend=\"max\")\n",
    "cbar = fig.colorbar(img, cax=axcbar)\n",
    "cbar.set_ticks(levels[::2])\n",
    "cbar.set_label(r\"$-\\log_{10}(\\mathrm{PDF})$\")\n",
    "\n",
    "xticks = np.linspace(0, 24, 7)    # Show as hours from right to left \n",
    "yticks = np.linspace(-90, 90, 7)  # Show as equ. coords. in [-90, +90]\n",
    "xlabels = [r\"${:.0f}$\".format(xi) for xi in xticks][::-1]\n",
    "ylabels = [r\"${:.0f}$\".format(yi) for yi in yticks]\n",
    "for ax in (axl, axr):\n",
    "    ax.set_xticks(xticks)\n",
    "    ax.set_xticklabels(xlabels)\n",
    "    ax.set_xlabel(r\"Right ascension $\\alpha$ in hours\")\n",
    "    ax.set_yticks(yticks)\n",
    "\n",
    "axl.set_yticklabels(ylabels)\n",
    "axr.set_yticklabels([])\n",
    "axl.set_ylabel(r\"Declination $\\delta$ in $^\\circ$\")\n",
    "axr.grid(ls=\":\")\n",
    "\n",
    "plt.tight_layout()\n",
    "save_fig(fig, \"plots/datasets/untruncated_vs_truncated.pdf\", bbox_inches=\"tight\")\n",
    "plt.show()"
   ]
  },
  {
   "cell_type": "markdown",
   "metadata": {
    "heading_collapsed": true,
    "hidden": true
   },
   "source": [
    "## Eff. areas and sindec distribution for true dec"
   ]
  },
  {
   "cell_type": "code",
   "execution_count": null,
   "metadata": {
    "hidden": true
   },
   "outputs": [],
   "source": [
    "mc = loader.mc_loader(\"all\")"
   ]
  },
  {
   "cell_type": "code",
   "execution_count": null,
   "metadata": {
    "hidden": true
   },
   "outputs": [],
   "source": [
    "# sindec setup\n",
    "bins = np.linspace(-1, 1, 100)\n",
    "mids = 0.5 * (bins[:-1] + bins[1:])\n",
    "Hz2mhZ = 1e3\n",
    "gammas = [2.5, 2.19, 2.]\n",
    "fmts = [r\"$E^{{-{:.1f}}}$\", r\"$E^{{-{:.2f}}}$\", r\"$E^{{-{:.0f}}}$\"]\n",
    "labels = [f.format(g) for f, g in zip(fmts, gammas)]\n",
    "cs = [\"0.6\", \"0.3\", \"0.\"]\n",
    "phi0 = 1e-18\n",
    "E0 = 1e5\n",
    "\n",
    "# eff A setup\n",
    "cm2tom2 = 1e4\n",
    "gevtotev = 1e3\n",
    "e_bins = np.logspace(2, 9, 100)  # in GeV\n",
    "x = np.logspace(e_bins[0], e_bins[-1], 500)\n",
    "e_mids = 0.5 * (e_bins[:-1] + e_bins[1:])\n",
    "decs_lo = np.deg2rad([-90, 30, -5, -90])\n",
    "decs_hi = np.deg2rad([ 90, 90, 30,  -5])\n",
    "\n",
    "try:\n",
    "    labsize = latex_setup.latex_settings[\"axes.labelsize\"] - 3\n",
    "    fs = latex_setup.make_figsize(scale=0.95, ratio=0.8)\n",
    "except:\n",
    "    fs = (5, 2.5)\n",
    "\n",
    "# Make eff. area on the left and sindec on the right\n",
    "nrows, ncols = 4, 2\n",
    "fig, axs = plt.subplots(nrows, ncols, figsize=fs)\n",
    "for row, name in enumerate(sorted(mc.keys())):\n",
    "    axl, axr = axs[row, 0], axs[row, 1]\n",
    "    \n",
    "    mc_i = mc[name]\n",
    "    Enu = mc_i[\"trueE\"]    # in GeV\n",
    "    dec = mc_i[\"trueDec\"]  # in rad\n",
    "    ow = mc_i[\"ow\"]\n",
    "\n",
    "    # sindec plot for multiple flux weightings\n",
    "    for i, gamma in enumerate(gammas):  # phi0 * (E/E0)**-gamma\n",
    "        # Rate in mHz\n",
    "        w = Hz2mhZ * phi0 * ow * (mc_i[\"trueE\"] / E0)**-gamma\n",
    "        h, b = np.histogram(np.sin(mc_i[\"trueDec\"]), bins=bins, weights=w,\n",
    "                            density=False)\n",
    "        err, _ = np.histogram(np.sin(mc_i[\"trueDec\"]), bins=bins, weights=w**2,\n",
    "                              density=False)\n",
    "        axr.plot(b, np.r_[h[0], h], drawstyle=\"steps-pre\", c=cs[i], lw=2,\n",
    "                 label=labels[i])\n",
    "        axr.errorbar(\n",
    "            mids, h, yerr=err, fmt=\",\", color=cs[i], zorder=-10, lw=1)\n",
    "\n",
    "    if row == nrows - 1:\n",
    "        axr.set_xlabel(r\"$\\sin(\\delta_\\nu)$\", fontsize=labsize)\n",
    "    axr.set_ylabel(\"Rate per bin in mHz\", fontsize=labsize - 1)\n",
    "    axr.set_yscale(\"log\")\n",
    "    axr.set_xlim(-1, 1)\n",
    "    axr.set_ylim(5e-7, 3e-4)\n",
    "    axr.legend(loc=\"lower right\", prop={\"size\": labsize - 4})\n",
    "    axr.grid(ls=\":\")\n",
    "    \n",
    "    ###########################################################################\n",
    "    # Make eff. area in three decl. regions and full sky\n",
    "    ls = [\"-\", \"-\", \"-\", \"-\"]\n",
    "    cs_effA = [\"#353132\", \"0.3\", \"0.5\", \"0.75\"]\n",
    "    _s = r\"$\\SI{{{:.0f}}}{{\\degree}} \\leq \\delta \\leq \\SI{{{:.0f}}}{{\\degree}}$\"\n",
    "    labels_effA = [_s.format(*np.rad2deg(dec_rng))\n",
    "                   for dec_rng in zip(decs_lo, decs_hi)]\n",
    "    labels_effA[0] = \"All-sky\"\n",
    "\n",
    "    for i, (dec_lo, dec_hi) in enumerate(zip(decs_lo, decs_hi)):\n",
    "        mask = np.logical_and(dec >= dec_lo, dec < dec_hi)\n",
    "        Enu_i, w_i = Enu[mask], ow[mask]\n",
    "        h, _ = np.histogram(Enu_i, bins=e_bins, weights=w_i, normed=False)\n",
    "        solid_angle = 2 * np.pi * (np.sin(dec_hi) - np.sin(dec_lo))\n",
    "        norm = np.diff(e_bins) * solid_angle * cm2tom2\n",
    "        err, _ = np.histogram(Enu_i, bins=e_bins, weights=w_i**2, normed=False)\n",
    "        h = h / norm\n",
    "        err = np.sqrt(err) / norm\n",
    "        \n",
    "        # truncate manually for pgf\n",
    "        ymin = 1e-3\n",
    "        h[h < ymin] = ymin / 10.\n",
    "\n",
    "        axl.plot(e_bins / gevtotev, np.r_[h[0], h], drawstyle=\"steps-pre\",\n",
    "                 c=cs_effA[i], label=labels_effA[i], ls=ls[i])\n",
    "        axl.errorbar(e_mids / gevtotev, h, yerr=err, fmt=\",\",\n",
    "                     color=cs_effA[i], zorder=-10, lw=1)\n",
    "        \n",
    "    axl.set_xscale(\"log\")\n",
    "    axl.set_yscale(\"log\")\n",
    "    axl.set_xlim(e_bins[0] / gevtotev, e_bins[-1] / gevtotev)\n",
    "    axl.set_ylim(ymin, 1e4)\n",
    "    axl.grid(ls=\":\")\n",
    "\n",
    "    if row == nrows - 1:\n",
    "        axl.set_xlabel(r\"$E_\\nu$ in $\\si{\\TeV}$\", fontsize=labsize)\n",
    "    axl.set_ylabel(r\"$A_\\mathrm{eff}^{\\nu_\\mu+\\bar{\\nu}_\\mu}$ in \" +\n",
    "                   r\"$\\si{\\m\\squared}$\", fontsize=labsize)\n",
    "    axl.legend(loc=\"lower left\", prop={\"size\": labsize - 4},\n",
    "               bbox_to_anchor=(0.4, 0.01))\n",
    "    axl.set_title(\"Sample {}\".format(key2label(name)), fontsize=labsize + 1)\n",
    "\n",
    "#     fig.suptitle(\"Sample {}\".format(key2label(name)), y=1)\n",
    "fig.tight_layout()\n",
    "save_fig(plt.gcf(), \"plots/datasets/effA_and_sindec.pdf\".format(name),\n",
    "         bbox_inches=\"tight\")\n",
    "\n",
    "plt.show()"
   ]
  },
  {
   "cell_type": "markdown",
   "metadata": {
    "hidden": true
   },
   "source": [
    "Old side-by.side standalone plots"
   ]
  },
  {
   "cell_type": "code",
   "execution_count": null,
   "metadata": {
    "hidden": true
   },
   "outputs": [],
   "source": [
    "# sindec setup\n",
    "bins = np.linspace(-1, 1, 100)\n",
    "mids = 0.5 * (bins[:-1] + bins[1:])\n",
    "Hz2mhZ = 1e3\n",
    "gammas = [2.5, 2.19, 2.]\n",
    "fmts = [r\"$E^{{-{:.1f}}}$\", r\"$E^{{-{:.2f}}}$\", r\"$E^{{-{:.0f}}}$\"]\n",
    "labels = [f.format(g) for f, g in zip(fmts, gammas)]\n",
    "cs = [\"0.6\", \"0.3\", \"0.\"]\n",
    "phi0 = 1e-18\n",
    "E0 = 1e5\n",
    "\n",
    "# eff A setup\n",
    "cm2tom2 = 1e4\n",
    "gevtotev = 1e3\n",
    "e_bins = np.logspace(2, 9, 100)  # in GeV\n",
    "x = np.logspace(e_bins[0], e_bins[-1], 500)\n",
    "e_mids = 0.5 * (e_bins[:-1] + e_bins[1:])\n",
    "decs_lo = np.deg2rad([-90, 30, -5, -90])\n",
    "decs_hi = np.deg2rad([ 90, 90, 30,  -5])\n",
    "\n",
    "try:\n",
    "    fs = latex_setup.make_figsize(ratio=2.5)\n",
    "except:\n",
    "    fs = (5, 2.5)\n",
    "\n",
    "# Make eff. area on the left and sindec on the right\n",
    "for name in mc.keys()[:]:\n",
    "    fig, (axl, axr) = plt.subplots(1, 2, figsize=fs)\n",
    "    mc_i = mc[name]\n",
    "    Enu = mc_i[\"trueE\"]    # in GeV\n",
    "    dec = mc_i[\"trueDec\"]  # in rad\n",
    "    ow = mc_i[\"ow\"]\n",
    "\n",
    "    # sindec plot for multiple flux weightings\n",
    "    for i, gamma in enumerate(gammas):  # phi0 * (E/E0)**-gamma\n",
    "        # Rate in mHz\n",
    "        w = Hz2mhZ * phi0 * ow * (mc_i[\"trueE\"] / E0)**-gamma\n",
    "        h, b = np.histogram(np.sin(mc_i[\"trueDec\"]), bins=bins, weights=w,\n",
    "                            density=False)\n",
    "        err, _ = np.histogram(np.sin(mc_i[\"trueDec\"]), bins=bins, weights=w**2,\n",
    "                              density=False)\n",
    "        axr.plot(b, np.r_[h[0], h], drawstyle=\"steps-pre\", c=cs[i], lw=2,\n",
    "                 label=labels[i])\n",
    "        axr.errorbar(\n",
    "            mids, h, yerr=err, fmt=\",\", color=cs[i], zorder=-10, lw=1)\n",
    "\n",
    "    axr.set_xlabel(r\"$\\sin(\\delta_\\nu)$\",\n",
    "                   fontsize=latex_setup.latex_settings[\"axes.labelsize\"] - 2)\n",
    "    axr.set_ylabel(\"Rate per bin in mHz\",\n",
    "                   fontsize=latex_setup.latex_settings[\"axes.labelsize\"] - 2)\n",
    "    axr.set_yscale(\"log\")\n",
    "    axr.set_xlim(-1, 1)\n",
    "    axr.set_ylim(5e-7, 3e-4)\n",
    "    axr.legend(loc=\"lower right\",\n",
    "               prop={\"size\": latex_setup.latex_settings[\"legend.fontsize\"] - 3})\n",
    "    \n",
    "    ###########################################################################\n",
    "\n",
    "    # Make eff. area in three decl. regions and full sky\n",
    "    ls = [\"-\", \"-\", \"-\", \"-\"]\n",
    "    cs_effA = [\"#353132\", \"0.3\", \"0.5\", \"0.75\"]\n",
    "    _s = r\"$\\SI{{{:.0f}}}{{\\degree}} \\leq \\delta \\leq \\SI{{{:.0f}}}{{\\degree}}$\"\n",
    "    labels_effA = [_s.format(*np.rad2deg(dec_rng))\n",
    "                   for dec_rng in zip(decs_lo, decs_hi)]\n",
    "    labels_effA[0] = \"All-sky\"\n",
    "\n",
    "    for i, (dec_lo, dec_hi) in enumerate(zip(decs_lo, decs_hi)):\n",
    "        mask = np.logical_and(dec >= dec_lo, dec < dec_hi)\n",
    "        Enu_i, w_i = Enu[mask], ow[mask]\n",
    "        h, _ = np.histogram(Enu_i, bins=e_bins, weights=w_i, normed=False)\n",
    "        solid_angle = 2 * np.pi * (np.sin(dec_hi) - np.sin(dec_lo))\n",
    "        norm = np.diff(e_bins) * solid_angle * cm2tom2\n",
    "        err, _ = np.histogram(Enu_i, bins=e_bins, weights=w_i**2, normed=False)\n",
    "        h = h / norm\n",
    "        err = np.sqrt(err) / norm\n",
    "        \n",
    "        # truncate manually for pgf\n",
    "        ymin = 1e-3\n",
    "        h[h < ymin] = ymin / 10.\n",
    "\n",
    "        axl.plot(e_bins / gevtotev, np.r_[h[0], h], drawstyle=\"steps-pre\",\n",
    "                 c=cs_effA[i], label=labels_effA[i], ls=ls[i])\n",
    "        axl.errorbar(e_mids / gevtotev, h, yerr=err, fmt=\",\",\n",
    "                     color=cs_effA[i], zorder=-10, lw=1)\n",
    "        \n",
    "    axl.set_xscale(\"log\")\n",
    "    axl.set_yscale(\"log\")\n",
    "    axl.set_xlim(e_bins[0] / gevtotev, e_bins[-1] / gevtotev)\n",
    "    axl.set_ylim(ymin, 1e4)\n",
    "    axl.grid()\n",
    "\n",
    "    axl.set_xlabel(r\"$E_\\nu$ in $\\si{\\TeV}$\",\n",
    "                   fontsize=latex_setup.latex_settings[\"axes.labelsize\"] - 2)\n",
    "    axl.set_ylabel(r\"$A_\\mathrm{eff}^{\\nu_\\mu+\\bar{\\nu}_\\mu}$ in \" +\n",
    "                   r\"$\\si{\\m\\squared}$\",\n",
    "                   fontsize=latex_setup.latex_settings[\"axes.labelsize\"] - 2)\n",
    "    axl.legend(prop={\"size\": latex_setup.latex_settings[\"legend.fontsize\"] - 3})\n",
    "\n",
    "    fig.suptitle(\"Sample {}\".format(key2label(name)), y=1)\n",
    "    fig.tight_layout()\n",
    "    save_fig(plt.gcf(), \"plots/datasets/effA_and_sindec_{}.pdf\".format(name),\n",
    "             bbox_inches=\"tight\")\n",
    "    \n",
    "    plt.show()"
   ]
  },
  {
   "cell_type": "markdown",
   "metadata": {
    "hidden": true
   },
   "source": [
    "Previous standalone plots"
   ]
  },
  {
   "cell_type": "code",
   "execution_count": null,
   "metadata": {
    "hidden": true
   },
   "outputs": [],
   "source": [
    "bins = np.linspace(-1, 1, 100)\n",
    "mids = 0.5 * (bins[:-1] + bins[1:])\n",
    "Hz2mhZ = 1e3\n",
    "gammas = [2.5, 2.19, 2.]\n",
    "fmts = [r\"$E^{{-{:.1f}}}$\", r\"$E^{{-{:.2f}}}$\", r\"$E^{{-{:.0f}}}$\"]\n",
    "labels = [f.format(g) for f, g in zip(fmts, gammas)]\n",
    "cs = [\"0.6\", \"0.3\", \"0.\"]\n",
    "phi0 = 1e-18\n",
    "E0 = 1e5\n",
    "\n",
    "# Make eff. area on the left and sindec on the right\n",
    "for name in mc.keys():\n",
    "    mc_i = mc[name]\n",
    "    for i, gamma in enumerate(gammas):  # phi0 * (E/E0)**-gamma\n",
    "        # Rate in mHz\n",
    "        w = Hz2mhZ * phi0 * mc_i[\"ow\"] * (mc_i[\"trueE\"] / E0)**-gamma\n",
    "        h, b = np.histogram(np.sin(mc_i[\"trueDec\"]), bins=bins, weights=w,\n",
    "                            density=False)\n",
    "        err, _ = np.histogram(np.sin(mc_i[\"trueDec\"]), bins=bins, weights=w**2,\n",
    "                              density=False)\n",
    "        plt.plot(b, np.r_[h[0], h], drawstyle=\"steps-pre\", c=cs[i], lw=2,\n",
    "                 label=labels[i])\n",
    "        plt.errorbar(\n",
    "            mids, h, yerr=err, fmt=\",\", color=cs[i], zorder=-10, lw=1)\n",
    "\n",
    "    plt.xlabel(r\"$\\sin(\\delta_\\nu)$\")\n",
    "    plt.ylabel(\"Rate per bin in mHz\")\n",
    "    plt.title(\"Sample {}\".format(key2label(name)))\n",
    "\n",
    "    plt.yscale(\"log\")\n",
    "    plt.xlim(-1, 1)\n",
    "    plt.ylim(5e-7, 3e-4)\n",
    "    plt.legend(loc=\"upper left\")\n",
    "    \n",
    "    save_fig(plt.gcf(), \"plots/datasets/true_sindec_{}.pdf\".format(name),\n",
    "             bbox_inches=\"tight\")\n",
    "    \n",
    "    plt.show()"
   ]
  },
  {
   "cell_type": "code",
   "execution_count": null,
   "metadata": {
    "hidden": true
   },
   "outputs": [],
   "source": [
    "cm2tom2 = 1e4\n",
    "gevtotev = 1e3\n",
    "\n",
    "e_bins = np.logspace(2, 9, 100)  # in GeV\n",
    "x = np.logspace(e_bins[0], e_bins[-1], 500)\n",
    "e_mids = 0.5 * (e_bins[:-1] + e_bins[1:])\n",
    "decs_lo = np.deg2rad([-90, 30, -5, -90])\n",
    "decs_hi = np.deg2rad([ 90, 90, 30,  -5])\n",
    "\n",
    "for name, mc_i in mc.items():\n",
    "    mc_i = mc[name]\n",
    "    Enu = mc_i[\"trueE\"]    # in GeV\n",
    "    dec = mc_i[\"trueDec\"]  # in rad\n",
    "    w = mc_i[\"ow\"]\n",
    "\n",
    "    # Make eff. area in three decl. regions and full sky\n",
    "    ls = [\"-\", \"-\", \"-\", \"-\"]\n",
    "    cs = [\"#353132\", \"0.3\", \"0.5\", \"0.75\"]\n",
    "    _s = r\"$\\SI{{{:.0f}}}{{\\degree}} \\leq \\delta \\leq \\SI{{{:.0f}}}{{\\degree}}$\"\n",
    "    labels = [_s.format(*np.rad2deg(dec_rng))\n",
    "              for dec_rng in zip(decs_lo, decs_hi)]\n",
    "    labels[0] = \"All-sky\"\n",
    "\n",
    "    for i, (dec_lo, dec_hi) in enumerate(zip(decs_lo, decs_hi)):\n",
    "        mask = np.logical_and(dec >= dec_lo, dec < dec_hi)\n",
    "        Enu_i, w_i = Enu[mask], w[mask]\n",
    "        h, _ = np.histogram(Enu_i, bins=e_bins, weights=w_i, normed=False)\n",
    "        solid_angle = 2 * np.pi * (np.sin(dec_hi) - np.sin(dec_lo))\n",
    "        norm = np.diff(e_bins) * solid_angle * cm2tom2\n",
    "        err, _ = np.histogram(Enu_i, bins=e_bins, weights=w_i**2, normed=False)\n",
    "        h = h / norm\n",
    "        err = np.sqrt(err) / norm\n",
    "        \n",
    "        # truncate manually for pgf\n",
    "        ymin = 1e-3\n",
    "        h[h < ymin] = ymin / 10.\n",
    "\n",
    "        plt.plot(e_bins / gevtotev, np.r_[h[0], h], drawstyle=\"steps-pre\",\n",
    "                 c=cs[i], label=labels[i], ls=ls[i])\n",
    "        plt.errorbar(e_mids / gevtotev, h, yerr=err, fmt=\",\",\n",
    "                     color=cs[i], zorder=-10, lw=1)\n",
    "        \n",
    "    plt.xscale(\"log\")\n",
    "    plt.yscale(\"log\")\n",
    "    plt.xlim(e_bins[0] / gevtotev, e_bins[-1] / gevtotev)\n",
    "    plt.ylim(ymin, 1e4)\n",
    "    plt.grid()\n",
    "\n",
    "    plt.xlabel(r\"True neutrino energy $E_\\nu$ in $\\si{\\TeV}$\")\n",
    "    plt.ylabel(r\"Eff. area $A_\\mathrm{eff}^{\\nu_\\mu+\\bar{\\nu}_\\mu}$ in \" +\n",
    "               r\"$\\si{\\m\\squared}$\")\n",
    "    plt.title(\"Sample {}\".format(key2label(name)))\n",
    "    plt.legend()\n",
    "\n",
    "    save_fig(plt.gcf(), \"plots/datasets/eff_area_{}.pdf\".format(name),\n",
    "             bbox_inches=\"tight\")\n",
    "    \n",
    "    plt.show()"
   ]
  },
  {
   "cell_type": "markdown",
   "metadata": {},
   "source": [
    "# Chapter: Time Independent Analysis"
   ]
  },
  {
   "cell_type": "markdown",
   "metadata": {},
   "source": [
    "Load saved ana objects from the analysis_plots.ipynb for fast loading."
   ]
  },
  {
   "cell_type": "code",
   "execution_count": null,
   "metadata": {},
   "outputs": [],
   "source": [
    "with open(\"/Users/tmenne/Downloads/multi_bg_inj.pickle\", \"r\") as fp:\n",
    "    multi_bg_inj = dill.load(fp)\n",
    "    \n",
    "with open(\"/Users/tmenne/Downloads/multi_sig_inj.pickle\", \"r\") as fp:\n",
    "    multi_sig_inj = dill.load(fp)\n",
    "    \n",
    "with open(\"/Users/tmenne/Downloads/multi_llh.pickle\", \"r\") as fp:\n",
    "    multi_llh = dill.load(fp)\n",
    "    \n",
    "with open(\"/Users/tmenne/Downloads/ana.pickle\", \"r\") as fp:\n",
    "    ana = dill.load(fp)"
   ]
  },
  {
   "cell_type": "markdown",
   "metadata": {
    "heading_collapsed": true
   },
   "source": [
    "## Rate plots"
   ]
  },
  {
   "cell_type": "code",
   "execution_count": null,
   "metadata": {
    "hidden": true
   },
   "outputs": [],
   "source": [
    "dt0, dt1 = loader.time_window_loader(-1)\n",
    "src_dicts = loader.source_list_loader(\"all\")\n",
    "exp_off_dict = loader.off_data_loader(\"all\")\n",
    "runlist_dict = loader.runlist_loader(\"all\")\n",
    "rate_recs_dict = {}\n",
    "srcs_recs_dict = {}\n",
    "for key, rl in runlist_dict.items():\n",
    "    rate_recs_dict[key] = tdu.make_rate_records(\n",
    "        ev_runids=exp_off_dict[key][\"Run\"], run_list=rl)\n",
    "    srcs_recs_dict[key] = tdu.make_src_records(src_dicts[key], dt0=dt0, dt1=dt1)"
   ]
  },
  {
   "cell_type": "code",
   "execution_count": null,
   "metadata": {
    "hidden": true,
    "scrolled": true
   },
   "outputs": [],
   "source": [
    "# Plot rates and sources for each sample\n",
    "_Hz2mHz = 1e3\n",
    "max_y = _Hz2mHz * 0.01\n",
    "try:\n",
    "    fs = latex_setup.make_figsize(ratio=2.)\n",
    "except:\n",
    "    fs = (5, 2.5)\n",
    "fig, ax = plt.subplots(1, 1, figsize=fs)\n",
    "    \n",
    "for i, key in enumerate(sorted(exp_off_dict.keys())):\n",
    "    # Get the sine model\n",
    "    bginj = multi_bg_inj.injs[key]\n",
    "    rf = bginj._spl_info[\"allsky_rate_func\"]\n",
    "    pars = bginj._spl_info[\"allsky_best_params\"]\n",
    "    \n",
    "    mids = 0.5 * (rate_recs_dict[key][\"start_mjd\"] +\n",
    "                  rate_recs_dict[key][\"stop_mjd\"])\n",
    "\n",
    "    min_x = np.amin(rate_recs_dict[key][\"start_mjd\"])\n",
    "    max_x = np.amax(rate_recs_dict[key][\"stop_mjd\"])\n",
    "    \n",
    "    t = np.linspace(min_x, max_x, 500)\n",
    "    rf_vals = rf.fun(t, pars) * _Hz2mHz\n",
    "      \n",
    "    ax.errorbar(mids, _Hz2mHz * rate_recs_dict[key][\"rate\"],\n",
    "                yerr=_Hz2mHz * rate_recs_dict[key][\"rate_std\"],\n",
    "                fmt=\",\", color=\"C7\", alpha=0.15, zorder=-10)   \n",
    "    ax.plot(t, rf_vals, c=\"#353132\")\n",
    "        \n",
    "    ax.vlines(srcs_recs_dict[key][\"time\"], 0, 1, colors=\"#353132\",\n",
    "               linestyles=\"-\", label=key, lw=1)\n",
    "    if i > 0:\n",
    "        ax.axvline(np.amin(rate_recs_dict[key][\"start_mjd\"]),\n",
    "                   c=\"#353132\", ls=\"-.\")\n",
    "    \n",
    "    ax.text(0.5 * (min_x + max_x), max_y + 0.05,\n",
    "            key2label(key) + r\"\\phantom{,}\",\n",
    "            fontsize=latex_setup.latex_settings[\"axes.labelsize\"] - 2,\n",
    "            ha=\"center\", va=\"bottom\", color=\"#353132\")\n",
    "    \n",
    "ax.set_xlim(np.amin(rate_recs_dict[\"IC79\"][\"start_mjd\"]),\n",
    "            np.amax(rate_recs_dict[\"IC86_2015\"][\"stop_mjd\"]))\n",
    "ax.set_ylim(0, max_y)\n",
    "ax.set_xlabel(\"Time in MJD days\")\n",
    "ax.set_ylabel(\"Rate in mHz\")\n",
    "\n",
    "save_fig(plt.gcf(), \"plots/time_dep/rates_all.pdf\", bbox_inches=\"tight\")\n",
    "plt.show()"
   ]
  },
  {
   "cell_type": "markdown",
   "metadata": {
    "heading_collapsed": true
   },
   "source": [
    "## Rate plots per bin"
   ]
  },
  {
   "cell_type": "code",
   "execution_count": null,
   "metadata": {
    "hidden": true
   },
   "outputs": [],
   "source": [
    "dt0, dt1 = loader.time_window_loader(-1)\n",
    "src_dicts = loader.source_list_loader(\"all\")\n",
    "exp_off_dict = loader.off_data_loader(\"all\")\n",
    "runlist_dict = loader.runlist_loader(\"all\")\n",
    "rate_recs_dict = {}\n",
    "srcs_recs_dict = {}\n",
    "for key, rl in runlist_dict.items():\n",
    "    rate_recs_dict[key] = tdu.make_rate_records(\n",
    "        ev_runids=exp_off_dict[key][\"Run\"], run_list=rl)\n",
    "    srcs_recs_dict[key] = tdu.make_src_records(src_dicts[key], dt0=dt0, dt1=dt1)"
   ]
  },
  {
   "cell_type": "code",
   "execution_count": null,
   "metadata": {
    "hidden": true,
    "scrolled": false
   },
   "outputs": [],
   "source": [
    "MAX_RECS = 200  # Constrain no. of points drawn to be able to plot it wiht tex\n",
    "alpha = 0.75\n",
    "Hz2mHz = 1e3\n",
    "try:\n",
    "    # Almost full page ratio\n",
    "    fs = latex_setup.make_figsize(scale=0.95, ratio=1.)\n",
    "    legfntsize = latex_setup.latex_settings[\"legend.fontsize\"] - 3\n",
    "    labfntsize = latex_setup.latex_settings[\"axes.labelsize\"] - 3\n",
    "except:\n",
    "    fs = (5, 7.15)\n",
    "\n",
    "for key, bg_inj in sorted(multi_bg_inj._injs.items())[:]:\n",
    "    print(\"Making plots for sample: '{}'\".format(key))\n",
    "    runids = exp_off_dict[key][\"Run\"]\n",
    "    sindec = np.sin(exp_off_dict[key][\"dec\"])\n",
    "    bg_inj_opts = bg_inj.inj_opts\n",
    "    sd_bins = bg_inj_opts[\"sindec_bins\"]\n",
    "    rate_fun = bg_inj._spl_info[\"allsky_rate_func\"]\n",
    "\n",
    "    # Make a plot grid\n",
    "    nplots, nrows, ncols = 20, 5, 4\n",
    "    assert ncols * nrows == nplots\n",
    "    assert nplots == len(sd_bins) - 1\n",
    "    fig, ax = plt.subplots(nrows=nrows, ncols=ncols, figsize=fs,\n",
    "                           sharex=True, sharey=True)\n",
    "    \n",
    "    for i, (lo, hi) in enumerate(zip(sd_bins[:-1], sd_bins[1:])):\n",
    "        mask = (sindec >= lo) & (sindec < hi)\n",
    "        recs = tdu.make_rate_records(run_list=runlist_dict[key],\n",
    "                                     ev_runids=runids[mask])\n",
    "        rebin = tdu.rebin_rate_rec(\n",
    "            rate_rec=recs, bins=bg_inj_opts[\"rate_rebins\"],\n",
    "            ignore_zero_runs=True)\n",
    "        rates, bins, rate_std, _ = rebin\n",
    "        \n",
    "        mids = 0.5 * (recs[\"start_mjd\"] + recs[\"stop_mjd\"])\n",
    "        xmin, xmax = np.amin(recs[\"start_mjd\"]), np.amax(recs[\"stop_mjd\"])\n",
    "        diff = recs[\"stop_mjd\"] - recs[\"start_mjd\"]\n",
    "        t = np.linspace(bins[0], bins[-1], 200)\n",
    "        \n",
    "        amp, base = bg_inj._spl_info[\"best_pars\"][i]\n",
    "        pars = (amp, bg_inj._spl_info[\"allsky_best_params\"][1], base)\n",
    "        lab = r\"${:.2f} \\leq \\sin(\\delta) < {:.2f}$\".format(lo, hi)\n",
    "        \n",
    "        # Plot it\n",
    "        CONSTR = len(recs) // MAX_RECS\n",
    "        sli = slice(0, -1, CONSTR)\n",
    "        print(\"Only plotting every {} element\".format(CONSTR))\n",
    "        row, col = idx2rowcol(i, ncols=ncols)\n",
    "        ax_ = ax[row, col]\n",
    "        \n",
    "        ax_.errorbar(mids[sli], recs[\"rate\"][sli] * Hz2mHz,\n",
    "                     xerr=diff[sli], yerr=recs[\"rate_std\"][sli] * Hz2mHz,\n",
    "                     fmt=\",\", color=\"0.6\", alpha=alpha, label=lab, zorder=1)\n",
    "        ax_.plot(\n",
    "            bins, np.r_[rates[0], rates] * Hz2mHz,\n",
    "            drawstyle=\"steps-pre\", color=\"w\", lw=2)\n",
    "        ax_.plot(t, rate_fun.fun(t, pars) * Hz2mHz, color=\"#353132\", lw=1)\n",
    "\n",
    "        ax_.set_ylim(0, 1.)\n",
    "        ax_.set_xlim(xmin, xmax)\n",
    "        if col == 0:\n",
    "            ax_.set_ylabel(\"Rate in mHz\", fontsize=labfntsize)\n",
    "        if row == nrows - 1:\n",
    "            ax_.set_xlabel(\"MJD\", fontsize=labfntsize)\n",
    "        ax_.text(x=.5, y=1.025, s=lab, transform=ax_.transAxes,\n",
    "                 va=\"bottom\", ha=\"center\", fontsize=legfntsize)\n",
    "#         ax_.text(x=1.025, y=0.5, s=lab, transform=ax_.transAxes,\n",
    "#                  rotation=90, va=\"center\", ha=\"left\",\n",
    "#                  fontsize=legfntsize)\n",
    "    fig.tight_layout()\n",
    "    save_fig(fig, \"plots/time_dep/rates_per_bin_{}.pdf\".format(key),\n",
    "             bbox_inhces=\"tight\")\n",
    "    plt.show()"
   ]
  },
  {
   "cell_type": "markdown",
   "metadata": {
    "heading_collapsed": true
   },
   "source": [
    "## BG PDF sine param splines"
   ]
  },
  {
   "cell_type": "code",
   "execution_count": null,
   "metadata": {
    "hidden": true
   },
   "outputs": [],
   "source": [
    "x = np.linspace(-1, 1, 100)\n",
    "Hz2mHz = 1e3\n",
    "lbfntsize = latex_setup.latex_settings[\"axes.labelsize\"] - 4\n",
    "\n",
    "try:\n",
    "    fs = latex_setup.make_figsize(scale=0.95, ratio=0.8)  # Ful page\n",
    "except:\n",
    "    fs = (5, 2.)\n",
    "    \n",
    "ylabels = {\n",
    "    \"amp\": r\"Amplitude in \\si{\\milli\\Hz}\",\n",
    "    \"base\": r\"Baseline in \\si{\\milli\\Hz}\",\n",
    "}\n",
    "\n",
    "nrows, ncols = 4, 2\n",
    "fig, axs = plt.subplots(nrows, ncols, figsize=fs)\n",
    "\n",
    "for row, (key, bg_inj) in enumerate(sorted(multi_bg_inj.injs.items())):\n",
    "#     fig, (axl, axr) = plt.subplots(1, 2, figsize=fs)\n",
    "    axl, axr = axs[row, 0], axs[row, 1]\n",
    "    \n",
    "    print(\"Plotting for sample '{}'\".format(key))\n",
    "    bg_inj_opts = bg_inj.inj_opts\n",
    "    bins = bg_inj_opts[\"sindec_bins\"]\n",
    "    mids = 0.5 * (bins[:-1] + bins[1:])\n",
    "    print(\"Allsky best params: \" + arr2str(\n",
    "        bg_inj._spl_info[\"allsky_best_params\"]))\n",
    "   \n",
    "    for n, ax in zip([\"amp\", \"base\"], (axl, axr)):\n",
    "        spl = bg_inj._spl_info[\"param_splines\"][n]\n",
    "        vals = np.copy(bg_inj._spl_info[\"best_pars_norm\"][n])\n",
    "        err = np.copy(bg_inj._spl_info[\"best_stddevs_norm\"][n])\n",
    "\n",
    "        ax.plot(x, spl(x) * Hz2mHz, color=\"#353132\", label=key2label(key))\n",
    "        ax.errorbar(mids, vals * Hz2mHz, yerr=err * Hz2mHz,\n",
    "                    xerr=np.diff(bins) / 2., lw=1.,\n",
    "                    fmt=\",\", color=\"0.5\", zorder=10)\n",
    "\n",
    "        if n == \"amp\":\n",
    "            ax.axhline(0, 0, 1, color=\"#353132\", ls=\"-\", lw=1)\n",
    "            ax.set_ylim(-0.5, 0.1)\n",
    "        else:\n",
    "            ax.set_ylim(0, 6)\n",
    "            \n",
    "        ax.grid(ls=\":\")\n",
    "        ax.set_axisbelow(True)\n",
    "        if row == nrows - 1:\n",
    "            ax.set_xlabel(r\"$\\sin(\\delta)$\", fontsize=lbfntsize)\n",
    "        ax.set_ylabel(ylabels[n], fontsize=lbfntsize)\n",
    "        ylim = ax.set_xlim(-1, 1)\n",
    "    if row == nrows - 1:\n",
    "        axr.legend(loc=\"lower center\"\"\", prop={\"size\": lbfntsize})\n",
    "    else:\n",
    "        axr.legend(loc=\"upper center\"\"\", prop={\"size\": lbfntsize})\n",
    "\n",
    "fig.tight_layout()\n",
    "save_fig(fig, \"plots/time_dep/sine_param_splines.pdf\",\n",
    "         bbox_inches=\"tight\")\n",
    "plt.show()"
   ]
  },
  {
   "cell_type": "markdown",
   "metadata": {
    "hidden": true
   },
   "source": [
    "Old, single standalone plots"
   ]
  },
  {
   "cell_type": "code",
   "execution_count": null,
   "metadata": {
    "hidden": true
   },
   "outputs": [],
   "source": [
    "x = np.linspace(-1, 1, 100)\n",
    "Hz2mHz = 1e3\n",
    "lbfntsize = latex_setup.latex_settings[\"axes.labelsize\"] - 2\n",
    "\n",
    "try:\n",
    "    fs = latex_setup.make_figsize(ratio=2.5)\n",
    "except:\n",
    "    fs = (5, 2.)\n",
    "    \n",
    "ylabels = {\n",
    "    \"amp\": r\"Amplitude in \\si{\\milli\\Hz}\",\n",
    "    \"base\": r\"Baseline in \\si{\\milli\\Hz}\",\n",
    "}\n",
    "\n",
    "for key, bg_inj in sorted(multi_bg_inj.injs.items())[:]:\n",
    "    fig, (axl, axr) = plt.subplots(1, 2, figsize=fs)\n",
    "    \n",
    "    print(\"Plotting for sample '{}'\".format(key))\n",
    "    bg_inj_opts = bg_inj.inj_opts\n",
    "    bins = bg_inj_opts[\"sindec_bins\"]\n",
    "    mids = 0.5 * (bins[:-1] + bins[1:])\n",
    "    print(\"Allsky best params: \" + arr2str(\n",
    "        bg_inj._spl_info[\"allsky_best_params\"]))\n",
    "   \n",
    "    for n, ax in zip([\"amp\", \"base\"], (axl, axr)):\n",
    "        spl = bg_inj._spl_info[\"param_splines\"][n]\n",
    "        vals = np.copy(bg_inj._spl_info[\"best_pars_norm\"][n])\n",
    "        err = np.copy(bg_inj._spl_info[\"best_stddevs_norm\"][n])\n",
    "\n",
    "        ax.plot(x, spl(x) * Hz2mHz, color=\"#353132\")\n",
    "        ax.errorbar(mids, vals * Hz2mHz, yerr=err * Hz2mHz,\n",
    "                    xerr=np.diff(bins) / 2., lw=1.,\n",
    "                    fmt=\",\", color=\"0.3\", zorder=1)\n",
    "\n",
    "        if n == \"amp\":\n",
    "            ax.axhline(0, 0, 1, color=\"#353132\", ls=\"-\")\n",
    "            ax.set_ylim(-0.5, 0.1)\n",
    "        else:\n",
    "            ax.set_ylim(0, 6)\n",
    "            \n",
    "        ax.grid()\n",
    "        ax.set_axisbelow(True)\n",
    "        ax.set_xlabel(r\"$\\sin(\\delta)$\", fontsize=lbfntsize)\n",
    "        ax.set_ylabel(ylabels[n], fontsize=lbfntsize)\n",
    "        ylim = ax.set_xlim(-1, 1)\n",
    "\n",
    "    fig.tight_layout()\n",
    "    save_fig(fig, \"plots/time_dep/sine_param_splines_{}.pdf\".format(key),\n",
    "             bbox_inches=\"tight\")\n",
    "    plt.show()"
   ]
  },
  {
   "cell_type": "markdown",
   "metadata": {
    "heading_collapsed": true
   },
   "source": [
    "## 2D energy PDF per sample"
   ]
  },
  {
   "cell_type": "code",
   "execution_count": null,
   "metadata": {
    "hidden": true
   },
   "outputs": [],
   "source": [
    "try:\n",
    "    lbfntsize = latex_setup.latex_settings[\"axes.labelsize\"] - 3\n",
    "    fs = latex_setup.make_figsize(scale=0.9)\n",
    "except:\n",
    "    fs = (5, 2.)\n",
    "    \n",
    "nrows, ncols = 2, 2\n",
    "fig, axs = plt.subplots(nrows, ncols, figsize=fs, sharex=True, sharey=True)\n",
    "\n",
    "for i, (key, grb_mod_i) in enumerate(multi_llh.model.items()):\n",
    "#     fig, ax = plt.subplots(1, 1, figsize=fs)\n",
    "    row, col = idx2rowcol(idx=i, ncols=ncols)\n",
    "    ax = axs[row, col]\n",
    "    # Scan the PDF\n",
    "    xbins = grb_mod_i.energy_opts[\"bins\"][0]\n",
    "    ybins = grb_mod_i.energy_opts[\"bins\"][1]\n",
    "    \n",
    "    xlo, xhi = np.amin(xbins), np.amax(xbins)\n",
    "    ylo, yhi = np.amin(ybins), np.amax(ybins)\n",
    "\n",
    "    x = np.linspace(xlo, xhi, 400)\n",
    "    y = np.linspace(ylo, yhi, 400)\n",
    "    xx, yy = np.meshgrid(x, y)\n",
    "\n",
    "    xmids, ymids = map(lambda b: 0.5 * (b[:-1] + b[1:]), [x, y])\n",
    "    XX, YY = map(np.ravel, np.meshgrid(xmids, ymids))\n",
    "    pts = np.vstack((XX, YY)).T\n",
    "\n",
    "    zz = grb_mod_i._soverb_energy(XX, YY)\n",
    "    zz = zz.reshape(len(xmids), len(ymids))\n",
    "\n",
    "    # Contour level plot\n",
    "    levels = np.linspace(-3, 3, 7)\n",
    "    img = ax.contourf(\n",
    "        xmids, ymids, np.log10(zz), levels, extend=\"both\", cmap=\"Greys\")\n",
    "    cb = fig.colorbar(img, ax=ax)\n",
    "    if col == ncols - 1:\n",
    "        cb.set_label(r\"$\\log_{10}\\left( S^E / B^E \\right)$\", fontsize=lbfntsize)\n",
    "\n",
    "    ax.set_xlim(-1, 1)\n",
    "    ax.set_ylim(2, 9)\n",
    "    ax.set_title(key2label(key), fontsize=lbfntsize + 1)\n",
    "    if row == nrows - 1:\n",
    "        ax.set_xlabel(r\"$\\sin(\\delta)$\", fontsize=lbfntsize)\n",
    "    if col == 0:\n",
    "        ax.set_ylabel(r\"$\\log_{10}(E_\\mathrm{proxy})$\", fontsize=lbfntsize)\n",
    "\n",
    "fig.tight_layout(w_pad=0.25, h_pad=0.15)\n",
    "save_fig(fig, \"plots/time_dep/energy_pdfs.pdf\", bbox_inches=\"tight\")\n",
    "plt.show()"
   ]
  },
  {
   "cell_type": "markdown",
   "metadata": {
    "hidden": true
   },
   "source": [
    "Old standalone plots"
   ]
  },
  {
   "cell_type": "code",
   "execution_count": null,
   "metadata": {
    "hidden": true
   },
   "outputs": [],
   "source": [
    "try:\n",
    "    fs = latex_setup.make_figsize()\n",
    "except:\n",
    "    fs = (5., 2.)\n",
    "\n",
    "for key, grb_mod_i in multi_llh.model.items()[:]:\n",
    "    fig, ax = plt.subplots(1, 1, figsize=fs)\n",
    "    # Scan the PDF\n",
    "    xbins = grb_mod_i.energy_opts[\"bins\"][0]\n",
    "    ybins = grb_mod_i.energy_opts[\"bins\"][1]\n",
    "    \n",
    "    xlo, xhi = np.amin(xbins), np.amax(xbins)\n",
    "    ylo, yhi = np.amin(ybins), np.amax(ybins)\n",
    "\n",
    "    x = np.linspace(xlo, xhi, 400)\n",
    "    y = np.linspace(ylo, yhi, 400)\n",
    "    xx, yy = np.meshgrid(x, y)\n",
    "\n",
    "    xmids, ymids = map(lambda b: 0.5 * (b[:-1] + b[1:]), [x, y])\n",
    "    XX, YY = map(np.ravel, np.meshgrid(xmids, ymids))\n",
    "    pts = np.vstack((XX, YY)).T\n",
    "\n",
    "    zz = grb_mod_i._soverb_energy(XX, YY)\n",
    "    zz = zz.reshape(len(xmids), len(ymids))\n",
    "\n",
    "    # Contour level plot\n",
    "    levels = np.linspace(-3, 3, 7)\n",
    "    img = ax.contourf(\n",
    "        xmids, ymids, np.log10(zz), levels, extend=\"both\", cmap=\"Greys\")\n",
    "    cb = fig.colorbar(img, ax=ax)\n",
    "    cb.set_label(r\"$\\log_{10}(S^E / B^E)$\")\n",
    "\n",
    "    ax.set_xlim(-1, 1)\n",
    "    ax.set_ylim(2, 9)\n",
    "    ax.set_xlabel(r\"$\\sin(\\delta)$\")\n",
    "    ax.set_ylabel(r\"$\\log_{10}(E_\\mathrm{proxy})$\")\n",
    "\n",
    "    fig.tight_layout()\n",
    "    save_fig(fig, \"plots/time_dep/energy_pdf_{}.pdf\".format(key),\n",
    "             bbox_inches=\"tight\")\n",
    "    plt.show()"
   ]
  },
  {
   "cell_type": "markdown",
   "metadata": {
    "heading_collapsed": true
   },
   "source": [
    "## BG PDF per sample"
   ]
  },
  {
   "cell_type": "markdown",
   "metadata": {
    "hidden": true
   },
   "source": [
    "Simply plot all PDFs per sample above each other to give an idea of the fluctuations"
   ]
  },
  {
   "cell_type": "code",
   "execution_count": null,
   "metadata": {
    "hidden": true
   },
   "outputs": [],
   "source": [
    "x = np.linspace(-1, 1, 200)\n",
    "try:\n",
    "    fs = latex_setup.make_figsize(ratio=1.25)\n",
    "except:\n",
    "    fs = (5., 2.)\n",
    "\n",
    "fig, axs = plt.subplots(2, 2, figsize=fs, sharex=True, sharey=True)\n",
    "key2ax = {\n",
    "    \"IC79\": axs[0, 0],\n",
    "    \"IC86_2011\": axs[0, 1],\n",
    "    \"IC86_2012-2014\": axs[1, 0],\n",
    "    \"IC86_2015\": axs[1, 1],\n",
    "}\n",
    "\n",
    "for key, bg_inj in sorted(multi_bg_inj._injs.items())[:]:\n",
    "    ax = key2ax[key]\n",
    "    bins = bg_inj.inj_opts[\"sindec_bins\"]\n",
    "    mids = 0.5 * (bins[:-1] + bins[1:])\n",
    "    h, _ = np.histogram(np.sin(bg_inj._X[\"dec\"]), bins=bins, density=False)\n",
    "    norm = np.diff(bins) * np.sum(h)\n",
    "    stddev = np.sqrt(h) / norm\n",
    "    h = h / norm\n",
    "    ax.plot(bins, np.r_[h[0], h], drawstyle=\"steps-pre\", color=\"0.6\", lw=2)\n",
    "    ax.errorbar(mids, h, yerr=stddev, color=\"0.75\", lw=2, fmt=\",\", zorder=1.)\n",
    "    for spl in bg_inj._spl_info[\"sin_dec_pdf_splines\"]:\n",
    "        ax.plot(x, spl(x), c=\"#353132\", lw=.5)\n",
    "        \n",
    "    if key in [\"IC79\", \"IC86_2012-2014\"]:\n",
    "        ax.set_ylabel(\"PDF\")\n",
    "    if key in [\"IC86_2012-2014\", \"IC86_2015\"]:\n",
    "        ax.set_xlabel(r\"$\\sin(\\delta)$\")\n",
    "    ax.set_xlim(-1, 1)\n",
    "    ax.set_ylim(0, 1)\n",
    "    ax.grid(ls=\":\")\n",
    "    ax.set_axisbelow(True)\n",
    "    ax.set_title(key2label(key) + \": {} sources\".format(len(bg_inj._spl_info[\"sin_dec_pdf_splines\"])),\n",
    "                 fontsize=latex_setup.latex_settings[\"axes.labelsize\"])\n",
    "\n",
    "fig.tight_layout()\n",
    "save_fig(fig, \"plots/time_dep/bg_pdf_per_sample.pdf\",\n",
    "         bbox_inches=\"tight\")\n",
    "plt.show()"
   ]
  },
  {
   "cell_type": "markdown",
   "metadata": {
    "heading_collapsed": true
   },
   "source": [
    "## Stacking weight splines per sample"
   ]
  },
  {
   "cell_type": "markdown",
   "metadata": {
    "hidden": true
   },
   "source": [
    "Simply plot all PDFs per sample above each other to give an idea of the fluctuations"
   ]
  },
  {
   "cell_type": "code",
   "execution_count": null,
   "metadata": {
    "hidden": true
   },
   "outputs": [],
   "source": [
    "x = np.linspace(-1, 1, 200)\n",
    "try:\n",
    "    fs = latex_setup.make_figsize(ratio=1.25)\n",
    "except:\n",
    "    fs = (5., 2.)\n",
    "\n",
    "fig, axs = plt.subplots(2, 2, figsize=fs, sharex=True, sharey=True)\n",
    "key2ax = {\n",
    "    \"IC79\": axs[0, 0],\n",
    "    \"IC86_2011\": axs[0, 1],\n",
    "    \"IC86_2012-2014\": axs[1, 0],\n",
    "    \"IC86_2015\": axs[1, 1],\n",
    "}\n",
    "\n",
    "for key, llh_mod in sorted(multi_llh._llhs.items())[:]:\n",
    "    ax = key2ax[key]\n",
    "    \n",
    "    spl = llh_mod._model._spl_info[\"mc_sin_dec_pdf_spline\"]\n",
    "    srcs_sin_dec = np.sin(llh_mod._model.srcs[\"dec\"])\n",
    "    stack_w = llh_mod._model.get_args()[\"src_w_dec\"]\n",
    "    norm = spl.integral(-1, 1)\n",
    "#     norm = np.sum(stack_w)\n",
    "    stack_w = stack_w / norm\n",
    "    \n",
    "    ax.plot(x, spl(x) / norm, c=\"#353132\")\n",
    "    ax.scatter(srcs_sin_dec, stack_w, marker=\"d\", c=\"#353132\", s=25)\n",
    "        \n",
    "    if key in [\"IC79\", \"IC86_2012-2014\"]:\n",
    "        ax.set_ylabel(\"PDF\")\n",
    "    if key in [\"IC86_2012-2014\", \"IC86_2015\"]:\n",
    "        ax.set_xlabel(r\"$\\sin(\\delta_\\nu)$\")\n",
    "    ax.set_xlim(-1, 1)\n",
    "    ax.set_ylim(0, 1.5)\n",
    "    ax.grid(ls=\":\")\n",
    "    ax.set_axisbelow(True)\n",
    "    ax.set_title(key2label(key),\n",
    "                 fontsize=latex_setup.latex_settings[\"axes.labelsize\"])\n",
    "\n",
    "fig.tight_layout()\n",
    "save_fig(fig, \"plots/time_dep/stacking_src_w_per_sample.pdf\",\n",
    "         bbox_inches=\"tight\")\n",
    "plt.show()"
   ]
  },
  {
   "cell_type": "markdown",
   "metadata": {
    "heading_collapsed": true
   },
   "source": [
    "## BG only TS"
   ]
  },
  {
   "cell_type": "code",
   "execution_count": null,
   "metadata": {
    "hidden": true
   },
   "outputs": [],
   "source": [
    "%%time\n",
    "bg_pdfs = loader.bg_pdf_loader(idx=\"all\")\n",
    "tw_ids = sorted(bg_pdfs.keys())"
   ]
  },
  {
   "cell_type": "markdown",
   "metadata": {
    "hidden": true
   },
   "source": [
    "Scan best threshold for scan plots"
   ]
  },
  {
   "cell_type": "code",
   "execution_count": null,
   "metadata": {
    "hidden": true
   },
   "outputs": [],
   "source": [
    "%%time\n",
    "threshs = []\n",
    "res = []\n",
    "\n",
    "for tw_id in tw_ids:\n",
    "    print(\"# Time window {}\".format(tw_id))      \n",
    "    # Scan in a range with still good statistics, but leave the really good\n",
    "    # statistics part to the empirical PDF\n",
    "    bg_pdfs[tw_id].fit_thresh(np.amax(bg_pdfs[tw_id].data))\n",
    "    lo, hi = bg_pdfs[tw_id].ppf(q=100. * sigma2prob([3., 5.5]))\n",
    "    threshs.append(np.arange(lo, hi, 0.1))\n",
    "    # Best fit: KS test p-value is larger than `pval_thresh` the first time\n",
    "    pval_thresh = 0.5\n",
    "    res_i = tdu.scan_best_thresh(\n",
    "        bg_pdfs[tw_id], threshs[-1], pval_thresh=pval_thresh)\n",
    "    best_thresh, best_idx, pvals, scales = res_i\n",
    "    res.append(res_i)\n",
    "\n",
    "    best_thresh_sigma = prob2sigma(bg_pdfs[tw_id].cdf(best_thresh))\n",
    "    print(\"Best thresh at TS = {:.2f}, {:.2f} sigma\".format(\n",
    "        best_thresh, best_thresh_sigma[0]))"
   ]
  },
  {
   "cell_type": "code",
   "execution_count": null,
   "metadata": {
    "hidden": true
   },
   "outputs": [],
   "source": [
    "# For the other notebook...\n",
    "idx = np.array([res_i[1] for res_i in res])\n",
    "locs = np.array([res_i[0] for res_i in res])\n",
    "scales = np.array([res_i[3][idx[i]] for i, res_i in enumerate(res)])"
   ]
  },
  {
   "cell_type": "markdown",
   "metadata": {
    "hidden": true
   },
   "source": [
    "TS left, KS right for 4x(5x2) plots for the appendix and a single (1x2) for inline."
   ]
  },
  {
   "cell_type": "code",
   "execution_count": null,
   "metadata": {
    "hidden": true
   },
   "outputs": [],
   "source": [
    "def plot_row(axl, axr, res, threshs, bg_pdfs, tw_id, x):\n",
    "    best_thresh, best_idx, pvals, scales = res[tw_id]\n",
    "    lblfntsize = latex_setup.latex_settings[\"axes.labelsize\"] - 3\n",
    "    legfntsize = latex_setup.latex_settings[\"axes.labelsize\"] - 4\n",
    "    \n",
    "    # ## Plot BG TS left\n",
    "    c_hist, c_emp = \"0.65\", \"#353132\"\n",
    "    y = bg_pdfs[tw_id].pdf(x, dx=0.25)\n",
    "    h, bins, err, norm = bg_pdfs[tw_id].data_hist(density=True, dx=0.25,\n",
    "                                                  which=\"all\")  \n",
    "    m = 0.5 * (bins[:-1] + bins[1:])\n",
    "    # Clip manually for PGF backend\n",
    "    ymin = np.amin(h[h>0] / 2.)\n",
    "    h[h < ymin / 10.] = ymin / 10.\n",
    "    y[y < ymin / 10.] = ymin / 10.\n",
    "\n",
    "    axl.plot(bins, np.r_[h[0], h], drawstyle=\"steps-pre\", color=c_hist)\n",
    "    axl.errorbar(m, h, yerr=err, fmt=\",\", color=c_hist, zorder=-10)\n",
    "    axl.axvline(best_thresh, 0, 1, c=c_emp, ls=\"--\")\n",
    "    axl.plot(x, y, color=c_emp)\n",
    "\n",
    "    axl.set_xlabel(r\"Test statistic $-2\\ln\\Lambda$\", fontsize=lblfntsize)\n",
    "    axl.set_ylabel(\"PDF\", fontsize=lblfntsize)\n",
    "    axl.set_xlim(0, 35)\n",
    "    axl.set_ylim(ymin, 1)\n",
    "    axl.set_yscale(\"log\")\n",
    "    axl.set_title(\"Time window {}\".format(tw_id + 1), fontsize=lblfntsize)\n",
    "#     axl.legend(loc=\"upper right\", fontsize=legfntsize)\n",
    "\n",
    "    # ## Plot KS test right\n",
    "    # pvalue guides\n",
    "    axr.axhline(0.5, 0, 1, ls=\":\", color=\"0.6\", lw=1)\n",
    "    axr.axhline(1, 0, 1, ls=\"-\", color=\"0.6\", lw=1)\n",
    "\n",
    "    axr.axvline(best_thresh, 0, 1, c=\"#353132\", ls=\"--\",\n",
    "                label=r\"$t_\\mathrm{{opt}} = {:.2f}$\".format(best_thresh))\n",
    "\n",
    "    axr.plot(threshs[tw_id], pvals, c=\"0.3\", label=r\"KS-test $p$\", lw=2.5)\n",
    "    axr.plot(threshs[tw_id], scales, c=\"0.6\", label=\"Scales\", lw=2.5)\n",
    "\n",
    "    axr.set_xlim(threshs[tw_id][0], threshs[tw_id][-1])\n",
    "    axr.set_xlabel(r\"Threshold $t$\", fontsize=lblfntsize)\n",
    "    axr.set_ylabel(\"Parameter value\", fontsize=lblfntsize)\n",
    "    axr.legend(loc=\"center left\", fontsize=legfntsize)\n",
    "#     axr.set_title(r\"$t_\\mathrm{{opt}} = {:.2f}$\".format(best_thresh),\n",
    "#                   fontsize=lblfntsize)\n",
    "    axr.set_ylim(0, 2.5)\n",
    "\n",
    "    return"
   ]
  },
  {
   "cell_type": "code",
   "execution_count": null,
   "metadata": {
    "hidden": true,
    "scrolled": false
   },
   "outputs": [],
   "source": [
    "tw_chunks = [  # ID 20 goes extra\n",
    "    [0, 1, 2],\n",
    "    [3, 4, 5],\n",
    "    [6, 7, 8],\n",
    "    [9, 10, 11],\n",
    "    [12, 13, 14],\n",
    "    [15, 16, 17],\n",
    "    [18, 19, 20],\n",
    "]\n",
    "\n",
    "x = np.linspace(0, max([bg_pdf_i.data.max() for\n",
    "                        bg_pdf_i in bg_pdfs.values()]), 500)\n",
    "\n",
    "try:\n",
    "    # Almost full page ratio\n",
    "    fs = latex_setup.make_figsize(ratio=0.8, scale=0.9)\n",
    "    legfntsize = latex_setup.latex_settings[\"legend.fontsize\"] - 3\n",
    "    labfntsize = latex_setup.latex_settings[\"axes.labelsize\"] - 3\n",
    "except:\n",
    "    fs = (5, 7.15)\n",
    "\n",
    "\n",
    "for chunk in tw_chunks[:]:\n",
    "    # Make a plot grid\n",
    "    nrows, ncols = len(chunk), 2\n",
    "    fig, axs = plt.subplots(nrows=nrows, ncols=ncols, figsize=fs,\n",
    "                           sharex=False, sharey=False)\n",
    "    for row, tw_id in enumerate(chunk):\n",
    "        print(\"# Time window {}\".format(tw_id))\n",
    "        (axl, axr) = axs[row, 0], axs[row, 1]\n",
    "        plot_row(axl=axl, axr=axr, res=res, threshs=threshs, tw_id=tw_id,\n",
    "                 bg_pdfs=bg_pdfs, x=x)\n",
    "        if row != nrows - 1:\n",
    "            axl.set_xlabel(\"\")\n",
    "            axr.set_xlabel(\"\")\n",
    "        \n",
    "    fig.tight_layout()\n",
    "    save_fig(fig, \"plots/time_dep/bg_ts_and_ks_tw_ids_\" +\n",
    "             \"{}.pdf\".format(\"_\".join([\"{}\".format(d) for d in chunk])),\n",
    "             bbox_inches=\"tight\")\n",
    "    plt.show()"
   ]
  },
  {
   "cell_type": "markdown",
   "metadata": {
    "hidden": true
   },
   "source": [
    "Old standalone plots"
   ]
  },
  {
   "cell_type": "code",
   "execution_count": null,
   "metadata": {
    "hidden": true,
    "scrolled": true
   },
   "outputs": [],
   "source": [
    "for tw_id in tw_ids:\n",
    "    print(\"# Time window {}\".format(tw_id))\n",
    "    # pvalue guides\n",
    "    plt.axhline(0.5, 0, 1, ls=\":\", color=\"0.6\")\n",
    "    plt.axhline(1, 0, 1, ls=\":\", color=\"0.6\")\n",
    "\n",
    "    best_thresh, best_idx, pvals, scales = res[tw_id]\n",
    "    plt.axvline(best_thresh, 0, 1, c=\"#353132\", ls=\"--\",\n",
    "                label=r\"$t_\\mathrm{{opt}} = {:.2f}$\".format(best_thresh))\n",
    "\n",
    "    plt.plot(threshs[tw_id], pvals, c=\"0.3\", label=r\"KS-test $p$\", lw=2.5)\n",
    "    plt.plot(threshs[tw_id], scales, c=\"0.6\", label=\"Scales\", lw=2.5)\n",
    "\n",
    "    plt.xlim(threshs[tw_id][0], threshs[tw_id][-1])\n",
    "    plt.xlabel(r\"Threshold $t$\")\n",
    "    plt.ylabel(\"Parameter values\")\n",
    "    plt.title(\"Time window {}\".format(tw_id + 1))\n",
    "    plt.legend()\n",
    "\n",
    "#     save_fig(plt.gcf(), \"plots/bg_ts/bg_ts_thresh_scan_tw_{:2d}.pdf\".format(tw_id),\n",
    "#              bbox_inches=\"tight\")\n",
    "    plt.show()"
   ]
  },
  {
   "cell_type": "markdown",
   "metadata": {
    "hidden": true
   },
   "source": [
    "Show bg only ts with exp tail"
   ]
  },
  {
   "cell_type": "code",
   "execution_count": null,
   "metadata": {
    "hidden": true,
    "scrolled": true
   },
   "outputs": [],
   "source": [
    "x = np.linspace(0, max([bg_pdf_i.data.max() for\n",
    "                        bg_pdf_i in bg_pdfs.values()]), 500)\n",
    "c_hist, c_emp = \"0.65\", \"#353132\"\n",
    "\n",
    "for tw_id in tw_ids:\n",
    "    y = bg_pdfs[tw_id].pdf(x, dx=0.25)\n",
    "\n",
    "    h, bins, err, norm = bg_pdfs[tw_id].data_hist(density=True, dx=0.25,\n",
    "                                                  which=\"all\")\n",
    "    m = 0.5 * (bins[:-1] + bins[1:])\n",
    "    \n",
    "    # Clip manually for PGF backend\n",
    "    ymin = np.amin(h[h>0] / 2.)\n",
    "    h[h < ymin / 10.] = ymin / 10.\n",
    "    y[y < ymin / 10.] = ymin / 10.\n",
    "\n",
    "    plt.plot(bins, np.r_[h[0], h], drawstyle=\"steps-pre\", color=c_hist)\n",
    "    plt.errorbar(m, h, yerr=err, fmt=\",\", color=c_hist, zorder=-10)\n",
    "\n",
    "    best_thresh = res[tw_id][0]\n",
    "    plt.axvline(best_thresh, 0, 1, c=c_emp, ls=\"--\")\n",
    "    plt.plot(x, y, color=c_emp,\n",
    "             label=\"Emp. PDF, $t_\\mathrm{{opt}}={:.2f}$\".format(best_thresh))\n",
    "\n",
    "    plt.xlabel(r\"Test statistic $-2\\ln\\Lambda$\")\n",
    "    plt.ylabel(\"PDF\")\n",
    "    plt.xlim(x[0], x[-1])\n",
    "    plt.ylim(ymin, None)\n",
    "    plt.yscale(\"log\")\n",
    "    plt.legend(loc=\"upper right\")\n",
    "    plt.title(\"Time window {}\".format(tw_id + 1))\n",
    "\n",
    "    save_fig(plt.gcf(), path=\"plots/bg_ts/bg_ts_tw_{}.pdf\".format(tw_id),\n",
    "             bbox_inches=\"tight\")\n",
    "    save_fig(plt.gcf(), path=\"plots/bg_ts/bg_ts_tw_{:2d}.pgf\".format(tw_id),\n",
    "             bbox_inches=\"tight\")\n",
    "    plt.show()"
   ]
  },
  {
   "cell_type": "markdown",
   "metadata": {
    "heading_collapsed": true
   },
   "source": [
    "## KS cross check with lido trials"
   ]
  },
  {
   "cell_type": "code",
   "execution_count": null,
   "metadata": {
    "hidden": true
   },
   "outputs": [],
   "source": [
    "%%time\n",
    "bg_pdfs = loader.bg_pdf_loader(idx=\"all\")\n",
    "tw_ids = sorted(bg_pdfs.keys())\n",
    "\n",
    "def _load_lido_bg_pdfs(tw_id):\n",
    "    path = os.path.join(PATHS.local, \"bg_pdfs_lido\",\n",
    "                        \"bg_pdf_tw_{:02d}.json.gz\".format(tw_id))\n",
    "    with gzip.open(path) as json_file:\n",
    "        emp_dist = tdu.ExpTailEmpiricalDist.from_json(json_file)\n",
    "        \n",
    "    return emp_dist\n",
    "\n",
    "lido_pdfs = {tw_id: _load_lido_bg_pdfs(tw_id) for tw_id in tw_ids}"
   ]
  },
  {
   "cell_type": "markdown",
   "metadata": {
    "hidden": true
   },
   "source": [
    "Scan best threshold for original trials."
   ]
  },
  {
   "cell_type": "code",
   "execution_count": null,
   "metadata": {
    "hidden": true
   },
   "outputs": [],
   "source": [
    "%%time\n",
    "threshs = []\n",
    "res = []\n",
    "\n",
    "for tw_id in tw_ids:\n",
    "    print(\"# Time window {}\".format(tw_id))      \n",
    "    # Scan in a range with still good statistics, but leave the really good\n",
    "    # statistics part to the empirical PDF\n",
    "    bg_pdfs[tw_id].fit_thresh(np.amax(bg_pdfs[tw_id].data))\n",
    "    lo, hi = bg_pdfs[tw_id].ppf(q=100. * sigma2prob([3., 5.5]))\n",
    "    threshs.append(np.arange(lo, hi, 0.1))\n",
    "    # Best fit: KS test p-value is larger than `pval_thresh` the first time\n",
    "    pval_thresh = 0.5\n",
    "    res_i = tdu.scan_best_thresh(\n",
    "        bg_pdfs[tw_id], threshs[-1], pval_thresh=pval_thresh)\n",
    "    best_thresh, best_idx, pvals, scales = res_i\n",
    "    res.append(res_i)\n",
    "\n",
    "    best_thresh_sigma = prob2sigma(bg_pdfs[tw_id].cdf(best_thresh))\n",
    "    print(\"Best thresh at TS = {:.2f}, {:.2f} sigma\".format(\n",
    "        best_thresh, best_thresh_sigma[0]))"
   ]
  },
  {
   "cell_type": "markdown",
   "metadata": {
    "hidden": true
   },
   "source": [
    "With the best fit original BG PDFs, do a KS test with the exponential tail and the independent Lido trial tail data."
   ]
  },
  {
   "cell_type": "code",
   "execution_count": null,
   "metadata": {
    "hidden": true
   },
   "outputs": [],
   "source": [
    "all_ids = np.sort(bg_pdfs.keys())\n",
    "pvals = []\n",
    "for _tw in all_ids:\n",
    "    # Get Lido tail data\n",
    "    lido_pdfs[_tw].fit_thresh(bg_pdfs[_tw].thresh)\n",
    "    lido_over_thresh_data, _ = lido_pdfs[_tw].get_split_data(emp=False)  \n",
    "    # Do a KS test with the original exp tail and the Lido data\n",
    "    loc, scale = bg_pdfs[_tw].thresh, bg_pdfs[_tw].scale\n",
    "    pvals.append(scs.kstest(lido_over_thresh_data, \"expon\",\n",
    "                            args=(loc, scale)).pvalue)\n",
    "    print(\"Testing tw {}, pval is {:.2f}sigma\".format(\n",
    "        _tw, prob2sigma(1. - pvals[-1])[0]))"
   ]
  },
  {
   "cell_type": "code",
   "execution_count": null,
   "metadata": {
    "hidden": true
   },
   "outputs": [],
   "source": [
    "# Plot KS pvalue vs. time window. No outliers seen, fit is stable.\n",
    "# Only a bit fewer than 2/3 within 1sig and 19/20 within 2sig\n",
    "ls = [\"-\", \"-.\", \"--\"]\n",
    "for i, sigi in enumerate(sigma2prob([1, 2, 3])):\n",
    "    plt.axhline(1. - sigi, 0, 1, ls=ls[i], c=\"C7\",\n",
    "                label=r\"${:.0f}\\sigma$\".format(i + 1))\n",
    "\n",
    "plt.plot(all_ids + 1, pvals, color=\"#353132\", ls=\"\", marker=\"o\")\n",
    "\n",
    "plt.xticks(all_ids[::2] + 1)\n",
    "plt.yscale(\"log\")\n",
    "\n",
    "plt.xlabel(\"Time window ID\")\n",
    "plt.ylabel(\"KS test p-value\")\n",
    "plt.xlim(all_ids[0] + 0.5, all_ids[-1] + 1.5)\n",
    "plt.ylim(1e-4, 1)\n",
    "plt.legend(loc=\"lower left\")\n",
    "plt.tight_layout()\n",
    "\n",
    "save_fig(plt.gcf(),\"plots/time_dep/ks_test_lido_trials_pvals.pdf\",\n",
    "         bbox_inches=\"tight\")\n",
    "plt.show()"
   ]
  },
  {
   "cell_type": "markdown",
   "metadata": {
    "heading_collapsed": true
   },
   "source": [
    "## HESE map source injection"
   ]
  },
  {
   "cell_type": "code",
   "execution_count": null,
   "metadata": {
    "hidden": true
   },
   "outputs": [],
   "source": [
    "# Reconstruct a map from the stored CDF\n",
    "key = \"IC79\"\n",
    "src_idx = 0\n",
    "sig_inj = multi_sig_inj.injs[key]\n",
    "src_map = np.r_[0, np.diff(sig_inj._src_map_CDFs[src_idx])]\n",
    "src_rec = sig_inj.srcs[src_idx]\n",
    "src_dec = src_rec[\"dec\"]\n",
    "src_ra = src_rec[\"ra\"]"
   ]
  },
  {
   "cell_type": "code",
   "execution_count": null,
   "metadata": {
    "hidden": true
   },
   "outputs": [],
   "source": [
    "res = (500, 500)\n",
    "\n",
    "def dec_to_theta(dec):\n",
    "    return np.pi / 2. - np.array(dec)\n",
    "\n",
    "# Zoom around best fit\n",
    "dra, ddec = np.deg2rad(5), np.deg2rad(5)\n",
    "bounds = [\n",
    "    [src_ra - dra, src_ra + dra],\n",
    "    dec_to_theta([src_dec - ddec, src_dec + ddec]),\n",
    "]\n",
    "\n",
    "src_map_ren, cx, cy = mplt.render_healpymap(src_map, npix=res, bounds=bounds,\n",
    "                                            smooth=4.)\n",
    "# Make -log10(PDF), so levels show sigma contours when approx. gaussian like\n",
    "# m = (src_map > 0.)\n",
    "src_map_ren = np.log10(src_map_ren)\n",
    "src_map_ren = np.amax(src_map_ren) - src_map_ren"
   ]
  },
  {
   "cell_type": "markdown",
   "metadata": {
    "hidden": true
   },
   "source": [
    "Sample some new src positions for this map"
   ]
  },
  {
   "cell_type": "code",
   "execution_count": null,
   "metadata": {
    "hidden": true
   },
   "outputs": [],
   "source": [
    "nsamples = 1000\n",
    "ras, decs = np.zeros(nsamples, dtype=float), np.zeros(nsamples, dtype=float)\n",
    "for i in range(nsamples):\n",
    "    sig_inj.sample(n_samples=1)\n",
    "    ras[i] = sig_inj._src_ra[src_idx]\n",
    "    decs[i] = sig_inj._src_dec[src_idx]"
   ]
  },
  {
   "cell_type": "markdown",
   "metadata": {
    "hidden": true
   },
   "source": [
    "Plot map with sampled positions"
   ]
  },
  {
   "cell_type": "code",
   "execution_count": null,
   "metadata": {
    "hidden": true
   },
   "outputs": [],
   "source": [
    "# Untruncated on the left truncated on the right\n",
    "try:\n",
    "    fs = latex_setup.make_figsize(scale=0.9, ratio=1.5)\n",
    "except:\n",
    "    fs = (5.2, 2.)\n",
    "fig, ax = plt.subplots(1, 1, figsize=fs)\n",
    "\n",
    "def ra_to_hours(ra):\n",
    "    return 24. - mx / 360. * 24  # ra in deg -> ra in hours, right to left\n",
    "mx, my = map(lambda b: np.rad2deg(0.5 * (b[:-1] + b[1:])), [cx, cy])\n",
    "# Convert to equ. with ra from right to left in hours\n",
    "# mx = 24. - mx / 360. * 24\n",
    "my = 90. - my\n",
    "xx, yy = np.meshgrid(mx, my)\n",
    "levels = - scs.chi2.logsf(np.arange(0., 3, 0.5)**2, df=2)\n",
    "\n",
    "img = ax.contourf(xx, yy, src_map_ren, levels, cmap=\"Greys_r\", extend=\"max\")\n",
    "# ax.plot(np.rad2deg(src_ra), np.rad2deg(src_dec), c=\"w\", ls=\"\", marker=\"x\")\n",
    "ax.plot(np.rad2deg(ras), np.rad2deg(decs),\n",
    "        marker=\".\", ls=\"\", c=\"w\", mec=\"#353132\", lw=1, ms=6, alpha=0.75)\n",
    "\n",
    "ax.set_xlabel(r\"Right-ascension $\\alpha$ in $^\\circ$\")\n",
    "ax.set_ylabel(r\"Declination $\\delta$ in $^\\circ$\")\n",
    "ax.grid(ls=\":\")\n",
    "\n",
    "fig.tight_layout()\n",
    "save_fig(fig, \"plots/time_dep/hese_map_sampling.pdf\", bbox_inches=\"tight\", dpi=300)\n",
    "plt.show()"
   ]
  },
  {
   "cell_type": "markdown",
   "metadata": {
    "heading_collapsed": true
   },
   "source": [
    "## Differential performances"
   ]
  },
  {
   "cell_type": "markdown",
   "metadata": {
    "hidden": true
   },
   "source": [
    "Load diff performance sets and bg pdf.\n",
    "\n",
    "Note: Because the power law is fixed at E^-2, the E2 weighting, does not need to be explicitely done.\n",
    "The flux norm at 1GeV is the same numerical value as the on at 100TeV weighted with 100TeV^2 (E^-2 is flat in E2 weighting)."
   ]
  },
  {
   "cell_type": "code",
   "execution_count": null,
   "metadata": {
    "hidden": true
   },
   "outputs": [],
   "source": [
    "%%time\n",
    "sig_inj_type = \"healpy\"\n",
    "perf_trials = loader.perf_trials_loader(sig_inj_type, diff=True, idx=\"all\")\n",
    "\n",
    "bg_pdfs = loader.bg_pdf_loader(\"all\")"
   ]
  },
  {
   "cell_type": "code",
   "execution_count": null,
   "metadata": {
    "code_folding": [
     0,
     4,
     9,
     18,
     56,
     84
    ],
    "hidden": true
   },
   "outputs": [],
   "source": [
    "def weight_Egamma(enu, flux, gamma=2.):\n",
    "    return enu**gamma * flux\n",
    "\n",
    "\n",
    "def fluxatE0(flux, E0, E0new, gamma=2.):\n",
    "    \"\"\" Base power law flux on a different reference energy. \"\"\"\n",
    "    return flux * (E0new / E0)**-gamma\n",
    "\n",
    "\n",
    "def mu2flux(mu, mu2flux):\n",
    "    \"\"\"\n",
    "    Converts mu to flux from the stored mu2flux(1) from the injector.\n",
    "    Flux normalization in units from the injection, perf[\"E0\"], perf[\"gamma\"]\n",
    "    in 1 / (GeV cm^2 s).\n",
    "    \"\"\"\n",
    "    return np.atleast_1d(mu2flux) * np.atleast_1d(mu)\n",
    "\n",
    "\n",
    "def guess_chi2_cdf_seed(mus, ts, ts_val):\n",
    "    \"\"\"\n",
    "    When fitting a chi2 CDF to x=mus and y=cdfs, with df and loc (scale fixed,\n",
    "    because it is degenerate to df), this finds a reasonable seed.\n",
    "    From wikipedia (df = k) for larger k >> 2:\n",
    "        Mean = k\n",
    "        Median approx k (1 - 2 / (9k))^3\n",
    "        Variance = 2k\n",
    "    Also, loc = df for large k, because the median formula tends to k.\n",
    "    This means, a resonable first guess proxy for the df and loc is\n",
    "        df approx loc approx d**2 / 2\n",
    "    where d is the distance from the 50% and 84% (or 16%) percentile as a proxy\n",
    "    when assuming gaussian like behaviour for the stddevs.\n",
    "    \"\"\"\n",
    "    # Get median mu\n",
    "    idx_med = None\n",
    "    for i, tsi in enumerate(ts):\n",
    "        cdfi, _ = weighted_cdf(x=tsi, val=ts_val, weights=None)\n",
    "        if cdfi < 0.5:\n",
    "            idx_med = i\n",
    "            break\n",
    "    if idx_med is None:\n",
    "        raise ValueError(\"Could not find median. \" +\n",
    "                         \"Too few trials or ts val wrong?\")\n",
    "    # Get stddev mu (84%)\n",
    "    idx_std = None\n",
    "    for i, tsi in enumerate(ts):\n",
    "        cdfi, _ = weighted_cdf(x=tsi, val=ts_val, weights=None)\n",
    "        if cdfi < 0.16:\n",
    "            idx_std = i\n",
    "            break\n",
    "    if idx_std is None:\n",
    "        raise ValueError(\"Could not find 16% percentile. \" +\n",
    "                         \"Too few trials or ts val wrong?\")\n",
    "    df = (mus[idx_std] - mus[idx_med])**2 / 2.\n",
    "    return df, mus[idx_med] - df\n",
    "    \n",
    "    \n",
    "def fit_all_chi2_params(mus, ts, ts_bf, beta):\n",
    "    \"\"\"\n",
    "    Wrapper to fit the chi2 params for all bins.\n",
    "    \"\"\"\n",
    "    out, seeds = [], []   \n",
    "    for i in range(len(ts)):\n",
    "        # tw 20 includes post processed trials with different mus.\n",
    "        mus_ = mus[i]\n",
    "        try:\n",
    "            len(mus_)\n",
    "        except:\n",
    "            mus_ = mus\n",
    "        # Guess a p0\n",
    "        try:\n",
    "            df, loc = guess_chi2_cdf_seed(mus_, ts[i], ts_bf)\n",
    "        except ValueError:\n",
    "            df, loc = 1, 1\n",
    "        seeds.append([df, loc])\n",
    "        # 90% UL (Needed signal for 90% over TS values of data result)\n",
    "        out.append(fit_chi2_cdf(mus=mus_, ts=ts[i], beta=beta, ts_val=ts_bf,\n",
    "                                p0=(df, loc, 1.), fscale=None))\n",
    "\n",
    "    mu_bfs = np.array([o[0] for o in out])\n",
    "    cdfs = np.array([o[1] for o in out])\n",
    "    pars = np.array([o[2] for o in out])\n",
    "    return mu_bfs, cdfs, pars\n",
    "\n",
    "\n",
    "def plot_diff_limits(\n",
    "    logE_bins, flux_bfs, ls=None, leg_labels=None, title=None, save_args=None):\n",
    "    if plt.rcParams[\"text.usetex\"]:\n",
    "        labels = [\n",
    "            r\"$log_{10}(E_\\nu\\,/\\,\\si{\\GeV})$\",\n",
    "            r\"$E^2\\phi_0$ at $\\SI{100}{\\TeV}$ in \" + \n",
    "            r\"$\\si[per-mode=reciprocal]{\\GeV\\per\\cm\\squared\\per\\second}$\"]\n",
    "    else:\n",
    "        labels = [\n",
    "            r\"$log_{10}(E_\\nu\\,/\\,\\mathrm{GeV})$\",\n",
    "            r\"$E^2\\phi_0$ at $100\\,\\mathrm{TeV}$ in \" + \n",
    "            r\"$\\mathrm{GeV} / (\\mathrm{cm^2\\, s})$\"]\n",
    "\n",
    "    plt_leg = True\n",
    "    if leg_labels is None:\n",
    "        plt_leg = False\n",
    "    # c = plt.cm.Greys_r(np.linspace(0., 0.3, len(flux_bfs)))\n",
    "    keys = logE_bins.keys()\n",
    "    c = {k: \"#353121\" for k in keys}\n",
    "    if ls is None:\n",
    "        ls = {k: \"-\" for k in keys}\n",
    "    \n",
    "    for key in keys:\n",
    "        plt.plot(logE_bins[key], np.r_[flux_bfs[key][0], flux_bfs[key]],\n",
    "                 c=c[key], ls=ls[key], drawstyle=\"steps-pre\",\n",
    "                 label=leg_labels[key])\n",
    "#     plt.yscale(\"log\")\n",
    "    plt.xlabel(labels[0])\n",
    "    plt.ylabel(labels[1])\n",
    "    if title is not None:\n",
    "        plt.title(title)\n",
    "    plt.grid(ls=\":\")\n",
    "    plt.xlim(2, 9)\n",
    "    plt.ylim(0, None)\n",
    "    if plt_leg:\n",
    "        plt.legend()\n",
    "        \n",
    "    if save_args is not None:\n",
    "        save_fig(plt.gcf(), **save_args)\n",
    "        \n",
    "    plt.show()"
   ]
  },
  {
   "cell_type": "markdown",
   "metadata": {
    "hidden": true
   },
   "source": [
    "Calc the differential sensitivity and discover potential"
   ]
  },
  {
   "cell_type": "code",
   "execution_count": null,
   "metadata": {
    "hidden": true
   },
   "outputs": [],
   "source": [
    "mu_bfs, cdfs, pars, flux_bfs = {}, {}, {}, {}\n",
    "\n",
    "# Sensitity = avg. UL and discorvery potential\n",
    "sigmas = {\"sens\": 0., \"disc\":  5.}\n",
    "betas = {\"sens\": 0.9, \"disc\":  0.5}\n",
    "\n",
    "# For each time window\n",
    "tw_ids = sorted(bg_pdfs.keys())\n",
    "# hotfix_id = [100 * 18 + 0]  # Combined ID where to apply a hotfix chi2 solution\n",
    "\n",
    "for tw_id in tw_ids:\n",
    "    print(tw_id)\n",
    "    bg_pdf = bg_pdfs[tw_id]\n",
    "    perf = perf_trials[tw_id]\n",
    "    # Get the BG TS values for the desired betas\n",
    "    mu_bfs[tw_id], cdfs[tw_id], pars[tw_id], flux_bfs[tw_id] = {}, {}, {}, {}\n",
    "    for key in sigmas.keys():\n",
    "        bg_ts_val = bg_pdf.ppf(q=100. * sigma2prob(sigmas[key]))\n",
    "        _out = fit_all_chi2_params(\n",
    "            perf[\"mus\"], perf[\"ts\"], bg_ts_val, betas[key])\n",
    "        mu_bfs[tw_id][key], cdfs[tw_id][key], pars[tw_id][key] = _out\n",
    "        flux_bfs[tw_id][key] = multi_sig_inj.mu2flux(mu_bfs[tw_id][key])"
   ]
  },
  {
   "cell_type": "markdown",
   "metadata": {
    "hidden": true
   },
   "source": [
    "Make the plots"
   ]
  },
  {
   "cell_type": "code",
   "execution_count": null,
   "metadata": {
    "hidden": true,
    "scrolled": false
   },
   "outputs": [],
   "source": [
    "if plt.rcParams[\"text.usetex\"]:\n",
    "    labels = [\n",
    "        r\"$\\log_{10}(E_\\nu\\,/\\,\\si{\\GeV})$\",\n",
    "        r\"$E^2\\Phi_0^{100\\,\\mathrm{TeV}}$\",\n",
    "    ]\n",
    "else:\n",
    "    labels = [\n",
    "        r\"$log_{10}(E_\\nu\\,/\\,\\mathrm{GeV})$\",\n",
    "        r\"$E^2\\Phi_0$ at $100\\,\\mathrm{TeV}$ in \" + \n",
    "        r\"$\\mathrm{GeV}\\,\\mathrm{cm}^{-1}$\"]\n",
    "     \n",
    "ls = {\"sens\": \"-\", \"disc\": \"-\"}\n",
    "c = {\"sens\": \"#353121\", \"disc\": \"0.5\"}\n",
    "leg_labels = {\"sens\": \"Sensitivity\", \"disc\": \"Disc.\\nPotential\"}\n",
    "# hotfix_id = [100 * 18 + 0]  # Combined ID where to apply a hotfix chi2 solution\n",
    "\n",
    "# Plot in 2 (5x2) grids and a single one\n",
    "try:\n",
    "    titlesize = latex_setup.latex_settings[\"axes.labelsize\"] - 5\n",
    "    labsize = latex_setup.latex_settings[\"axes.labelsize\"] - 5\n",
    "    fs = latex_setup.make_figsize(scale=0.95, ratio=0.8)  # Full page\n",
    "except:\n",
    "    figsize = (5, 7.2)\n",
    "nrows, ncols = 7, 3\n",
    "fig, axs = plt.subplots(nrows, ncols, figsize=fs, sharex=True)\n",
    "# Manual x and yticks and labels per row\n",
    "xticks = range(2, 10, 1)\n",
    "xticklabels = [\"{:d}\".format(xt) for xt in xticks]\n",
    "yticks = [\n",
    "    [0, 0.1, 0.2],\n",
    "    [0, 0.1, 0.2],\n",
    "    [0, 0.1, 0.2],\n",
    "    [0, 0.1, 0.2, 0.3],\n",
    "    [0, 0.1, 0.2, 0.3, 0.4, 0.5],\n",
    "    [0, 0.5, 1],\n",
    "    [0, 0.5, 1, 1.5, 2, 2.5],\n",
    "]\n",
    "yticks_minor = [\n",
    "    [0.05, 0.15],\n",
    "    [0.05, 0.15],\n",
    "    [0.05, 0.15],\n",
    "    None,\n",
    "    None,\n",
    "    [0.25, 0.75],\n",
    "    None,\n",
    "]\n",
    "ymax = [yt[-1] for yt in yticks]\n",
    "# Manually expend without altering the ticks\n",
    "ymax[-2] = 1.25\n",
    "ymax[-1] = 2.75\n",
    "\n",
    "# Plot performance curves per time window\n",
    "for tw_id in tw_ids[:]:\n",
    "    bins = perf_trials[tw_id][\"log_E_bins\"]\n",
    "    flbfs = flux_bfs[tw_id]\n",
    "    row, col = idx2rowcol(idx=tw_id, ncols=ncols)\n",
    "    ax = axs[row, col]\n",
    "\n",
    "    for key in sigmas.keys():\n",
    "        ax.plot(bins, np.r_[flbfs[key][0], flbfs[key]],\n",
    "                c=c[key], ls=ls[key], drawstyle=\"steps-pre\",\n",
    "                label=leg_labels[key])\n",
    "\n",
    "    ax.set_title(\"Time window {}\".format(tw_id + 1), fontsize=titlesize)\n",
    "    ax.grid(b=True, ls=\":\", which=\"major\")\n",
    "    ax.set_xlim(2, 9)\n",
    "    # Ticklabels only at the bottom and left plots\n",
    "    if row == nrows - 1:\n",
    "        ax.set_xticks(xticks)\n",
    "        ax.set_xticklabels(xticklabels)\n",
    "        ax.set_xlabel(labels[0], fontsize=labsize)\n",
    "    if col == 0:\n",
    "        ax.set_ylabel(labels[1], fontsize=labsize)\n",
    "    # For some yaxis set minor ticks with grid to have similar grey values\n",
    "    if yticks_minor[row] is not None:\n",
    "        ax.set_yticks(yticks_minor[row], minor=True)\n",
    "        ax.grid(b=True, ls=\":\", which=\"minor\")\n",
    "    ax.set_yticks(yticks[row])\n",
    "    ax.set_yticklabels([\"{:.1f}\".format(yt) for yt in yticks[row]],\n",
    "                       fontsize=labsize)\n",
    "    ax.set_ylim(0, ymax[row])\n",
    "\n",
    "    # Put legend manually split in 2 last plots\n",
    "    if (row == nrows - 1):\n",
    "        _handles, _lables = ax.get_legend_handles_labels()\n",
    "        if col == ncols - 2:\n",
    "            ax.legend(_handles[:1], _lables[:1], loc=\"upper right\",\n",
    "                      prop={\"size\": labsize})\n",
    "        if col == ncols - 1:\n",
    "            ax.legend(_handles[1:], _lables[1:], loc=\"upper right\",\n",
    "                      prop={\"size\": labsize})\n",
    "\n",
    "fig.tight_layout(w_pad=0., h_pad=0.25)\n",
    "save_fig(fig, \"plots/time_dep/diff_perf.pdf\", bbox_inches=\"tight\")\n",
    "plt.show()"
   ]
  },
  {
   "cell_type": "markdown",
   "metadata": {
    "hidden": true
   },
   "source": [
    "Output the values for a latex table"
   ]
  },
  {
   "cell_type": "code",
   "execution_count": null,
   "metadata": {
    "hidden": true
   },
   "outputs": [],
   "source": [
    "from mypyscripts.general import arr2str\n",
    "\n",
    "bins = perf_trials[0][\"log_E_bins\"]\n",
    "s1 = slice(0, len(bins) // 2, 1)\n",
    "s2 = slice(len(bins) // 2, len(bins) - 1, 1)\n",
    "\n",
    "# First half of the table, slice 1\n",
    "print(\"   & \" + arr2str(bins[s1], fmt=\"{:.1f}  \", sep=\" & \") + r\" \\\\\")\n",
    "for tw_id in tw_ids:\n",
    "    print(\"{:2d} & \".format(tw_id) +\n",
    "          arr2str(flux_bfs[tw_id][\"sens\"][s1], fmt=\"{:.3f}\", sep=\" & \") + r\" \\\\\")\n",
    "#     print(\"{:2d} & sens. & \".format(tw_id) +\n",
    "#           arr2str(flux_bfs[tw_id][\"sens\"][s1], fmt=\"{:.3f}\", sep=\" & \") + r\" \\\\\")\n",
    "#     print(\"   & disc. & \" +\n",
    "#           arr2str(flux_bfs[tw_id][\"disc\"][s1], fmt=\"{:.3f}\", sep=\" & \") + r\" \\\\\")\n",
    "    \n",
    "print(\"\\n\\n\")\n",
    "    \n",
    "# Second half of the table in a new table, slice 2\n",
    "print(\"   & \" + arr2str(bins[s2], fmt=\"{:.1f}\", sep=\" & \") + r\" \\\\\")\n",
    "for tw_id in tw_ids:\n",
    "    print(\"{:2d} & \".format(tw_id) +\n",
    "          arr2str(flux_bfs[tw_id][\"sens\"][s2], fmt=\"{:.3f}\", sep=\" & \") + r\" \\\\\")\n",
    "#     print(\"{:2d} & sens. & \".format(tw_id) +\n",
    "#           arr2str(flux_bfs[tw_id][\"sens\"][s2], fmt=\"{:.3f}\", sep=\" & \") + r\" \\\\\")\n",
    "#     print(\"   & disc. & \" +\n",
    "#           arr2str(flux_bfs[tw_id][\"disc\"][s2], fmt=\"{:.3f}\", sep=\" & \") + r\" \\\\\")"
   ]
  },
  {
   "cell_type": "markdown",
   "metadata": {
    "heading_collapsed": true,
    "hidden": true
   },
   "source": [
    "### Plot chi2 fits per time window for a logE bins"
   ]
  },
  {
   "cell_type": "code",
   "execution_count": null,
   "metadata": {
    "hidden": true,
    "scrolled": false
   },
   "outputs": [],
   "source": [
    "try:\n",
    "    titlesize = latex_setup.latex_settings[\"axes.labelsize\"] - 5\n",
    "    labsize = latex_setup.latex_settings[\"axes.labelsize\"] - 4\n",
    "    fs = latex_setup.make_figsize(scale=0.95, ratio=0.8)  # Full page\n",
    "except:\n",
    "    figsize = (5, 7.2)\n",
    "\n",
    "cs = {\"sens\": \"#353132\", \"disc\": \"0.5\"}\n",
    "label = {\"sens\": \"Sensitivity\", \"disc\": \"Discovery\\nPotential\"}\n",
    "nrows, ncols = 5, 3\n",
    "\n",
    "# For each time window\n",
    "for tw_id in tw_ids[:]:\n",
    "    bins = perf_trials[tw_id][\"log_E_bins\"]\n",
    "    mus = perf_trials[tw_id][\"mus\"]\n",
    "    # 5 x 3 Grid for each time window\n",
    "    fig, axs = plt.subplots(nrows, ncols, figsize=fs, sharey=True)\n",
    "    # For each energy bin\n",
    "    for i in range(len(bins) - 1):\n",
    "        row, col = idx2rowcol(idx=i, ncols=ncols)\n",
    "        ax = axs[row, col]\n",
    "        \n",
    "        # tw 20 includes post processed trials with different mus.\n",
    "        mus_ = mus[i]\n",
    "        try:\n",
    "            len(mus_)\n",
    "        except:\n",
    "            mus_ = mus         \n",
    "        \n",
    "        # Get xmax value from largest mu bf in both sens. and disc. pot.\n",
    "        _mu_bf = {}\n",
    "        for key in sigmas.keys():\n",
    "            _mu_bf[key] = mu_bfs[tw_id][key][i]\n",
    "        xmax = np.ceil(1.5 * max(list(_mu_bf.values())))\n",
    "        x = np.linspace(0, xmax, 500)\n",
    "\n",
    "        # For sens, disc\n",
    "        for key in sigmas.keys():\n",
    "            cdf_tw = cdfs[tw_id][key]\n",
    "            pars_tw = pars[tw_id][key]\n",
    "            y = scs.chi2.cdf(x, *pars_tw[i])\n",
    "            \n",
    "            ax.axhline(betas[key], 0, 1, ls=\"-\", c=\"0.75\")\n",
    "            ax.axvline(_mu_bf[key], 0, 1, ls=\"-.\", c=cs[key])\n",
    "            \n",
    "            ax.plot(x, y, c=cs[key], label=label[key], zorder=9)\n",
    "            ax.plot(mus_, 1. - cdf_tw[i],\n",
    "                    marker=\"o\", c=cs[key], ls=\"\", zorder=10, ms=3)\n",
    "            \n",
    "        title = (r\"${:.1f}\\leq \\log_{{10}}\".format(bins[i]) +\n",
    "                 r\"(E_\\nu\\,/\\,\\si{{GeV}}) < {:.1f}$\".format(bins[i+1]))\n",
    "        ax.text(x=0.5, y=1.025, s=title, fontsize=titlesize,\n",
    "                va=\"bottom\", ha=\"center\", transform=ax.transAxes)\n",
    "        ax.set_yticks([0, 0.5, 1])\n",
    "        ax.set_yticklabels([r\"$0$\", r\"$\\frac{1}{2}$\", r\"$1$\"])\n",
    "        ax.set_xlim(0, xmax)\n",
    "        ax.set_ylim(0, 1)\n",
    "        if (row == nrows - 1) or ((row == nrows - 2) and (col == ncols - 1)):\n",
    "            ax.set_xlabel(r\"Signal evts. $\\mu$\", fontsize=labsize)\n",
    "        if col == 0:\n",
    "            ax.set_ylabel(\"CDF\", fontsize=labsize)\n",
    "\n",
    "    axs[-1, -1].remove()  # 14 bins, 15 axes...\n",
    "    handles, labels = ax.get_legend_handles_labels()\n",
    "    fig.legend(handles, labels, loc=\"center left\", bbox_to_anchor=(0.7, 0.125))\n",
    "    \n",
    "    fig.tight_layout(h_pad=0, w_pad=0.5)\n",
    "    save_fig(fig, \"plots/time_dep/diff_perf_chi2_fits_tw_\" +\n",
    "             \"{:02d}.pdf\".format(tw_id), bbox_inches=\"tight\")\n",
    "    plt.show()"
   ]
  },
  {
   "cell_type": "markdown",
   "metadata": {
    "heading_collapsed": true
   },
   "source": [
    "## Time win vs. performance"
   ]
  },
  {
   "cell_type": "markdown",
   "metadata": {
    "hidden": true
   },
   "source": [
    "Note: Because the power law is fixed at E^-2, the E2 weighting, does not need to be explicitely done.\n",
    "The flux norm at 1GeV is the same numerical value as the on at 100TeV weighted with 100TeV^2 (E^-2 is flat in E2 weighting)."
   ]
  },
  {
   "cell_type": "code",
   "execution_count": null,
   "metadata": {
    "hidden": true
   },
   "outputs": [],
   "source": [
    "%%time\n",
    "bg_pdfs = loader.bg_pdf_loader(\"all\")\n",
    "tw_ids = sorted(bg_pdfs.keys())\n",
    "dt0s, dt1s = loader.time_window_loader(idx=tw_ids)\n",
    "perf_trials = loader.perf_trials_loader(typ=\"healpy\", idx=\"all\", skylab=False)"
   ]
  },
  {
   "cell_type": "code",
   "execution_count": null,
   "metadata": {
    "code_folding": [
     0,
     3,
     7
    ],
    "hidden": true
   },
   "outputs": [],
   "source": [
    "def weight_Egamma(enu, flux, gamma=2.):\n",
    "    return enu**gamma * flux\n",
    "\n",
    "def fluxatE0(flux, E0, E0new, gamma=2.):\n",
    "    \"\"\" Base power law flux on a different reference energy. \"\"\"\n",
    "    return flux * (E0new / E0)**-gamma\n",
    "\n",
    "def guess_chi2_cdf_seed(mus, ts, ts_val):\n",
    "    \"\"\"\n",
    "    When fitting a chi2 CDF to x=mus and y=cdfs, with df and loc (scale fixed,\n",
    "    because it is degenerate to df), this finds a reasonable seed.\n",
    "    From wikipedia (df = k) for larger k >> 2:\n",
    "        Mean = k\n",
    "        Median approx k (1 - 2 / (9k))^3\n",
    "        Variance = 2k\n",
    "    Also, loc = df for large k, because the median formula tends to k.\n",
    "    This means, a resonable first guess proxy for the df and loc is\n",
    "        df approx loc approx d**2 / 2\n",
    "    where d is the distance from the 50% and 84% (or 16%) percentile as a proxy\n",
    "    when assuming gaussian like behaviour for the stddevs.\n",
    "    \"\"\"\n",
    "    # Get median mu\n",
    "    idx_med = None\n",
    "    for i, tsi in enumerate(ts):\n",
    "        cdfi, _ = weighted_cdf(x=tsi, val=ts_val, weights=None)\n",
    "        if cdfi < 0.5:\n",
    "            idx_med = i\n",
    "            break\n",
    "    if idx_med is None:\n",
    "        raise ValueError(\"Could not find median. \" +\n",
    "                         \"Too few trials or ts val wrong?\")\n",
    "    # Get stddev mu (84%)\n",
    "    idx_std = None\n",
    "    for i, tsi in enumerate(ts):\n",
    "        cdfi, _ = weighted_cdf(x=tsi, val=ts_val, weights=None)\n",
    "        if cdfi < 0.16:\n",
    "            idx_std = i\n",
    "            break\n",
    "    if idx_std is None:\n",
    "        raise ValueError(\"Could not find 16% percentile. \" +\n",
    "                         \"Too few trials or ts val wrong?\")\n",
    "    df = (mus[idx_std] - mus[idx_med])**2 / 2.\n",
    "    return df, mus[idx_med] - df"
   ]
  },
  {
   "cell_type": "markdown",
   "metadata": {
    "hidden": true
   },
   "source": [
    "Precalc values"
   ]
  },
  {
   "cell_type": "code",
   "execution_count": null,
   "metadata": {
    "hidden": true
   },
   "outputs": [],
   "source": [
    "# Sensitity = avg. UL and discorvery potential\n",
    "sigmas = {\"sens\": 0., \"disc\":  5.}\n",
    "betas = {\"sens\": 0.9, \"disc\":  0.5}\n",
    "\n",
    "# For each time window store the stats\n",
    "mu_bfs, cdfs, pars, flux_bfs = {}, {}, {}, {}\n",
    "for tw_id in tw_ids:\n",
    "    print(tw_id)\n",
    "    bg_pdf = bg_pdfs[tw_id]\n",
    "    perf = perf_trials[tw_id]\n",
    "    # Get the BG TS values for the desired betas\n",
    "    mu_bfs[tw_id], cdfs[tw_id], pars[tw_id], flux_bfs[tw_id] = {}, {}, {}, {}\n",
    "    for key in sigmas.keys():\n",
    "        bg_ts_val = bg_pdf.ppf(q=100. * sigma2prob(sigmas[key]))\n",
    "        try:\n",
    "            df, loc = guess_chi2_cdf_seed(perf[\"mus\"], perf[\"ts\"], bg_ts_val)\n",
    "        except ValueError:\n",
    "            df, loc = 1, 1\n",
    "        # 90% UL (Needed signal for 90% over TS values of data result)\n",
    "        _out = fit_chi2_cdf(mus=perf[\"mus\"], ts=perf[\"ts\"], beta=betas[key],\n",
    "                            ts_val=bg_ts_val,\n",
    "                            p0=(df, loc, 1.), fscale=None)\n",
    "\n",
    "        mu_bfs[tw_id][key], cdfs[tw_id][key], pars[tw_id][key] = _out\n",
    "        flux_bfs[tw_id][key] = multi_sig_inj.mu2flux(mu_bfs[tw_id][key])"
   ]
  },
  {
   "cell_type": "markdown",
   "metadata": {
    "hidden": true
   },
   "source": [
    "Make the time windows vs. performance plots"
   ]
  },
  {
   "cell_type": "code",
   "execution_count": null,
   "metadata": {
    "hidden": true
   },
   "outputs": [],
   "source": [
    "# Poisson 90% UL: For which expectation mu are 90% over n=0 events?\n",
    "beta = 0.9\n",
    "a, b = 2, 3  # It's somewhere around 2.3\n",
    "pois_ul = sco.brentq(lambda mu: scs.poisson.sf(0, mu) - beta, a, b)\n",
    "pois_ul_flux = multi_sig_inj.mu2flux(pois_ul)"
   ]
  },
  {
   "cell_type": "code",
   "execution_count": null,
   "metadata": {
    "hidden": true
   },
   "outputs": [],
   "source": [
    "delts = dt1s - dt0s\n",
    "\n",
    "sens = [v[\"sens\"] for v in flux_bfs.values()]\n",
    "disc = [v[\"disc\"] for v in flux_bfs.values()]\n",
    "\n",
    "fs = latex_setup.make_figsize()\n",
    "fig, ax  = plt.subplots(1, 1, figsize=fs)\n",
    "\n",
    "ax.axhline(pois_ul_flux, 0, 1, ls=\"--\", c=\"#353132\", lw=1,\n",
    "           label=\"90\\% Poisson UL\")\n",
    "ax.plot(delts, sens, c=\"#353132\", lw=2.5, label=\"Sensitivity\")\n",
    "ax.plot(delts, disc, c=\"0.5\", lw=2.5, label=\"Discovery\\nPotential\")\n",
    "\n",
    "ax.set_xscale(\"log\")\n",
    "ax.set_xlim(delts[0], delts[-1])\n",
    "ax.set_xlabel(r\"Time window length in \\si{\\second}\")\n",
    "ax.set_ylabel(r\"$E^2\\Phi_0$ at $\\SI{100}{TeV}$ in \" + \n",
    "              r\"$\\si[per-mode=reciprocal]{\\GeV\\per\\cm\\squared}$\")\n",
    "ax.legend(loc=\"upper left\")\n",
    "\n",
    "fig.tight_layout()\n",
    "save_fig(fig, \"plots/time_dep/perf.pdf\", bbox_inches=\"tight\")\n",
    "plt.show()"
   ]
  },
  {
   "cell_type": "markdown",
   "metadata": {
    "hidden": true
   },
   "source": [
    "### Chi2 fits"
   ]
  },
  {
   "cell_type": "markdown",
   "metadata": {
    "hidden": true
   },
   "source": [
    "Make the plot grid"
   ]
  },
  {
   "cell_type": "code",
   "execution_count": null,
   "metadata": {
    "hidden": true
   },
   "outputs": [],
   "source": [
    "ls = {\"sens\": \"-\", \"disc\": \"-\"}\n",
    "c = {\"sens\": \"#353121\", \"disc\": \"0.5\"}\n",
    "leg_labels = {\"sens\": \"Sensitivity\", \"disc\": \"Disc.\\nPotential\"}\n",
    "\n",
    "try:\n",
    "    labsize = latex_setup.latex_settings[\"axes.labelsize\"] - 5\n",
    "    fs = latex_setup.make_figsize(scale=0.95, ratio=0.8)  # Full page\n",
    "except:\n",
    "    figsize = (5, 7.2)\n",
    "nrows, ncols = 7, 3\n",
    "fig, axs = plt.subplots(nrows, ncols, figsize=fs, sharey=True)\n",
    "\n",
    "# Plot chi2 fit curves per time window\n",
    "for tw_id in tw_ids[:]:\n",
    "    mus = perf_trials[tw_id][\"mus\"]\n",
    "    mu_bfs_tw = mu_bfs[tw_id]\n",
    "    flbfs = flux_bfs[tw_id]\n",
    "    cdf_tw = cdfs[tw_id]\n",
    "    pars_tw = pars[tw_id]\n",
    "\n",
    "    row, col = idx2rowcol(idx=tw_id, ncols=ncols)\n",
    "    ax = axs[row, col]\n",
    "        \n",
    "    # Get xmax value from largest mu bf in both sens. and disc. pot.\n",
    "    _mu_bf = {}\n",
    "    for key in sigmas.keys():\n",
    "        _mu_bf[key] = mu_bfs_tw[key]\n",
    "    xmax = np.ceil(1.5 * max(list(_mu_bf.values())))\n",
    "    x = np.linspace(0, xmax, 500)\n",
    "\n",
    "    # For sens, disc\n",
    "    for key in sigmas.keys():\n",
    "        y = scs.chi2.cdf(x, *pars_tw[key])\n",
    "\n",
    "        ax.axhline(betas[key], 0, 1, ls=\"-\", c=\"0.75\")\n",
    "        ax.axvline(_mu_bf[key], 0, 1, ls=\"-.\", c=c[key])\n",
    "\n",
    "        ax.plot(x, y, c=c[key], label=leg_labels[key], zorder=9)\n",
    "        ax.plot(mus, 1. - cdf_tw[key],\n",
    "                marker=\"o\", c=c[key], ls=\"\", zorder=10, ms=3)\n",
    "    title = r\"Time window {:d}\".format(tw_id + 1)\n",
    "    ax.text(x=0.5, y=1.05, s=title, fontsize=labsize + 1,\n",
    "            va=\"bottom\", ha=\"center\", transform=ax.transAxes)\n",
    "    ax.set_yticks([0, 0.5, 1])\n",
    "    ax.set_yticklabels([r\"$0$\", r\"$\\frac{1}{2}$\", r\"$1$\"])\n",
    "    ax.set_xlim(0, xmax)\n",
    "    ax.set_ylim(0, 1)\n",
    "    if (row == nrows - 1):\n",
    "        ax.set_xlabel(r\"Signal evts. $\\mu$\", fontsize=labsize + 1)\n",
    "    if col == 0:\n",
    "        ax.set_ylabel(\"CDF\", fontsize=labsize + 1)\n",
    "    \n",
    "    # Put legend manually split in 2 last plots\n",
    "    if (row == nrows - 1):\n",
    "        _handles, _lables = ax.get_legend_handles_labels()\n",
    "        if col == ncols - 2:\n",
    "            ax.legend(_handles[:1], _lables[:1], loc=\"lower right\",\n",
    "                      prop={\"size\": labsize})\n",
    "        if col == ncols - 1:\n",
    "            ax.legend(_handles[1:], _lables[1:], loc=\"lower right\",\n",
    "                      prop={\"size\": labsize})\n",
    "\n",
    "fig.tight_layout(h_pad=0.25, w_pad=0.25)\n",
    "save_fig(fig, \"plots/time_dep/perf_chi2_fits.pdf\", bbox_inches=\"tight\")\n",
    "plt.show()"
   ]
  },
  {
   "cell_type": "markdown",
   "metadata": {
    "heading_collapsed": true
   },
   "source": [
    "## Show exp. result pre and post trial"
   ]
  },
  {
   "cell_type": "code",
   "execution_count": null,
   "metadata": {
    "hidden": true
   },
   "outputs": [],
   "source": [
    "with open(os.path.join(PATHS.local, \"unblinding\", \"result.json\")) as fp:\n",
    "    result = json.load(fp)\n",
    "    \n",
    "tw_id = 20\n",
    "bg_pdf = loader.bg_pdf_loader(tw_id)[tw_id]\n",
    "\n",
    "fname = \"data/post_neglog10_pdf.json\"\n",
    "with open(fname) as fp:\n",
    "    post_neglog10_pdf = tdu.stats.PureEmpiricalDist.from_json(fp=fp)\n",
    "    print(\"Loaded post trials from:\\n  {}\".format(fname))"
   ]
  },
  {
   "cell_type": "code",
   "execution_count": null,
   "metadata": {
    "hidden": true
   },
   "outputs": [],
   "source": [
    "c_hist, c_emp = \"0.65\", \"#353132\"\n",
    "legsize = latex_setup.latex_settings[\"legend.fontsize\"] - 3\n",
    "fs = latex_setup.make_figsize(ratio=2.5)\n",
    "\n",
    "# Left BG TS with exp result, right post trial PDF with exp result\n",
    "fig, (axl, axr) = plt.subplots(1, 2, figsize=fs)\n",
    "\n",
    "## Left BG TS\n",
    "x = np.linspace(0, round_mantissa(np.amax(bg_pdf.data)), 500)\n",
    "y = bg_pdf.pdf(x, dx=0.25)\n",
    "h, bins, err, norm = bg_pdf.data_hist(density=True, dx=0.25, which=\"all\")\n",
    "m = 0.5 * (bins[:-1] + bins[1:])\n",
    "\n",
    "# Clip manually for PGF backend\n",
    "ymin = np.amin(h[h>0] / 2.)\n",
    "h[h < ymin / 10.] = ymin / 10.\n",
    "y[y < ymin / 10.] = ymin / 10.\n",
    "\n",
    "axl.plot(bins, np.r_[h[0], h], drawstyle=\"steps-pre\", color=c_hist)\n",
    "axl.errorbar(m, h, yerr=err, fmt=\",\", color=c_hist, zorder=-10, lw=1)\n",
    "axl.plot(x, y, color=c_emp)\n",
    "axl.axvline(result[\"ts\"][tw_id], 0, 1, c=c_emp, ls=\"--\",\n",
    "            label=\"Experimental result:\\n\" +\n",
    "            r\"$-2\\ln\\hat{{\\Lambda}}={:.2f}$\".format(result[\"ts\"][tw_id]))\n",
    "\n",
    "axl.set_xlabel(r\"Test statistic $-2\\ln\\Lambda$\")\n",
    "axl.set_ylabel(\"PDF\")\n",
    "axl.set_title(\"Time window {}\".format(tw_id + 1), fontsize=legsize + 1)\n",
    "axl.set_xlim(x[0], x[-1])\n",
    "axl.set_ylim(ymin, 3)\n",
    "axl.set_yscale(\"log\", nonposy=\"clip\")\n",
    "axl.legend(loc=\"upper right\", prop={\"size\": legsize})\n",
    "\n",
    "## Right post trial TS\n",
    "dx = 0.1\n",
    "bins = np.arange(0, 8 + dx, dx)\n",
    "h, _ = np.histogram(post_neglog10_pdf.data, bins=bins, density=False)\n",
    "err = np.sqrt(h)\n",
    "norm = np.sum(h) * np.diff(bins)\n",
    "h = h / norm\n",
    "err = err / norm\n",
    "m = 0.5 * (bins[:-1] + bins[1:])\n",
    "pval = result[\"pvals\"][tw_id]\n",
    "sigma = prob2sigma(1. - pval)[0]\n",
    "pval = -np.log10(pval)\n",
    "\n",
    "axr.plot(bins, np.r_[h[0], h], drawstyle=\"steps-pre\", color=c_emp)\n",
    "axr.errorbar(m, h, yerr=err, fmt=\",\", color=c_emp, zorder=-10, lw=1)\n",
    "axr.axvline(pval, 0, 1, c=c_emp, ls=\"--\",\n",
    "            label=\"Pre-trial $p={:.2f}\\sigma$\".format(sigma))\n",
    "axr.set_xlabel(r\"Pre-trial $-\\log_{10}(p)$\")\n",
    "# axr.set_ylabel(\"PDF \")\n",
    "axr.set_yscale(\"log\")\n",
    "axr.set_xlim(0, 8)\n",
    "axr.set_xticks(range(0, 9))\n",
    "axr.set_ylim(1e-5, 5e0)\n",
    "axr.legend(loc=\"upper right\", prop={\"size\": legsize})\n",
    "\n",
    "fig.tight_layout()\n",
    "save_fig(fig, path=\"plots/time_dep/exp_res_bg_pdf_post_pdf.pdf\",\n",
    "         bbox_inches=\"tight\")\n",
    "plt.show()"
   ]
  },
  {
   "cell_type": "markdown",
   "metadata": {
    "heading_collapsed": true,
    "hidden": true
   },
   "source": [
    "### Post trial and post trial <-> pre trial dependency"
   ]
  },
  {
   "cell_type": "code",
   "execution_count": null,
   "metadata": {
    "hidden": true
   },
   "outputs": [],
   "source": [
    "c_emp = \"#353132\"\n",
    "legsize = latex_setup.latex_settings[\"legend.fontsize\"] - 3\n",
    "fs = latex_setup.make_figsize(ratio=2.5)\n",
    "pdata = post_neglog10_pdf.data\n",
    "\n",
    "# Left BG TS with exp result, right post trial PDF with exp result\n",
    "fig, (axl, axr) = plt.subplots(1, 2, figsize=fs)\n",
    "\n",
    "## Left post trial\n",
    "dx = 0.1\n",
    "bins = np.arange(0, 8 + dx, dx)\n",
    "h, _ = np.histogram(pdata, bins=bins, density=False)\n",
    "err = np.sqrt(h)\n",
    "norm = np.sum(h) * np.diff(bins)\n",
    "h = h / norm\n",
    "err = err / norm\n",
    "m = 0.5 * (bins[:-1] + bins[1:])\n",
    "sigmas = np.arange(1, 4)\n",
    "pvals = post_neglog10_pdf.ppf(100. * sigma2prob(sigmas))\n",
    "\n",
    "axl.plot(bins, np.r_[h[0], h], drawstyle=\"steps-pre\", color=c_emp)\n",
    "axl.errorbar(m, h, yerr=err, fmt=\",\", color=c_emp, zorder=-10, lw=1)\n",
    "lss = [\"-\", \"-.\", \"--\"]\n",
    "for j, pval in enumerate(pvals):\n",
    "    axl.axvline(pval, 0, 1, c=c_emp, ls=lss[j], lw=1.,\n",
    "                label=r\"${:.0f}\\sigma$\".format(sigmas[j]))\n",
    "axl.set_xlabel(r\"Pre-trial $-\\log_{10}(p)$\")\n",
    "axl.set_ylabel(\"PDF \")\n",
    "axl.set_yscale(\"log\")\n",
    "axl.set_xlim(0, 8)\n",
    "axl.set_xticks(range(0, 9))\n",
    "axl.set_ylim(1e-5, 5e0)\n",
    "axl.legend(loc=\"upper right\", prop={\"size\": legsize})\n",
    "\n",
    "## Right post trial <-> pre trial\n",
    "# Range. Under threshold, no pvals are defined -> zero trials\n",
    "thresh = np.amin(pdata[pdata > 0])\n",
    "neglog10_pre_trial = np.linspace(thresh, -np.log10(1. - sigma2prob(4)), 200)\n",
    "_post_trial_vals = post_neglog10_pdf.sf(neglog10_pre_trial)\n",
    "neglog10_post_trial = -np.log10(_post_trial_vals)\n",
    "\n",
    "axr.plot(prob2sigma(1. - 10**-neglog10_pre_trial),\n",
    "         prob2sigma(1. - 10**-neglog10_post_trial), color=c_emp, lw=2)\n",
    "axr.plot([0, 4], [0, 4], c=\"C7\", ls=\"--\", lw=1)\n",
    "axr.set_xlabel(r\"Pre-trial $\\sigma$\")\n",
    "axr.set_ylabel(r\"Post-trial $\\sigma$\")\n",
    "axr.set_xlim(0, 4)\n",
    "axr.set_ylim(0, 4)\n",
    "axr.grid(ls=\":\")\n",
    "\n",
    "fig.tight_layout()\n",
    "save_fig(fig, path=\"plots/time_dep/post_trial_pre_trial.pdf\",\n",
    "         bbox_inches=\"tight\")\n",
    "plt.show()"
   ]
  },
  {
   "cell_type": "markdown",
   "metadata": {},
   "source": [
    "# Discussion: time dependent plots"
   ]
  },
  {
   "cell_type": "markdown",
   "metadata": {
    "heading_collapsed": true
   },
   "source": [
    "## Neyman plane"
   ]
  },
  {
   "cell_type": "code",
   "execution_count": null,
   "metadata": {
    "hidden": true
   },
   "outputs": [],
   "source": [
    "%%time\n",
    "path = os.path.join(PATHS.local, \"unblinding\", \"result.json\")\n",
    "with open(path) as fp:\n",
    "    result = json.load(fp)\n",
    "    \n",
    "_tw = 20\n",
    "perf = loader.perf_trials_loader(typ=\"healpy\", idx=_tw, skylab=False)[_tw]"
   ]
  },
  {
   "cell_type": "code",
   "execution_count": null,
   "metadata": {
    "hidden": true
   },
   "outputs": [],
   "source": [
    "mus = perf[\"mus\"]\n",
    "ts = np.array(perf[\"ts\"])\n",
    "\n",
    "ts_bins = np.arange(0, np.ceil(np.amax(ts)), 0.25)\n",
    "\n",
    "# Rows have mus, cols have ts, as if matrix is viewed as an image\n",
    "hist = np.empty((len(mus), len(ts_bins) - 1), dtype=float)\n",
    "for i in range(len(mus)):\n",
    "    hist[i], _ = np.histogram(ts[i], bins=ts_bins, density=True)\n",
    "    \n",
    "# Create empirical Neyman bands\n",
    "band_lo_emp = np.percentile(a=ts, axis=1, q=84)\n",
    "band_hi_emp = np.percentile(a=ts, axis=1, q=16)\n",
    "uls_emp = np.percentile(a=ts, axis=1, q=10)"
   ]
  },
  {
   "cell_type": "code",
   "execution_count": null,
   "metadata": {
    "hidden": true
   },
   "outputs": [],
   "source": [
    "# Create mu borders for pcolormesh\n",
    "dmu = np.diff(mus)\n",
    "mu_mids = 0.5 * (mus[:-1] + mus[1:])\n",
    "mu_borders = np.r_[mus[0] - dmu[0], mu_mids, mus[-1] + dmu[-1]]\n",
    "\n",
    "XX, YY = np.meshgrid(ts_bins, mu_borders)\n",
    "ZZ = np.array(hist)"
   ]
  },
  {
   "cell_type": "code",
   "execution_count": null,
   "metadata": {
    "hidden": true
   },
   "outputs": [],
   "source": [
    "fs = latex_setup.make_figsize()\n",
    "fig, ax = plt.subplots(1, 1, figsize=fs)\n",
    "c_ln = \"#353132\"\n",
    "\n",
    "# mesh = plt.pcolormesh(XX, YY, ZZ, cmap=\"Greys\", norm=LogNorm())\n",
    "# mesh.set_rasterized(True)\n",
    "step = 0.25\n",
    "levels = np.arange(-3, 0 + step, step)\n",
    "vals = np.log10(np.pad(ZZ, pad_width=[(0, 1), (0, 1)], mode=\"edge\"))\n",
    "\n",
    "# Smooth along x, except for the first two bins, in which the zero trials are!\n",
    "from scipy.ndimage.filters import gaussian_filter\n",
    "vals[:, 2:] = gaussian_filter(vals[:, 2:], sigma=(0., 1.5))\n",
    "\n",
    "img = ax.contourf(XX, YY, vals, levels, cmap=\"Greys\", extend=\"both\")\n",
    "cbar = fig.colorbar(img, ax=ax)\n",
    "cbar.set_label(r\"$\\log_{10}(\\mathrm{PDF})$\")\n",
    "\n",
    "ax.plot(uls_emp, mus, c=c_ln, ls=\"--\", label=r\"\\SI{90}{\\percent} UL\")\n",
    "ax.plot(band_lo_emp, mus, c=c_ln, ls=\":\",\n",
    "         label=r\"\\SI{68}{\\percent} CL Band\")\n",
    "ax.plot(band_hi_emp, mus, c=c_ln, ls=\":\")\n",
    "\n",
    "exp_ts = result[\"ts\"][_tw]\n",
    "ax.axvline(exp_ts, 0, 1, ls=\"-\", c=c_ln, label=\"Exp. result\")\n",
    "\n",
    "ax.set_xlabel(r\"Test statistic $-2\\ln\\Lambda$\")\n",
    "ax.set_ylabel(r\"Mean no. of signal events $\\mu$\")\n",
    "\n",
    "ax.set_xlim(0, 20)\n",
    "ax.set_ylim(0, 30)\n",
    "leg = plt.legend(loc=\"best\")\n",
    "# leg.get_frame().set_facecolor(\"0.65\")\n",
    "# plt.title(r\"Empiric Neyman plane\")\n",
    "\n",
    "save_fig(fig, \"plots/discussion_tdep/neyman_plane.pdf\", bbox_inches=\"tight\")\n",
    "plt.show()"
   ]
  },
  {
   "cell_type": "markdown",
   "metadata": {
    "heading_collapsed": true
   },
   "source": [
    "## UL per time window with sensitivity and \"diffuse fluence\""
   ]
  },
  {
   "cell_type": "markdown",
   "metadata": {
    "hidden": true
   },
   "source": [
    "Note: Because the power law is fixed at E^-2, the E2 weighting, does not need to be explicitely done.\n",
    "The flux norm at 1GeV is the same numerical value as the on at 100TeV weighted with 100TeV^2 (E^-2 is flat in E2 weighting)."
   ]
  },
  {
   "cell_type": "code",
   "execution_count": null,
   "metadata": {
    "hidden": true,
    "scrolled": true
   },
   "outputs": [],
   "source": [
    "%%time\n",
    "bg_pdfs = loader.bg_pdf_loader(\"all\")\n",
    "tw_ids = sorted(bg_pdfs.keys())\n",
    "dt0s, dt1s = loader.time_window_loader(idx=tw_ids)\n",
    "perf_trials = loader.perf_trials_loader(typ=\"healpy\", idx=\"all\", skylab=False)\n",
    "\n",
    "# Load unblided result\n",
    "path = os.path.join(PATHS.local, \"unblinding\", \"result.json\")\n",
    "with open(path) as fp:\n",
    "    result = json.load(fp)"
   ]
  },
  {
   "cell_type": "code",
   "execution_count": null,
   "metadata": {
    "code_folding": [
     7
    ],
    "hidden": true
   },
   "outputs": [],
   "source": [
    "def weight_Egamma(enu, flux, gamma=2.):\n",
    "    return enu**gamma * flux\n",
    "\n",
    "def fluxatE0(flux, E0, E0new, gamma=2.):\n",
    "    \"\"\" Base power law flux on a different reference energy. \"\"\"\n",
    "    return flux * (E0new / E0)**-gamma\n",
    "\n",
    "def guess_chi2_cdf_seed(mus, ts, ts_val):\n",
    "    \"\"\"\n",
    "    When fitting a chi2 CDF to x=mus and y=cdfs, with df and loc (scale fixed,\n",
    "    because it is degenerate to df), this finds a reasonable seed.\n",
    "    From wikipedia (df = k) for larger k >> 2:\n",
    "        Mean = k\n",
    "        Median approx k (1 - 2 / (9k))^3\n",
    "        Variance = 2k\n",
    "    Also, loc = df for large k, because the median formula tends to k.\n",
    "    This means, a resonable first guess proxy for the df and loc is\n",
    "        df approx loc approx d**2 / 2\n",
    "    where d is the distance from the 50% and 84% (or 16%) percentile as a proxy\n",
    "    when assuming gaussian like behaviour for the stddevs.\n",
    "    \"\"\"\n",
    "    # Get median mu\n",
    "    idx_med = None\n",
    "    for i, tsi in enumerate(ts):\n",
    "        cdfi, _ = weighted_cdf(x=tsi, val=ts_val, weights=None)\n",
    "        if cdfi < 0.5:\n",
    "            idx_med = i\n",
    "            break\n",
    "    if idx_med is None:\n",
    "        raise ValueError(\"Could not find median. \" +\n",
    "                         \"Too few trials or ts val wrong?\")\n",
    "    # Get stddev mu (84%)\n",
    "    idx_std = None\n",
    "    for i, tsi in enumerate(ts):\n",
    "        cdfi, _ = weighted_cdf(x=tsi, val=ts_val, weights=None)\n",
    "        if cdfi < 0.16:\n",
    "            idx_std = i\n",
    "            break\n",
    "    if idx_std is None:\n",
    "        raise ValueError(\"Could not find 16% percentile. \" +\n",
    "                         \"Too few trials or ts val wrong?\")\n",
    "    df = (mus[idx_std] - mus[idx_med])**2 / 2.\n",
    "    return df, mus[idx_med] - df"
   ]
  },
  {
   "cell_type": "markdown",
   "metadata": {
    "hidden": true
   },
   "source": [
    "Precalc values"
   ]
  },
  {
   "cell_type": "code",
   "execution_count": null,
   "metadata": {
    "hidden": true
   },
   "outputs": [],
   "source": [
    "# Sensitity = avg. UL and discorvery potential\n",
    "result[\"pvals\"] = np.array(result[\"pvals\"])\n",
    "exp_sigmas = prob2sigma(1. - result[\"pvals\"])\n",
    "sigmas = {\"sens\": len(tw_ids) * [0.],\n",
    "          \"disc\": len(tw_ids) * [5.],\n",
    "          \"lim\":  exp_sigmas}\n",
    "betas = {\"sens\": 0.9, \"disc\": 0.5, \"lim\":  0.9}\n",
    "\n",
    "# For each time window store the stats\n",
    "mu_bfs, cdfs, pars, flux_bfs = {}, {}, {}, {}\n",
    "for tw_id in tw_ids:\n",
    "    print(tw_id)\n",
    "    bg_pdf = bg_pdfs[tw_id]\n",
    "    perf = perf_trials[tw_id]\n",
    "    # Get the BG TS values for the desired betas\n",
    "    mu_bfs[tw_id], cdfs[tw_id], pars[tw_id], flux_bfs[tw_id] = {}, {}, {}, {}\n",
    "    for key in sigmas.keys():\n",
    "        bg_ts_val = bg_pdf.ppf(q=100. * sigma2prob(sigmas[key][tw_id]))\n",
    "        try:\n",
    "            df, loc = guess_chi2_cdf_seed(perf[\"mus\"], perf[\"ts\"], bg_ts_val)\n",
    "        except ValueError:\n",
    "            df, loc = 1, 1\n",
    "        # 90% UL (Needed signal for 90% over TS values of data result)\n",
    "        _out = fit_chi2_cdf(mus=perf[\"mus\"], ts=perf[\"ts\"],\n",
    "                            beta=betas[key], ts_val=bg_ts_val,\n",
    "                            p0=(df, loc, 1.), fscale=None)\n",
    "\n",
    "        mu_bfs[tw_id][key], cdfs[tw_id][key], pars[tw_id][key] = _out\n",
    "        flux_bfs[tw_id][key] = multi_sig_inj.mu2flux(mu_bfs[tw_id][key])"
   ]
  },
  {
   "cell_type": "markdown",
   "metadata": {
    "hidden": true
   },
   "source": [
    "Make the time windows vs. performance plots"
   ]
  },
  {
   "cell_type": "code",
   "execution_count": null,
   "metadata": {
    "hidden": true
   },
   "outputs": [],
   "source": [
    "# Diffuse flux to fluence curve\n",
    "def diff_flux(E):\n",
    "    \"\"\" Eight year diffuse fit, ICRC 2017 \"\"\"\n",
    "    phi0 = 1e-18  # In 1 / (GeV cm^2 sr s)\n",
    "    gamma = 2.19\n",
    "    E0 = 1e5      # 100 TeV\n",
    "    return phi0 * (E / E0)**-gamma\n",
    "\n",
    "# Tracks + Cascades, most optimistic case\n",
    "Nhese = 82\n",
    "# Optimistic 6 years full livetime to seconds\n",
    "livetime = 6. * 365.25 * 24. * 60. * 60\n",
    "# Transient HESE-like events per second per full sky\n",
    "density = Nhese / (4. * np.pi * livetime)  # 1 / (sr s)\n",
    "\n",
    "# Transform flux to fluence per source by integrating the flux over the livetime\n",
    "# and the full sky and dividing by the number of HESE events.\n",
    "# The time window size cancels in the integration and in the multiplication for\n",
    "# the density (4pi * Tw * phi_diff) / (dens * 4pi * Tw)\n",
    "diff_fluence_per_src = diff_flux(1e5) / density\n",
    "diff_fluence = diff_fluence_per_src * Nhese"
   ]
  },
  {
   "cell_type": "code",
   "execution_count": null,
   "metadata": {
    "hidden": true
   },
   "outputs": [],
   "source": [
    "delts = dt1s - dt0s\n",
    "log_delts = np.log10(delts)\n",
    "mids = 10**(0.5 * (log_delts[:-1] + log_delts[1:]))\n",
    "xerr_lo = np.r_[delts[0], mids] - delts\n",
    "xerr_hi = np.r_[mids, 2 * delts[-1]] - delts\n",
    "\n",
    "Nhese_tracks = 22\n",
    "E2w = (1e5)**2\n",
    "\n",
    "sens = np.array([v[\"sens\"] for v in flux_bfs.values()])   # / Nhese_tracks\n",
    "disc = np.array([v[\"disc\"] for v in flux_bfs.values()])   # / Nhese_tracks\n",
    "lim = np.array([v[\"lim\"] for v in flux_bfs.values()])     # / Nhese_tracks\n",
    "\n",
    "fs = latex_setup.make_figsize()\n",
    "fig, ax  = plt.subplots(1, 1, figsize=fs)\n",
    "\n",
    "ax.axhline(diff_fluence * E2w, 0, 1, ls=\"-\", c=\"#353132\", lw=1.5,\n",
    "           label=\"Diffuse fluence\\nfor $82$ events\")\n",
    "ax.errorbar(10**np.arange(1, 6), 5 * [diff_fluence * E2w], fmt=\",\",\n",
    "            yerr=diff_fluence * E2w / 5., uplims=True,\n",
    "            c=\"#353132\", lw=1.5, zorder=1)\n",
    "# ax.plot(delts, lim, c=\"#353132\", label=\"Exp. 90\\% UL\", marker=\"d\", ls=\"\",\n",
    "#         zorder=10)\n",
    "ax.errorbar(delts, lim, uplims=True, yerr=lim / 5.,\n",
    "            xerr=[-0.8*xerr_lo, 0.8*xerr_hi],\n",
    "            lw=2.5, c=\"#353132\", fmt=\"_\", ls=\"\",\n",
    "            label=\"Exp. 90\\% UL\", zorder=10)\n",
    "ax.plot(delts, sens, c=\"0.5\", lw=2.5, label=\"Sensitivity\", ls=\"-\")\n",
    "ax.plot(delts, disc, c=\"0.5\", lw=2.5, label=\"Discovery\\nPotential\", ls=\"--\")\n",
    "\n",
    "ax.set_xscale(\"log\")\n",
    "ax.set_yscale(\"log\")\n",
    "ax.set_xlim(delts[0], delts[-1] * 1.1)\n",
    "ax.set_xlabel(r\"Time window length in \\si{\\second}\")\n",
    "ax.set_ylabel(r\"$E^2\\Phi_0$ at $\\SI{100}{TeV}$ in \" + \n",
    "              r\"$\\si[per-mode=reciprocal]{\\GeV\\per\\cm\\squared}$\")\n",
    "ax.legend(loc=\"center left\", ncol=2)\n",
    "ax.grid(ls=\":\")\n",
    "ax.set_axisbelow(True)\n",
    "\n",
    "fig.tight_layout()\n",
    "save_fig(fig, \"plots/discussion_tdep/limits_vs_tw.pdf\", bbox_inches=\"tight\")\n",
    "plt.show()"
   ]
  },
  {
   "cell_type": "markdown",
   "metadata": {
    "heading_collapsed": true,
    "hidden": true
   },
   "source": [
    "### Chi2 fits"
   ]
  },
  {
   "cell_type": "markdown",
   "metadata": {
    "hidden": true
   },
   "source": [
    "Make the plot grid"
   ]
  },
  {
   "cell_type": "code",
   "execution_count": null,
   "metadata": {
    "hidden": true,
    "scrolled": true
   },
   "outputs": [],
   "source": [
    "ls = {\"lim\": \"-\"}\n",
    "c = {\"lim\": \"#353121\"}\n",
    "leg_labels = {\"lim\": \"Exp. 90\\% UL\"}\n",
    "\n",
    "try:\n",
    "    labsize = latex_setup.latex_settings[\"axes.labelsize\"] - 5\n",
    "    fs = latex_setup.make_figsize(scale=0.95, ratio=0.8)  # Full page\n",
    "except:\n",
    "    figsize = (5, 7.2)\n",
    "nrows, ncols = 7, 3\n",
    "fig, axs = plt.subplots(nrows, ncols, figsize=fs, sharey=True)\n",
    "\n",
    "# Plot chi2 fit curves per time window\n",
    "for tw_id in tw_ids[:]:\n",
    "    mus = perf_trials[tw_id][\"mus\"]\n",
    "    mu_bfs_tw = mu_bfs[tw_id]\n",
    "    flbfs = flux_bfs[tw_id]\n",
    "    cdf_tw = cdfs[tw_id]\n",
    "    pars_tw = pars[tw_id]\n",
    "\n",
    "    row, col = idx2rowcol(idx=tw_id, ncols=ncols)\n",
    "    ax = axs[row, col]\n",
    "        \n",
    "    # Get xmax value from largest mu bf in both sens. and disc. pot.\n",
    "    _mu_bf = {}\n",
    "    for key in leg_labels.keys():\n",
    "        _mu_bf[key] = mu_bfs_tw[key]\n",
    "    xmax = np.ceil(1.5 * max(list(_mu_bf.values())))\n",
    "    x = np.linspace(0, xmax, 500)\n",
    "\n",
    "    # For sens, disc\n",
    "    for key in leg_labels.keys():\n",
    "        y = scs.chi2.cdf(x, *pars_tw[key])\n",
    "\n",
    "        ax.axhline(betas[key], 0, 1, ls=\"-\", c=\"0.75\")\n",
    "        ax.axvline(_mu_bf[key], 0, 1, ls=\"-.\", c=c[key])\n",
    "\n",
    "        ax.plot(x, y, c=c[key], label=leg_labels[key], zorder=9)\n",
    "        ax.plot(mus, 1. - cdf_tw[key],\n",
    "                marker=\"o\", c=c[key], ls=\"\", zorder=10, ms=3)\n",
    "    title = r\"Time window {:d}\".format(tw_id + 1)\n",
    "    ax.text(x=0.5, y=1.05, s=title, fontsize=labsize + 1,\n",
    "            va=\"bottom\", ha=\"center\", transform=ax.transAxes)\n",
    "    ax.set_yticks([0, 0.5, 1])\n",
    "    ax.set_yticklabels([r\"$0$\", r\"$\\frac{1}{2}$\", r\"$1$\"])\n",
    "    ax.set_xlim(0, xmax)\n",
    "    ax.set_ylim(0, 1)\n",
    "    if (row == nrows - 1):\n",
    "        ax.set_xlabel(r\"Signal evts. $\\mu$\", fontsize=labsize + 1)\n",
    "    if col == 0:\n",
    "        ax.set_ylabel(\"CDF\", fontsize=labsize + 1)\n",
    "    \n",
    "fig.tight_layout(h_pad=0.25, w_pad=0.25)\n",
    "save_fig(fig, \"plots/discussion_tdep/limits_vs_tw_chi2_fits.pdf\",\n",
    "         bbox_inches=\"tight\")\n",
    "plt.show()"
   ]
  },
  {
   "cell_type": "markdown",
   "metadata": {
    "heading_collapsed": true
   },
   "source": [
    "## UL scan in gamma"
   ]
  },
  {
   "cell_type": "markdown",
   "metadata": {
    "hidden": true
   },
   "source": [
    "Trials were injected for multiple gammas and time windows but always tested against the best fit model.\n",
    "\n",
    "Because the largest time window was the best fit one, the curves doesn't vary with time window length, because when injecting in a smaller window but testing with a larger one, doesn't worsen the performance, because no additional separation power comes from the uniform time windows.\n",
    "\n",
    "Here, a plot phi0 UL at 100 TeV vs. gamma is done, always for the largest time windows, as the time dependency is rather uninformative..."
   ]
  },
  {
   "cell_type": "code",
   "execution_count": null,
   "metadata": {
    "hidden": true
   },
   "outputs": [],
   "source": [
    "%%time\n",
    "# ######################################################\n",
    "# Only load for tw_id = 20 (largest time window)\n",
    "tw_id = 20\n",
    "dt0, dt1 = loader.time_window_loader(idx=tw_id)\n",
    "dt = dt1 - dt0\n",
    "\n",
    "# Load gamma scan global trials\n",
    "gamma_trials = []\n",
    "path = os.path.join(PATHS.data, \"limits_healpy\")\n",
    "files = glob(os.path.join(path, \"tw_20_gamma_*.json.gz\"))\n",
    "for f in sorted(files):\n",
    "    with gzip.open(f) as fp:\n",
    "        perf = json.load(fp)\n",
    "    gamma_trials.append(perf)\n",
    "\n",
    "# Prepare gamma limits for calculations\n",
    "gammas = np.array([p[\"gamma\"] for p in gamma_trials])\n",
    "flux_bfs = np.array([p[\"flux_bf\"] for p in gamma_trials])  # At 1GeV\n",
    "idx = np.argsort(gammas)\n",
    "gammas = gammas[idx]\n",
    "flux_bfs = flux_bfs[idx]\n",
    "    \n",
    "# #######################################################\n",
    "# Load differential trials to show most sensitive regions per gamma\n",
    "sig_inj_type = \"healpy\"\n",
    "diff_trials = loader.perf_trials_loader(\n",
    "    sig_inj_type, diff=True, idx=tw_id)[tw_id]\n",
    "\n",
    "# BG pdfs and result for the ts value on data\n",
    "bg_pdf = loader.bg_pdf_loader(tw_id)[tw_id]\n",
    "with open(os.path.join(PATHS.local, \"unblinding\", \"result.json\")) as fp:\n",
    "    result = json.load(fp)\n",
    "    \n",
    "print(\":: Done ::\")"
   ]
  },
  {
   "cell_type": "code",
   "execution_count": null,
   "metadata": {
    "code_folding": [
     0,
     8,
     11,
     15,
     55,
     92,
     102
    ],
    "hidden": true
   },
   "outputs": [],
   "source": [
    "def round_to_decade(f, way=\"ceil\"):\n",
    "    if way == \"ceil\":\n",
    "        return 10**(np.ceil(np.log10(f)))\n",
    "    elif way == \"floor\":\n",
    "        return 10**(np.floor(np.log10(f)))\n",
    "    else:\n",
    "        raise ValueError(\"'way\")\n",
    "        \n",
    "def weight_Egamma(enu, flux, gamma=2.):\n",
    "    return enu**gamma * flux\n",
    "\n",
    "def fluxatE0(flux, E0, E0new, gamma=2.):\n",
    "    \"\"\" Base power law flux on a different reference energy. \"\"\"\n",
    "    return flux * (E0new / E0)**-gamma\n",
    "\n",
    "def fit_all_chi2_params(mus, ts, ts_bf, beta, seed_override_dict=None):\n",
    "    \"\"\"\n",
    "    Wrapper to fit the chi2 params for all bins.\n",
    "    \"\"\"\n",
    "    out, seeds = [], []   \n",
    "    for i in range(len(ts)):\n",
    "        # Per default, fit df, loc and scale with auto derived seeds.\n",
    "        # Can be overridden with seed_override_dict[i] per bin\n",
    "        fscale = None\n",
    "        # tw 20 includes post processed trials with different mus.\n",
    "        mus_ = mus[i]\n",
    "        try:\n",
    "            len(mus_)\n",
    "        except:\n",
    "            mus_ = mus\n",
    "        # Guess a p0 if no override was given\n",
    "        try:\n",
    "            seed, fscale = seed_override_dict[i]\n",
    "            print(\"Seed override for i={}:\\n  \".format(i) +\n",
    "                  \"{}, fscale: {}\".format(seed, fscale))\n",
    "        except:\n",
    "            try:\n",
    "                df, loc = guess_chi2_cdf_seed(mus_, ts[i], ts_bf)\n",
    "            except ValueError:\n",
    "                df, loc = 1, 1\n",
    "            seed = (df, loc, 1.)\n",
    "        # Format: _out = [best fit mu, [cdf vals], [fitted chi2 pars])\n",
    "        _out = fit_chi2_cdf(mus=mus_, ts=ts[i], beta=beta, ts_val=ts_bf,\n",
    "                            p0=seed, fscale=fscale)\n",
    "        # Manually append fscale if used\n",
    "        if fscale is not None:\n",
    "            _out = (_out[0], _out[1], [_out[2][0], _out[2][1], fscale])\n",
    "        out.append(_out)\n",
    "        # seeds.append(seed)\n",
    "\n",
    "    mu_bfs = np.array([o[0] for o in out])\n",
    "    cdfs = np.array([o[1] for o in out])\n",
    "    pars = np.array([o[2] for o in out])\n",
    "    return mu_bfs, cdfs, pars\n",
    "\n",
    "def guess_chi2_cdf_seed(mus, ts, ts_val):\n",
    "    \"\"\"\n",
    "    When fitting a chi2 CDF to x=mus and y=cdfs, with df and loc (scale fixed,\n",
    "    because it is degenerate to df), this finds a reasonable seed.\n",
    "    From wikipedia (df = k) for larger k >> 2:\n",
    "        Mean = k\n",
    "        Median approx k (1 - 2 / (9k))^3\n",
    "        Variance = 2k\n",
    "    Also, loc = df for large k, because the median formula tends to k.\n",
    "    This means, a resonable first guess proxy for the df and loc is\n",
    "        df approx loc approx d**2 / 2\n",
    "    where d is the distance from the 50% and 84% (or 16%) percentile as a proxy\n",
    "    when assuming gaussian like behaviour for the stddevs.\n",
    "    \"\"\"\n",
    "    # Get median mu\n",
    "    idx_med = None\n",
    "    for i, tsi in enumerate(ts):\n",
    "        cdfi, _ = weighted_cdf(x=tsi, val=ts_val, weights=None)\n",
    "        if cdfi < 0.5:\n",
    "            idx_med = i\n",
    "            break\n",
    "    if idx_med is None:\n",
    "        raise ValueError(\"Could not find median. \" +\n",
    "                         \"Too few trials or ts val wrong?\")\n",
    "    # Get stddev mu (84%)\n",
    "    idx_std = None\n",
    "    for i, tsi in enumerate(ts):\n",
    "        cdfi, _ = weighted_cdf(x=tsi, val=ts_val, weights=None)\n",
    "        if cdfi < 0.16:\n",
    "            idx_std = i\n",
    "            break\n",
    "    if idx_std is None:\n",
    "        raise ValueError(\"Could not find 16% percentile. \" +\n",
    "                         \"Too few trials or ts val wrong?\")\n",
    "    df = (mus[idx_std] - mus[idx_med])**2 / 2.\n",
    "    return df, mus[idx_med] - df\n",
    "\n",
    "def power_law_integral(logE_bins, gamma, phi0, E0):\n",
    "    \"\"\" int_a^b f(E) dE with f(E) = phi0 * (E / E0)**-gamma \"\"\"\n",
    "    Elo, Ehi = 10**logE_bins[:-1], 10**logE_bins[1:]\n",
    "    if gamma == 1.:\n",
    "        res = phi0 * E0 * (np.log10(Ehi / E0) - np.log10(Elo / E0))\n",
    "    else:\n",
    "        res = phi0 / (gamma - 1.)\n",
    "        res *= (Elo * (Elo / E0)**-gamma - Ehi * (Ehi / E0)**-gamma)\n",
    "    return res\n",
    "\n",
    "def get_power_law_ints(logE_bins, phi0s, E0s, gammas):\n",
    "    ints = []\n",
    "    for i in range(len(logE_bins) - 1):\n",
    "        ints.append(power_law_integral(E0=E0s[i], gamma=gammas[i],\n",
    "                                       logE_bins=logE_bins, phi0=phi0s[i]))\n",
    "    return ints\n",
    "\n",
    "def get_global_norm_from_diff_perf(integral_weights):\n",
    "    return 1. / np.sum(integral_weights)\n",
    "\n",
    "def get_global_mu_from_diff_perf(mus, integral_weights):\n",
    "    return np.sum(mus * w / np.sum(integral_weights))"
   ]
  },
  {
   "cell_type": "markdown",
   "metadata": {
    "hidden": true
   },
   "source": [
    "Calc the differential sensitivity, limits and discovery potential"
   ]
  },
  {
   "cell_type": "code",
   "execution_count": null,
   "metadata": {
    "hidden": true
   },
   "outputs": [],
   "source": [
    "diff_mu_bfs, diff_cdfs, diff_pars, diff_flux_bfs = {}, {}, {}, {}\n",
    "\n",
    "# Sensitity = avg. UL and discorvery potential\n",
    "exp_sigma = prob2sigma(1. - bg_pdf.sf(result[\"ts\"][tw_id]))[0]\n",
    "sigmas = {\"sens\": 0., \"lim\": exp_sigma, \"disc\":  5.}\n",
    "betas = {\"sens\": 0.9, \"lim\": 0.9, \"disc\":  0.5}\n",
    "\n",
    "# Override seed [(df, loc), fscale] or [(df, loc, scale), None] per tw id per key\n",
    "override_seed = {\"lim\": {0: [(1, 1), 0.4]}}  \n",
    "\n",
    "# Get the BG TS values for the desired betas\n",
    "diff_mu_bfs, diff_cdfs, diff_pars, diff_flux_bfs = {}, {}, {}, {}\n",
    "for key in sigmas.keys():\n",
    "    print(key)\n",
    "    seed_override_dict = override_seed.get(key, None)\n",
    "    \n",
    "    bg_ts_val = bg_pdf.ppf(q=100. * sigma2prob(sigmas[key]))\n",
    "    diff_mu_bfs[key], diff_cdfs[key], diff_pars[key] = fit_all_chi2_params(\n",
    "        diff_trials[\"mus\"], diff_trials[\"ts\"], bg_ts_val, betas[key],\n",
    "        seed_override_dict)\n",
    "    diff_flux_bfs[key] = multi_sig_inj.mu2flux(np.array(diff_mu_bfs[key]))"
   ]
  },
  {
   "cell_type": "markdown",
   "metadata": {
    "hidden": true
   },
   "source": [
    "Make the weight PDFs (inverse diff. Limits) and 90% intervals"
   ]
  },
  {
   "cell_type": "code",
   "execution_count": null,
   "metadata": {
    "hidden": true
   },
   "outputs": [],
   "source": [
    "# Injection gamma for differential trials\n",
    "gamma_diff_inj = 2.\n",
    "\n",
    "bins = diff_trials[\"log_E_bins\"]\n",
    "diff_fluxes = diff_flux_bfs[\"lim\"]  # From the diff. trials at 1GeV\n",
    "\n",
    "int_weights, int_ws_norm = [], []\n",
    "lo_ints, hi_ints = [], []\n",
    "lo_idxs, hi_idxs = [], []\n",
    "lo_ms, hi_ms = [], []\n",
    "for i, gi in enumerate(gammas):\n",
    "    # Get combination weigths\n",
    "    pli_orig = power_law_integral(\n",
    "        E0=1., gamma=gamma_diff_inj, logE_bins=bins, phi0=1.)\n",
    "    # phi0 = 1 to have the c0 scaling directly comparable to phi0 = diff_fluxes\n",
    "    pli_new = power_law_integral(E0=1., gamma=gi, logE_bins=bins, phi0=1)\n",
    "    w = pli_new / (diff_fluxes * pli_orig)\n",
    "    int_weights.append(w)\n",
    "    \n",
    "    # Norm to PDF\n",
    "    dE = np.diff(bins) \n",
    "    w = w / np.sum(w) / dE\n",
    "    int_ws_norm.append(w)\n",
    "\n",
    "    # Mark 90% central interval in weight PDF\n",
    "    w_cdf = np.cumsum(w * dE)\n",
    "    lo_ms.append(w_cdf > 0.05)\n",
    "    hi_ms.append(w_cdf < 0.95)\n",
    "    lo_idxs.append(np.where(lo_ms[-1])[0][0])\n",
    "    hi_idxs.append(np.where(hi_ms[-1])[0][-1])\n",
    "    lo_ints.append(bins[lo_idxs[-1]])\n",
    "    hi_ints.append(bins[hi_idxs[-1] + 1])"
   ]
  },
  {
   "cell_type": "markdown",
   "metadata": {
    "heading_collapsed": true,
    "hidden": true
   },
   "source": [
    "### Plot logE dependent limits for selected gammas"
   ]
  },
  {
   "cell_type": "markdown",
   "metadata": {
    "hidden": true
   },
   "source": [
    "Note: Because the power law is fixed at E^-2, the E2 weighting, does not need to be explicitely done.\n",
    "The flux norm at 1GeV is the same numerical value as the on at 100TeV weighted with 100TeV^2 (E^-2 is flat in E2 weighting)."
   ]
  },
  {
   "cell_type": "code",
   "execution_count": null,
   "metadata": {
    "hidden": true
   },
   "outputs": [],
   "source": [
    "# Select a subset of gammas to plot\n",
    "gammas_sub = [1.5, 2., 2.5]\n",
    "sub_idx = np.where([gammas == g for g in gammas_sub])[1]\n",
    "print(\"Plotting gammas: \", sub_idx)"
   ]
  },
  {
   "cell_type": "markdown",
   "metadata": {
    "hidden": true
   },
   "source": [
    "Plot the weight PDFs per gamma"
   ]
  },
  {
   "cell_type": "code",
   "execution_count": null,
   "metadata": {
    "hidden": true
   },
   "outputs": [],
   "source": [
    "c = [\"0.0\", \"0.5\", \"0.35\"]\n",
    "\n",
    "fs = latex_setup.make_figsize()\n",
    "fig, ax = plt.subplots(1, 1, figsize=fs)\n",
    "ylim_min = 1e-2\n",
    "\n",
    "for j, gamma_i in enumerate(gammas_sub):\n",
    "    i = sub_idx[j]\n",
    "   \n",
    "    # Truncate manually for log plot for pgf out\n",
    "    yvals = np.r_[int_ws_norm[i][0], int_ws_norm[i]]\n",
    "    mask = (yvals < ylim_min)\n",
    "    yvals[mask] = ylim_min // 10.\n",
    "    \n",
    "    ax.vlines(lo_ints[i], ylim_min, yvals[1:][lo_idxs[i]],\n",
    "              linestyles=\"--\", colors=c[j], zorder=-1)\n",
    "    ax.vlines(hi_ints[i], ylim_min, yvals[1:][hi_idxs[i]],\n",
    "              linestyles=\"--\", color=c[j], zorder=-1)\n",
    "    \n",
    "    ax.plot(bins, yvals, drawstyle=\"steps-pre\",\n",
    "            color=c[j], label=r\"$\\gamma={:.1f}$\".format(gamma_i))\n",
    "    sl = slice(lo_idxs[i], hi_idxs[i] + 2, 1)\n",
    "    ax.fill_between(bins[sl], ylim_min, yvals[sl],\n",
    "                    color=\"C7\", step=\"pre\", alpha=.25)\n",
    "    \n",
    "ax.set_xlabel(r\"$\\log_{10}(E_\\nu\\, /\\, \\mathrm{GeV})$\")\n",
    "ax.set_ylabel(\"PDF\")\n",
    "ax.set_title(r\"Injected $\\gamma={:.0f}$\".format(gamma_diff_inj))\n",
    "ax.set_xlim(2, 9)\n",
    "ax.set_yscale(\"log\")\n",
    "ax.set_ylim(ylim_min, 5e0)\n",
    "# ax.set_ylim(0, None)\n",
    "ax.legend(loc=\"upper center\", ncol=3)\n",
    "\n",
    "fig.tight_layout()\n",
    "save_fig(fig, \"plots/discussion_tdep/diff_weights.pdf\", bbox_inches=\"tight\")\n",
    "plt.show()"
   ]
  },
  {
   "cell_type": "markdown",
   "metadata": {
    "hidden": true
   },
   "source": [
    "Plot global upper limits from global trials and proper ranges from the differential trials"
   ]
  },
  {
   "cell_type": "code",
   "execution_count": null,
   "metadata": {
    "hidden": true
   },
   "outputs": [],
   "source": [
    "def power_law(E, phi0, E0, gamma):\n",
    "    return phi0 * (E / E0)**-gamma\n",
    "\n",
    "gamma_weight = 2.  # E2 weighted fluxes\n",
    "\n",
    "fs = latex_setup.make_figsize()\n",
    "fig, ax = plt.subplots(1, 1, figsize=fs)\n",
    "\n",
    "for j, gamma_i in enumerate(gammas_sub):\n",
    "    i = sub_idx[j]\n",
    "    \n",
    "    # Here we can directly get the gloval limit from the direct trials\n",
    "    # c0 = get_global_norm_from_diff_perf(integral_weights=int_weights[i])\n",
    "    c0 = flux_bfs[i]\n",
    "    \n",
    "    x = np.logspace(lo_ints[i], hi_ints[i], 100)\n",
    "    y = weight_Egamma(\n",
    "        x, power_law(x, c0, E0=1., gamma=gamma_i), gamma=gamma_weight)\n",
    "    \n",
    "    x_dash = np.logspace(2, 9, 100)\n",
    "    y_dash = weight_Egamma(\n",
    "        x_dash, power_law(x_dash, c0, E0=1., gamma=gamma_i), gamma=gamma_weight)\n",
    "    \n",
    "    xerr = np.logspace(np.log10(x[0]), np.log10(x[-1]), 5)\n",
    "    yerr = weight_Egamma(\n",
    "        xerr, power_law(xerr, c0, E0=1., gamma=gamma_i), gamma=gamma_weight)\n",
    "    \n",
    "    ax.plot(x_dash, y_dash, c=c[j], ls=\"--\", lw=1.5, zorder=-1)\n",
    "    ax.plot(x, y, c=c[j], label=r\"$\\gamma={:.1f}$\".format(gamma_i), lw=2.5)\n",
    "    ax.errorbar(xerr, yerr, yerr=yerr / 5., uplims=True, fmt=\",\", color=c[j])\n",
    "       \n",
    "ax.set_xscale(\"log\")\n",
    "ax.set_yscale(\"log\")\n",
    "ax.set_xlabel(r\"$E_\\nu$ in $\\mathrm{GeV}$\")\n",
    "plt.title(\"Time window {}\".format(tw_id + 1))\n",
    "ax.set_ylabel(r\"$E^2\\Phi$ in $\\si[per-mode=reciprocal]{\\GeV\\per\\cm\\squared}$\")\n",
    "ax.set_xlim(1e2, 1e9)\n",
    "ax.set_ylim(5e-2, 5e1)  # Manual limits\n",
    "ax.legend(ncol=3, loc=\"upper center\")\n",
    "\n",
    "fig.tight_layout()\n",
    "save_fig(fig, \"plots/discussion_tdep/limits_gamma_logE.pdf\",\n",
    "         bbox_inches=\"tight\")\n",
    "plt.show()"
   ]
  },
  {
   "cell_type": "markdown",
   "metadata": {
    "heading_collapsed": true,
    "hidden": true
   },
   "source": [
    "### Plot gamma vs flux norm"
   ]
  },
  {
   "cell_type": "code",
   "execution_count": null,
   "metadata": {
    "hidden": true
   },
   "outputs": [],
   "source": [
    "dgamma = np.diff(mplt.get_bins_from_mids(gammas)) / 2.\n",
    "\n",
    "fs = latex_setup.make_figsize(ratio=2.5)\n",
    "fig, axs = plt.subplots(1, 2, figsize=fs)\n",
    "\n",
    "# At 1 GeV on the left, at 100 TeV on the right\n",
    "ylabels = [r\"$E^2\\Phi_0$ at $\\SI{1}{\\GeV}$\", r\"$E^2\\Phi_0$ at $\\SI{100}{\\TeV}$\"]\n",
    "yerr_scale = (1.5, 3.)\n",
    "for i, E0new in enumerate([1e0, 1e5]):\n",
    "    ax = axs[i]\n",
    "    fluxes = np.array([weight_Egamma(\n",
    "        E0new, fluxatE0(flx, E0=1., E0new=E0new, gamma=g), gamma=2.)\n",
    "                       for flx, g in zip(flux_bfs, gammas)])\n",
    "\n",
    "    ax.axhline(fluxes[gammas == 2.], 0, 1, ls=\"-\", c=\"0.6\")\n",
    "    ax.axvline(2., 0, 1, ls=\"-\", c=\"0.6\")\n",
    "\n",
    "    ax.plot(gammas, fluxes, c=\"#353132\")\n",
    "    sl = slice(1, -1, 2)\n",
    "    ax.errorbar(gammas[sl], fluxes[sl], uplims=True,\n",
    "                yerr=fluxes[sl] / yerr_scale[i],\n",
    "                xerr=[-0.8*dgamma[sl], 0.8*dgamma[sl]],\n",
    "                lw=2, c=\"#353132\", fmt=\",\", ls=\"\",\n",
    "                label=\"Exp. 90\\% UL\", zorder=10)\n",
    "\n",
    "    ax.set_ylim(round_to_decade(np.amin(fluxes), \"floor\"),\n",
    "                round_to_decade(np.amax(fluxes), \"ceil\"))\n",
    "    ax.set_ylabel(ylabels[i])\n",
    "\n",
    "# Common\n",
    "for ax in axs:\n",
    "    ax.set_xlabel(r\"$\\gamma$\")\n",
    "    ax.set_yscale(\"log\")\n",
    "    ax.set_xlim(gammas[0] - dgamma[0], gammas[-1] + dgamma[-1])\n",
    "    ax.set_xticks(np.arange(gammas[0], gammas[-1] + 0.5, 0.5))    \n",
    "    ax.grid(ls=\":\")\n",
    "\n",
    "fig.tight_layout()\n",
    "save_fig(fig, \"plots/discussion_tdep/limits_norm_vs_gammas.pdf\",\n",
    "         bbox_inches=\"tight\")\n",
    "plt.show()"
   ]
  },
  {
   "cell_type": "code",
   "execution_count": null,
   "metadata": {
    "hidden": true
   },
   "outputs": [],
   "source": []
  }
 ],
 "metadata": {
  "hide_input": false,
  "kernelspec": {
   "display_name": "Python 2 (OSX)",
   "language": "python",
   "name": "python2"
  },
  "language_info": {
   "codemirror_mode": {
    "name": "ipython",
    "version": 2
   },
   "file_extension": ".py",
   "mimetype": "text/x-python",
   "name": "python",
   "nbconvert_exporter": "python",
   "pygments_lexer": "ipython2",
   "version": "2.7.10"
  }
 },
 "nbformat": 4,
 "nbformat_minor": 2
}

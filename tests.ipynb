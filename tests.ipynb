{
 "cells": [
  {
   "cell_type": "code",
   "execution_count": null,
   "metadata": {
    "collapsed": true
   },
   "outputs": [],
   "source": [
    "import numpy\n",
    "import matplotlib.pyplot as plt\n",
    "import matplotlib.dates as mpldates\n",
    "%matplotlib inline\n",
    "import scipy.interpolate as sci\n",
    "import scipy.optimize as sco\n",
    "import json\n",
    "from astropy.time import Time as astrotime\n",
    "import datetime"
   ]
  },
  {
   "cell_type": "markdown",
   "metadata": {},
   "source": [
    "# Load data\n",
    "\n",
    "Load IC86 data from epinat, which should be the usual IC86-I (2011) PS sample, but pull corrected and OneWeights corrected by number of events generated."
   ]
  },
  {
   "cell_type": "code",
   "execution_count": null,
   "metadata": {
    "collapsed": true
   },
   "outputs": [],
   "source": [
    "exp = np.load(\"data/IC86_I_data.npy\")\n",
    "mc = np.load(\"data/IC86_I_mc.npy\")"
   ]
  },
  {
   "cell_type": "markdown",
   "metadata": {},
   "source": [
    "# Get data livetime\n",
    "\n",
    "Generate from good run list as stated here:\n",
    "- http://icecube.wisc.edu/~coenders/html/build/html/ic86-bdt/muonL3.html\n",
    "- https://wiki.icecube.wisc.edu/index.php/IC86_I_Point_Source_Analysis/Data_and_Simulation\n",
    "\n",
    "It should be 332.61 days as stated by jefeintzeig and scoenders.\n",
    "We create one bin per included run, with exactly that width.\n",
    "Excluded runs are those with too high/low rate and without everything marked \"good\".\n",
    "\n",
    "Livetime ist a bit higher, because we used a newer runlist from iclive instead of the old non-json v1.4.\n",
    "See M&F folder for a script that parses that list."
   ]
  },
  {
   "cell_type": "code",
   "execution_count": null,
   "metadata": {
    "collapsed": true
   },
   "outputs": [],
   "source": [
    "jsonFile = open('data/ic86-i-goodrunlist.json', 'r')\n",
    "grlist = json.load(jsonFile)\n",
    "jsonFile.close()"
   ]
  },
  {
   "cell_type": "code",
   "execution_count": null,
   "metadata": {
    "collapsed": true
   },
   "outputs": [],
   "source": [
    "# This is a list of dicts (one dict per run)\n",
    "runs = grlist[\"runs\"]\n",
    "# This is a dict of arrays (all run values in an array per keyword)\n",
    "run_dict = dict(zip(runs[0].keys(), zip(*[r.values() for r in runs])))\n",
    "for k in run_dict.keys():\n",
    "    run_dict[k] = np.array(run_dict[k])"
   ]
  },
  {
   "cell_type": "code",
   "execution_count": null,
   "metadata": {},
   "outputs": [],
   "source": [
    "# Now compile runs as stated on jfenitzeigs page\n",
    "\n",
    "# Transform livetimes to MJD floats\n",
    "start_mjd = astrotime(run_dict[\"good_tstart\"]).mjd\n",
    "stop_mjd = astrotime(run_dict[\"good_tstop\"]).mjd\n",
    "\n",
    "# Create recarry to apply mask, only keep start, stop and runID\n",
    "dtype = [(\"start_mjd\", np.float), (\"stop_mjd\", np.float), (\"runID\", np.int)]\n",
    "run_arr = np.array(list(zip(start_mjd, stop_mjd, run_dict[\"run\"])), dtype=dtype)\n",
    "\n",
    "# Note: The last 2 runs aren't included anyway, so he left them out in\n",
    "# the reported run list. This fits here, as the other 4 runs are found\n",
    "# in the list.\n",
    "exclude_rate = [120028, 120029, 120030, 120087, 120156, 120157]\n",
    "i3good = run_dict[\"good_i3\"] == True\n",
    "itgood = run_dict[\"good_it\"] == True\n",
    "ratebad = np.in1d(run_dict[\"run\"], exclude_rate)\n",
    "\n",
    "# Include if it & i3 good and rate is good\n",
    "include = i3good & itgood & ~ratebad\n",
    "inc_run_arr = run_arr[include]\n",
    "\n",
    "# Get the total and per run livetimes in mjd\n",
    "runtimes_mjd = inc_run_arr[\"stop_mjd\"] - inc_run_arr[\"start_mjd\"]\n",
    "livetime = np.sum(runtimes_mjd)\n",
    "\n",
    "print(\"IC86-I livetime from v1.5 (iclive): \", livetime)\n",
    "\n",
    "# Use the official livetime for the rest\n",
    "livetime = 332.61"
   ]
  },
  {
   "cell_type": "markdown",
   "metadata": {},
   "source": [
    "# Bin BG according to runlist\n",
    "\n",
    "Each run is one bin in the bg rate vs time plot.\n",
    "The rate is normed to Hertz by dividing through the bin sizes in seconds."
   ]
  },
  {
   "cell_type": "code",
   "execution_count": null,
   "metadata": {},
   "outputs": [],
   "source": [
    "# Store events in bins with run borders\n",
    "exp_times = exp[\"timeMJD\"]\n",
    "start_mjd = inc_run_arr[\"start_mjd\"]\n",
    "stop_mjd = inc_run_arr[\"stop_mjd\"]\n",
    "\n",
    "tot = 0\n",
    "evts_in_run = {}\n",
    "for start, stop , runid in zip(start_mjd, stop_mjd, inc_run_arr[\"runID\"]):\n",
    "    mask = (exp_times >= start) & ( exp_times < stop)\n",
    "    evts_in_run[runid] = exp[mask]\n",
    "    tot += np.sum(mask)\n",
    "    \n",
    "# Crosscheck, if we got all events and counted nothing double\n",
    "print(\"Do we have all events? \", tot == len(exp))"
   ]
  },
  {
   "cell_type": "code",
   "execution_count": null,
   "metadata": {},
   "outputs": [],
   "source": [
    "# Create binmids and histogram values in each bin\n",
    "binmids = 0.5 * (start_mjd + stop_mjd)\n",
    "h = np.zeros(len(binmids), dtype=np.float)\n",
    "\n",
    "for i, evts in enumerate(evts_in_run.values()):\n",
    "    h[i] = len(evts)\n",
    "    \n",
    "# Create plot arrays\n",
    "xerr = runtimes_mjd / 2.\n",
    "yerr = np.sqrt(h)\n",
    "\n",
    "# Show in Hertz, so go from MJD days to seconds in bin widths\n",
    "secsinday = 24. * 60. * 60\n",
    "norm = (stop_mjd - start_mjd) * secsinday\n",
    "h_norm = h / norm\n",
    "# Poisson errors just get scaled\n",
    "yerr_norm = yerr / norm\n",
    "\n",
    "# Fit a poly to the rate\n",
    "weights = np.ones_like(yerr)\n",
    "weights[yerr_norm == 0] = 0\n",
    "weights[yerr_norm != 0] = 1 / yerr[yerr_norm != 0]\n",
    "def f(x, a, b, c):\n",
    "    return np.sin(a * (x - b)) + c\n",
    "normed = (binmids - binmids.min()) / (binmids.max() - binmids.min())\n",
    "res = sco.curve_fit(f=f, xdata=normed, ydata=h_norm, p0=[0.001, 0., 0.005], sigma=1/weights)"
   ]
  },
  {
   "cell_type": "code",
   "execution_count": null,
   "metadata": {},
   "outputs": [],
   "source": [
    "plt.plot(normed, f(normed, *res[0]))"
   ]
  },
  {
   "cell_type": "code",
   "execution_count": null,
   "metadata": {
    "scrolled": false
   },
   "outputs": [],
   "source": [
    "# Plot like mrichman did on p. 113\n",
    "fig, ax = plt.subplots(1, 1)\n",
    "\n",
    "# Show dates on x axis\n",
    "datetimes = astrotime(binmids, format=\"mjd\").to_datetime()\n",
    "dates = mpldates.date2num([dt.date() for dt in datetimes])\n",
    "\n",
    "# Every month, first day\n",
    "months = mpldates.MonthLocator(bymonth=np.arange(1, 13), bymonthday=1)\n",
    "monthsFmt = mpldates.DateFormatter(\"%b %Y\")\n",
    "ax.xaxis.set_major_locator(months)\n",
    "ax.xaxis.set_major_formatter(monthsFmt)\n",
    "\n",
    "ax.errorbar(dates, h_norm, fmt=\".\", xerr=xerr, yerr=yerr_norm)\n",
    "ax.set_xlabel(\"Date\")\n",
    "ax.set_ylabel(\"Rate in HZ\")\n",
    "ax.set_xlim(dates[0], dates[-1])\n",
    "\n",
    "# Plot polyfit\n",
    "delta_days = (datetimes[-1] - datetimes[0]).days\n",
    "xdatetimes = [datetimes[0] + datetime.timedelta(days=int(x))for x in\n",
    "              np.arange(0, delta_days)]\n",
    "xtimes_mjd = astrotime(xdatetimes).mjd\n",
    "normed = (xtimes_mjd - binmids.min()) / (binmids.max() - binmids.min())\n",
    "y = f(normed, *res[0])\n",
    "xdates = mpldates.date2num([xd.date() for xd in xdatetimes])\n",
    "ax.plot(xdates, y, \"r-\", zorder=5)\n",
    "ax.axhline(np.average(h_norm, weights=weights), 0, 1, color=\"k\", ls=\"--\", zorder=5)\n",
    "\n",
    "# Autoprettify main xlabels\n",
    "fig.autofmt_xdate(rotation=60)\n",
    "\n",
    "# Show mjd on top\n",
    "def ax2ticker(x):\n",
    "    dates = mpldates.num2date(x)\n",
    "    mjd = astrotime(dates).mjd\n",
    "    return mjd\n",
    "ax2 = ax.twiny()\n",
    "ax2.set_xticks(ax.get_xticks())\n",
    "ax2.set_xbound(ax.get_xbound())\n",
    "ax2.set_xticklabels(ax2ticker(ax.get_xticks()),\n",
    "                    rotation=60, horizontalalignment=\"left\")\n",
    "ax2.set_xlabel(\"MJD\")"
   ]
  }
 ],
 "metadata": {
  "hide_input": false,
  "kernelspec": {
   "display_name": "Python 3",
   "language": "python",
   "name": "python3"
  },
  "language_info": {
   "codemirror_mode": {
    "name": "ipython",
    "version": 3
   },
   "file_extension": ".py",
   "mimetype": "text/x-python",
   "name": "python",
   "nbconvert_exporter": "python",
   "pygments_lexer": "ipython3",
   "version": "3.6.1"
  }
 },
 "nbformat": 4,
 "nbformat_minor": 2
}
